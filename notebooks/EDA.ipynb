{
 "cells": [
  {
   "cell_type": "code",
   "execution_count": 1,
   "id": "3a524280",
   "metadata": {},
   "outputs": [],
   "source": [
    "import pandas as pd\n",
    "import numpy as np \n",
    "import matplotlib.pyplot as plt \n",
    "import seaborn as sns \n",
    "from matplotlib.gridspec import GridSpec\n",
    "import data_clean_utility\n",
    "from scipy.stats import chi2_contingency, f_oneway, jarque_bera, probplot \n",
    "import plotly.express as px "
   ]
  },
  {
   "cell_type": "code",
   "execution_count": 2,
   "id": "ae3f5abf",
   "metadata": {},
   "outputs": [],
   "source": [
    "df = pd.read_csv('swiggy.csv')"
   ]
  },
  {
   "cell_type": "code",
   "execution_count": 3,
   "id": "29d22030",
   "metadata": {},
   "outputs": [],
   "source": [
    "data_clean_utility.perform_data_cleaning(df)"
   ]
  },
  {
   "cell_type": "code",
   "execution_count": 4,
   "id": "e2d868a7",
   "metadata": {},
   "outputs": [],
   "source": [
    "df_final = pd.read_csv('swiggy_cleaned.csv')"
   ]
  },
  {
   "cell_type": "code",
   "execution_count": 5,
   "id": "8f5aa931",
   "metadata": {},
   "outputs": [
    {
     "data": {
      "text/html": [
       "<div>\n",
       "<style scoped>\n",
       "    .dataframe tbody tr th:only-of-type {\n",
       "        vertical-align: middle;\n",
       "    }\n",
       "\n",
       "    .dataframe tbody tr th {\n",
       "        vertical-align: top;\n",
       "    }\n",
       "\n",
       "    .dataframe thead th {\n",
       "        text-align: right;\n",
       "    }\n",
       "</style>\n",
       "<table border=\"1\" class=\"dataframe\">\n",
       "  <thead>\n",
       "    <tr style=\"text-align: right;\">\n",
       "      <th></th>\n",
       "      <th>rider_id</th>\n",
       "      <th>age</th>\n",
       "      <th>ratings</th>\n",
       "      <th>restaurant_latitude</th>\n",
       "      <th>restaurant_longitude</th>\n",
       "      <th>delivery_latitude</th>\n",
       "      <th>delivery_longitude</th>\n",
       "      <th>order_date</th>\n",
       "      <th>weather</th>\n",
       "      <th>traffic</th>\n",
       "      <th>...</th>\n",
       "      <th>time_taken</th>\n",
       "      <th>city_name</th>\n",
       "      <th>order_day</th>\n",
       "      <th>order_month</th>\n",
       "      <th>order_day_of_week</th>\n",
       "      <th>is_weekend</th>\n",
       "      <th>pickup_time_minutes</th>\n",
       "      <th>order_time_hour</th>\n",
       "      <th>order_time_of_day</th>\n",
       "      <th>distance</th>\n",
       "    </tr>\n",
       "  </thead>\n",
       "  <tbody>\n",
       "    <tr>\n",
       "      <th>0</th>\n",
       "      <td>INDORES13DEL02</td>\n",
       "      <td>37.0</td>\n",
       "      <td>4.9</td>\n",
       "      <td>22.745049</td>\n",
       "      <td>75.892471</td>\n",
       "      <td>22.765049</td>\n",
       "      <td>75.912471</td>\n",
       "      <td>2022-03-19</td>\n",
       "      <td>sunny</td>\n",
       "      <td>high</td>\n",
       "      <td>...</td>\n",
       "      <td>24</td>\n",
       "      <td>INDO</td>\n",
       "      <td>19</td>\n",
       "      <td>3</td>\n",
       "      <td>saturday</td>\n",
       "      <td>1</td>\n",
       "      <td>15.0</td>\n",
       "      <td>11.0</td>\n",
       "      <td>morning</td>\n",
       "      <td>3.025149</td>\n",
       "    </tr>\n",
       "    <tr>\n",
       "      <th>1</th>\n",
       "      <td>BANGRES18DEL02</td>\n",
       "      <td>34.0</td>\n",
       "      <td>4.5</td>\n",
       "      <td>12.913041</td>\n",
       "      <td>77.683237</td>\n",
       "      <td>13.043041</td>\n",
       "      <td>77.813237</td>\n",
       "      <td>2022-03-25</td>\n",
       "      <td>stormy</td>\n",
       "      <td>jam</td>\n",
       "      <td>...</td>\n",
       "      <td>33</td>\n",
       "      <td>BANG</td>\n",
       "      <td>25</td>\n",
       "      <td>3</td>\n",
       "      <td>friday</td>\n",
       "      <td>0</td>\n",
       "      <td>5.0</td>\n",
       "      <td>19.0</td>\n",
       "      <td>evening</td>\n",
       "      <td>20.183530</td>\n",
       "    </tr>\n",
       "    <tr>\n",
       "      <th>2</th>\n",
       "      <td>BANGRES19DEL01</td>\n",
       "      <td>23.0</td>\n",
       "      <td>4.4</td>\n",
       "      <td>12.914264</td>\n",
       "      <td>77.678400</td>\n",
       "      <td>12.924264</td>\n",
       "      <td>77.688400</td>\n",
       "      <td>2022-03-19</td>\n",
       "      <td>sandstorms</td>\n",
       "      <td>low</td>\n",
       "      <td>...</td>\n",
       "      <td>26</td>\n",
       "      <td>BANG</td>\n",
       "      <td>19</td>\n",
       "      <td>3</td>\n",
       "      <td>saturday</td>\n",
       "      <td>1</td>\n",
       "      <td>15.0</td>\n",
       "      <td>8.0</td>\n",
       "      <td>morning</td>\n",
       "      <td>1.552758</td>\n",
       "    </tr>\n",
       "    <tr>\n",
       "      <th>3</th>\n",
       "      <td>COIMBRES13DEL02</td>\n",
       "      <td>38.0</td>\n",
       "      <td>4.7</td>\n",
       "      <td>11.003669</td>\n",
       "      <td>76.976494</td>\n",
       "      <td>11.053669</td>\n",
       "      <td>77.026494</td>\n",
       "      <td>2022-04-05</td>\n",
       "      <td>sunny</td>\n",
       "      <td>medium</td>\n",
       "      <td>...</td>\n",
       "      <td>21</td>\n",
       "      <td>COIMB</td>\n",
       "      <td>5</td>\n",
       "      <td>4</td>\n",
       "      <td>tuesday</td>\n",
       "      <td>0</td>\n",
       "      <td>10.0</td>\n",
       "      <td>18.0</td>\n",
       "      <td>evening</td>\n",
       "      <td>7.790401</td>\n",
       "    </tr>\n",
       "    <tr>\n",
       "      <th>4</th>\n",
       "      <td>CHENRES12DEL01</td>\n",
       "      <td>32.0</td>\n",
       "      <td>4.6</td>\n",
       "      <td>12.972793</td>\n",
       "      <td>80.249982</td>\n",
       "      <td>13.012793</td>\n",
       "      <td>80.289982</td>\n",
       "      <td>2022-03-26</td>\n",
       "      <td>cloudy</td>\n",
       "      <td>high</td>\n",
       "      <td>...</td>\n",
       "      <td>30</td>\n",
       "      <td>CHEN</td>\n",
       "      <td>26</td>\n",
       "      <td>3</td>\n",
       "      <td>saturday</td>\n",
       "      <td>1</td>\n",
       "      <td>15.0</td>\n",
       "      <td>13.0</td>\n",
       "      <td>afternoon</td>\n",
       "      <td>6.210138</td>\n",
       "    </tr>\n",
       "  </tbody>\n",
       "</table>\n",
       "<p>5 rows × 26 columns</p>\n",
       "</div>"
      ],
      "text/plain": [
       "           rider_id   age  ratings  restaurant_latitude  restaurant_longitude  \\\n",
       "0   INDORES13DEL02   37.0      4.9            22.745049             75.892471   \n",
       "1   BANGRES18DEL02   34.0      4.5            12.913041             77.683237   \n",
       "2   BANGRES19DEL01   23.0      4.4            12.914264             77.678400   \n",
       "3  COIMBRES13DEL02   38.0      4.7            11.003669             76.976494   \n",
       "4   CHENRES12DEL01   32.0      4.6            12.972793             80.249982   \n",
       "\n",
       "   delivery_latitude  delivery_longitude  order_date     weather traffic  ...  \\\n",
       "0          22.765049           75.912471  2022-03-19       sunny    high  ...   \n",
       "1          13.043041           77.813237  2022-03-25      stormy     jam  ...   \n",
       "2          12.924264           77.688400  2022-03-19  sandstorms     low  ...   \n",
       "3          11.053669           77.026494  2022-04-05       sunny  medium  ...   \n",
       "4          13.012793           80.289982  2022-03-26      cloudy    high  ...   \n",
       "\n",
       "   time_taken city_name order_day  order_month order_day_of_week is_weekend  \\\n",
       "0          24      INDO        19            3          saturday          1   \n",
       "1          33      BANG        25            3            friday          0   \n",
       "2          26      BANG        19            3          saturday          1   \n",
       "3          21     COIMB         5            4           tuesday          0   \n",
       "4          30      CHEN        26            3          saturday          1   \n",
       "\n",
       "   pickup_time_minutes order_time_hour  order_time_of_day   distance  \n",
       "0                 15.0            11.0            morning   3.025149  \n",
       "1                  5.0            19.0            evening  20.183530  \n",
       "2                 15.0             8.0            morning   1.552758  \n",
       "3                 10.0            18.0            evening   7.790401  \n",
       "4                 15.0            13.0          afternoon   6.210138  \n",
       "\n",
       "[5 rows x 26 columns]"
      ]
     },
     "execution_count": 5,
     "metadata": {},
     "output_type": "execute_result"
    }
   ],
   "source": [
    "df_final.head()"
   ]
  },
  {
   "cell_type": "code",
   "execution_count": 6,
   "id": "7aa37079",
   "metadata": {},
   "outputs": [
    {
     "data": {
      "text/plain": [
       "(45502, 26)"
      ]
     },
     "execution_count": 6,
     "metadata": {},
     "output_type": "execute_result"
    }
   ],
   "source": [
    "df_final.shape"
   ]
  },
  {
   "cell_type": "code",
   "execution_count": 7,
   "id": "eb346fab",
   "metadata": {},
   "outputs": [
    {
     "data": {
      "text/plain": [
       "rider_id                   0\n",
       "age                     1854\n",
       "ratings                 1908\n",
       "restaurant_latitude     3630\n",
       "restaurant_longitude    3630\n",
       "delivery_latitude       3630\n",
       "delivery_longitude      3630\n",
       "order_date                 0\n",
       "weather                  525\n",
       "traffic                  510\n",
       "vehicle_condition          0\n",
       "type_of_order              0\n",
       "type_of_vehicle            0\n",
       "multiple_deliveries      993\n",
       "festival                 228\n",
       "city_type               1198\n",
       "time_taken                 0\n",
       "city_name                  0\n",
       "order_day                  0\n",
       "order_month                0\n",
       "order_day_of_week          0\n",
       "is_weekend                 0\n",
       "pickup_time_minutes     1640\n",
       "order_time_hour         1640\n",
       "order_time_of_day          0\n",
       "distance                3630\n",
       "dtype: int64"
      ]
     },
     "execution_count": 7,
     "metadata": {},
     "output_type": "execute_result"
    }
   ],
   "source": [
    "df_final.isnull().sum()"
   ]
  },
  {
   "cell_type": "code",
   "execution_count": 8,
   "id": "0910728d",
   "metadata": {},
   "outputs": [
    {
     "name": "stdout",
     "output_type": "stream",
     "text": [
      "There are 7438 rows with missing values the data\n",
      "Percentage of missing rows :  16.35%\n"
     ]
    }
   ],
   "source": [
    "missing_rows = (\n",
    "    df_final\n",
    "    .isnull()\n",
    "    .any(axis = 1)\n",
    "    .sum()\n",
    ")\n",
    "\n",
    "print(f\"There are {missing_rows} rows with missing values the data\")\n",
    "\n",
    "print(f\"Percentage of missing rows : {(missing_rows/df_final.shape[0])*100: .2f}%\")"
   ]
  },
  {
   "cell_type": "code",
   "execution_count": 9,
   "id": "85414cbe",
   "metadata": {},
   "outputs": [
    {
     "data": {
      "text/plain": [
       "np.int64(0)"
      ]
     },
     "execution_count": 9,
     "metadata": {},
     "output_type": "execute_result"
    }
   ],
   "source": [
    "df_final.duplicated().sum()"
   ]
  },
  {
   "cell_type": "code",
   "execution_count": 10,
   "id": "84e4e1dd",
   "metadata": {},
   "outputs": [
    {
     "data": {
      "text/plain": [
       "rider_id                 object\n",
       "age                     float64\n",
       "ratings                 float64\n",
       "restaurant_latitude     float64\n",
       "restaurant_longitude    float64\n",
       "delivery_latitude       float64\n",
       "delivery_longitude      float64\n",
       "order_date               object\n",
       "weather                  object\n",
       "traffic                  object\n",
       "vehicle_condition         int64\n",
       "type_of_order            object\n",
       "type_of_vehicle          object\n",
       "multiple_deliveries     float64\n",
       "festival                 object\n",
       "city_type                object\n",
       "time_taken                int64\n",
       "city_name                object\n",
       "order_day                 int64\n",
       "order_month               int64\n",
       "order_day_of_week        object\n",
       "is_weekend                int64\n",
       "pickup_time_minutes     float64\n",
       "order_time_hour         float64\n",
       "order_time_of_day        object\n",
       "distance                float64\n",
       "dtype: object"
      ]
     },
     "execution_count": 10,
     "metadata": {},
     "output_type": "execute_result"
    }
   ],
   "source": [
    "df_final.dtypes"
   ]
  },
  {
   "cell_type": "code",
   "execution_count": 11,
   "id": "be8a7245",
   "metadata": {},
   "outputs": [
    {
     "name": "stdout",
     "output_type": "stream",
     "text": [
      "No of numerical cols : 9\n",
      "No of categorical cols : 17\n"
     ]
    }
   ],
   "source": [
    "nums_cols = df_final.columns[[1, 2, 3, 4, 5, 6, 16 , 22, 25]].tolist()\n",
    "\n",
    "cat_cols = [col for col in df_final.columns if col not in nums_cols]\n",
    "\n",
    "\n",
    "print(f\"No of numerical cols : {len(nums_cols)}\")\n",
    "print(f\"No of categorical cols : {len(cat_cols)}\")"
   ]
  },
  {
   "cell_type": "code",
   "execution_count": 12,
   "id": "e47246c7",
   "metadata": {},
   "outputs": [
    {
     "data": {
      "text/plain": [
       "['age',\n",
       " 'ratings',\n",
       " 'restaurant_latitude',\n",
       " 'restaurant_longitude',\n",
       " 'delivery_latitude',\n",
       " 'delivery_longitude',\n",
       " 'time_taken',\n",
       " 'pickup_time_minutes',\n",
       " 'distance']"
      ]
     },
     "execution_count": 12,
     "metadata": {},
     "output_type": "execute_result"
    }
   ],
   "source": [
    "nums_cols"
   ]
  },
  {
   "cell_type": "code",
   "execution_count": 13,
   "id": "68b92988",
   "metadata": {},
   "outputs": [
    {
     "data": {
      "text/plain": [
       "['rider_id',\n",
       " 'order_date',\n",
       " 'weather',\n",
       " 'traffic',\n",
       " 'vehicle_condition',\n",
       " 'type_of_order',\n",
       " 'type_of_vehicle',\n",
       " 'multiple_deliveries',\n",
       " 'festival',\n",
       " 'city_type',\n",
       " 'city_name',\n",
       " 'order_day',\n",
       " 'order_month',\n",
       " 'order_day_of_week',\n",
       " 'is_weekend',\n",
       " 'order_time_hour',\n",
       " 'order_time_of_day']"
      ]
     },
     "execution_count": 13,
     "metadata": {},
     "output_type": "execute_result"
    }
   ],
   "source": [
    "cat_cols"
   ]
  },
  {
   "cell_type": "markdown",
   "id": "e1b1f077",
   "metadata": {},
   "source": [
    "we can see , there are more of categorical columns in our data . so catboost may work good."
   ]
  },
  {
   "cell_type": "code",
   "execution_count": 14,
   "id": "04a0c085",
   "metadata": {},
   "outputs": [
    {
     "data": {
      "text/html": [
       "<div>\n",
       "<style scoped>\n",
       "    .dataframe tbody tr th:only-of-type {\n",
       "        vertical-align: middle;\n",
       "    }\n",
       "\n",
       "    .dataframe tbody tr th {\n",
       "        vertical-align: top;\n",
       "    }\n",
       "\n",
       "    .dataframe thead th {\n",
       "        text-align: right;\n",
       "    }\n",
       "</style>\n",
       "<table border=\"1\" class=\"dataframe\">\n",
       "  <thead>\n",
       "    <tr style=\"text-align: right;\">\n",
       "      <th></th>\n",
       "      <th>age</th>\n",
       "      <th>ratings</th>\n",
       "      <th>restaurant_latitude</th>\n",
       "      <th>restaurant_longitude</th>\n",
       "      <th>delivery_latitude</th>\n",
       "      <th>delivery_longitude</th>\n",
       "      <th>time_taken</th>\n",
       "      <th>pickup_time_minutes</th>\n",
       "      <th>distance</th>\n",
       "    </tr>\n",
       "  </thead>\n",
       "  <tbody>\n",
       "    <tr>\n",
       "      <th>count</th>\n",
       "      <td>43648.000000</td>\n",
       "      <td>43594.000000</td>\n",
       "      <td>41872.000000</td>\n",
       "      <td>41872.000000</td>\n",
       "      <td>41872.000000</td>\n",
       "      <td>41872.000000</td>\n",
       "      <td>45502.000000</td>\n",
       "      <td>43862.000000</td>\n",
       "      <td>41872.000000</td>\n",
       "    </tr>\n",
       "    <tr>\n",
       "      <th>mean</th>\n",
       "      <td>29.555008</td>\n",
       "      <td>4.635287</td>\n",
       "      <td>18.913696</td>\n",
       "      <td>76.921664</td>\n",
       "      <td>18.977356</td>\n",
       "      <td>76.985325</td>\n",
       "      <td>26.297591</td>\n",
       "      <td>9.989399</td>\n",
       "      <td>9.719296</td>\n",
       "    </tr>\n",
       "    <tr>\n",
       "      <th>std</th>\n",
       "      <td>5.761482</td>\n",
       "      <td>0.313827</td>\n",
       "      <td>5.467265</td>\n",
       "      <td>3.503107</td>\n",
       "      <td>5.469056</td>\n",
       "      <td>3.503260</td>\n",
       "      <td>9.386419</td>\n",
       "      <td>4.087516</td>\n",
       "      <td>5.602890</td>\n",
       "    </tr>\n",
       "    <tr>\n",
       "      <th>min</th>\n",
       "      <td>20.000000</td>\n",
       "      <td>2.500000</td>\n",
       "      <td>9.957144</td>\n",
       "      <td>72.768726</td>\n",
       "      <td>9.967144</td>\n",
       "      <td>72.778726</td>\n",
       "      <td>10.000000</td>\n",
       "      <td>5.000000</td>\n",
       "      <td>1.465067</td>\n",
       "    </tr>\n",
       "    <tr>\n",
       "      <th>25%</th>\n",
       "      <td>25.000000</td>\n",
       "      <td>4.500000</td>\n",
       "      <td>12.986047</td>\n",
       "      <td>73.897902</td>\n",
       "      <td>13.065996</td>\n",
       "      <td>73.940327</td>\n",
       "      <td>19.000000</td>\n",
       "      <td>5.000000</td>\n",
       "      <td>4.657655</td>\n",
       "    </tr>\n",
       "    <tr>\n",
       "      <th>50%</th>\n",
       "      <td>30.000000</td>\n",
       "      <td>4.700000</td>\n",
       "      <td>19.065838</td>\n",
       "      <td>76.618203</td>\n",
       "      <td>19.124049</td>\n",
       "      <td>76.662620</td>\n",
       "      <td>26.000000</td>\n",
       "      <td>10.000000</td>\n",
       "      <td>9.193014</td>\n",
       "    </tr>\n",
       "    <tr>\n",
       "      <th>75%</th>\n",
       "      <td>35.000000</td>\n",
       "      <td>4.900000</td>\n",
       "      <td>22.751234</td>\n",
       "      <td>78.368855</td>\n",
       "      <td>22.820040</td>\n",
       "      <td>78.405467</td>\n",
       "      <td>32.000000</td>\n",
       "      <td>15.000000</td>\n",
       "      <td>13.680920</td>\n",
       "    </tr>\n",
       "    <tr>\n",
       "      <th>max</th>\n",
       "      <td>39.000000</td>\n",
       "      <td>5.000000</td>\n",
       "      <td>30.914057</td>\n",
       "      <td>88.433452</td>\n",
       "      <td>31.054057</td>\n",
       "      <td>88.563452</td>\n",
       "      <td>54.000000</td>\n",
       "      <td>15.000000</td>\n",
       "      <td>20.969489</td>\n",
       "    </tr>\n",
       "  </tbody>\n",
       "</table>\n",
       "</div>"
      ],
      "text/plain": [
       "                age       ratings  restaurant_latitude  restaurant_longitude  \\\n",
       "count  43648.000000  43594.000000         41872.000000          41872.000000   \n",
       "mean      29.555008      4.635287            18.913696             76.921664   \n",
       "std        5.761482      0.313827             5.467265              3.503107   \n",
       "min       20.000000      2.500000             9.957144             72.768726   \n",
       "25%       25.000000      4.500000            12.986047             73.897902   \n",
       "50%       30.000000      4.700000            19.065838             76.618203   \n",
       "75%       35.000000      4.900000            22.751234             78.368855   \n",
       "max       39.000000      5.000000            30.914057             88.433452   \n",
       "\n",
       "       delivery_latitude  delivery_longitude    time_taken  \\\n",
       "count       41872.000000        41872.000000  45502.000000   \n",
       "mean           18.977356           76.985325     26.297591   \n",
       "std             5.469056            3.503260      9.386419   \n",
       "min             9.967144           72.778726     10.000000   \n",
       "25%            13.065996           73.940327     19.000000   \n",
       "50%            19.124049           76.662620     26.000000   \n",
       "75%            22.820040           78.405467     32.000000   \n",
       "max            31.054057           88.563452     54.000000   \n",
       "\n",
       "       pickup_time_minutes      distance  \n",
       "count         43862.000000  41872.000000  \n",
       "mean              9.989399      9.719296  \n",
       "std               4.087516      5.602890  \n",
       "min               5.000000      1.465067  \n",
       "25%               5.000000      4.657655  \n",
       "50%              10.000000      9.193014  \n",
       "75%              15.000000     13.680920  \n",
       "max              15.000000     20.969489  "
      ]
     },
     "execution_count": 14,
     "metadata": {},
     "output_type": "execute_result"
    }
   ],
   "source": [
    "df_final[nums_cols].describe()"
   ]
  },
  {
   "cell_type": "code",
   "execution_count": 15,
   "id": "4c6ebda1",
   "metadata": {},
   "outputs": [
    {
     "data": {
      "text/html": [
       "<div>\n",
       "<style scoped>\n",
       "    .dataframe tbody tr th:only-of-type {\n",
       "        vertical-align: middle;\n",
       "    }\n",
       "\n",
       "    .dataframe tbody tr th {\n",
       "        vertical-align: top;\n",
       "    }\n",
       "\n",
       "    .dataframe thead th {\n",
       "        text-align: right;\n",
       "    }\n",
       "</style>\n",
       "<table border=\"1\" class=\"dataframe\">\n",
       "  <thead>\n",
       "    <tr style=\"text-align: right;\">\n",
       "      <th></th>\n",
       "      <th>count</th>\n",
       "      <th>unique</th>\n",
       "      <th>top</th>\n",
       "      <th>freq</th>\n",
       "    </tr>\n",
       "  </thead>\n",
       "  <tbody>\n",
       "    <tr>\n",
       "      <th>rider_id</th>\n",
       "      <td>45502</td>\n",
       "      <td>1320</td>\n",
       "      <td>PUNERES01DEL01</td>\n",
       "      <td>67</td>\n",
       "    </tr>\n",
       "    <tr>\n",
       "      <th>order_date</th>\n",
       "      <td>45502</td>\n",
       "      <td>44</td>\n",
       "      <td>2022-03-15</td>\n",
       "      <td>1190</td>\n",
       "    </tr>\n",
       "    <tr>\n",
       "      <th>weather</th>\n",
       "      <td>44977</td>\n",
       "      <td>6</td>\n",
       "      <td>fog</td>\n",
       "      <td>7654</td>\n",
       "    </tr>\n",
       "    <tr>\n",
       "      <th>traffic</th>\n",
       "      <td>44992</td>\n",
       "      <td>4</td>\n",
       "      <td>low</td>\n",
       "      <td>15477</td>\n",
       "    </tr>\n",
       "    <tr>\n",
       "      <th>vehicle_condition</th>\n",
       "      <td>45502</td>\n",
       "      <td>4</td>\n",
       "      <td>2</td>\n",
       "      <td>15034</td>\n",
       "    </tr>\n",
       "    <tr>\n",
       "      <th>type_of_order</th>\n",
       "      <td>45502</td>\n",
       "      <td>4</td>\n",
       "      <td>snack</td>\n",
       "      <td>11512</td>\n",
       "    </tr>\n",
       "    <tr>\n",
       "      <th>type_of_vehicle</th>\n",
       "      <td>45502</td>\n",
       "      <td>4</td>\n",
       "      <td>motorcycle</td>\n",
       "      <td>26427</td>\n",
       "    </tr>\n",
       "    <tr>\n",
       "      <th>multiple_deliveries</th>\n",
       "      <td>44509.0</td>\n",
       "      <td>4.0</td>\n",
       "      <td>1.0</td>\n",
       "      <td>28109.0</td>\n",
       "    </tr>\n",
       "    <tr>\n",
       "      <th>festival</th>\n",
       "      <td>45274</td>\n",
       "      <td>2</td>\n",
       "      <td>no</td>\n",
       "      <td>44380</td>\n",
       "    </tr>\n",
       "    <tr>\n",
       "      <th>city_type</th>\n",
       "      <td>44304</td>\n",
       "      <td>3</td>\n",
       "      <td>metropolitian</td>\n",
       "      <td>34029</td>\n",
       "    </tr>\n",
       "    <tr>\n",
       "      <th>city_name</th>\n",
       "      <td>45502</td>\n",
       "      <td>22</td>\n",
       "      <td>JAP</td>\n",
       "      <td>3439</td>\n",
       "    </tr>\n",
       "    <tr>\n",
       "      <th>order_day</th>\n",
       "      <td>45502</td>\n",
       "      <td>30</td>\n",
       "      <td>3</td>\n",
       "      <td>2323</td>\n",
       "    </tr>\n",
       "    <tr>\n",
       "      <th>order_month</th>\n",
       "      <td>45502</td>\n",
       "      <td>3</td>\n",
       "      <td>3</td>\n",
       "      <td>31919</td>\n",
       "    </tr>\n",
       "    <tr>\n",
       "      <th>order_day_of_week</th>\n",
       "      <td>45502</td>\n",
       "      <td>7</td>\n",
       "      <td>wednesday</td>\n",
       "      <td>7077</td>\n",
       "    </tr>\n",
       "    <tr>\n",
       "      <th>is_weekend</th>\n",
       "      <td>45502</td>\n",
       "      <td>2</td>\n",
       "      <td>0</td>\n",
       "      <td>32995</td>\n",
       "    </tr>\n",
       "    <tr>\n",
       "      <th>order_time_hour</th>\n",
       "      <td>43862.0</td>\n",
       "      <td>17.0</td>\n",
       "      <td>21.0</td>\n",
       "      <td>4686.0</td>\n",
       "    </tr>\n",
       "    <tr>\n",
       "      <th>order_time_of_day</th>\n",
       "      <td>45502</td>\n",
       "      <td>5</td>\n",
       "      <td>night</td>\n",
       "      <td>18312</td>\n",
       "    </tr>\n",
       "  </tbody>\n",
       "</table>\n",
       "</div>"
      ],
      "text/plain": [
       "                       count unique              top     freq\n",
       "rider_id               45502   1320  PUNERES01DEL01        67\n",
       "order_date             45502     44       2022-03-15     1190\n",
       "weather                44977      6              fog     7654\n",
       "traffic                44992      4              low    15477\n",
       "vehicle_condition      45502      4                2    15034\n",
       "type_of_order          45502      4            snack    11512\n",
       "type_of_vehicle        45502      4       motorcycle    26427\n",
       "multiple_deliveries  44509.0    4.0              1.0  28109.0\n",
       "festival               45274      2               no    44380\n",
       "city_type              44304      3    metropolitian    34029\n",
       "city_name              45502     22              JAP     3439\n",
       "order_day              45502     30                3     2323\n",
       "order_month            45502      3                3    31919\n",
       "order_day_of_week      45502      7        wednesday     7077\n",
       "is_weekend             45502      2                0    32995\n",
       "order_time_hour      43862.0   17.0             21.0   4686.0\n",
       "order_time_of_day      45502      5            night    18312"
      ]
     },
     "execution_count": 15,
     "metadata": {},
     "output_type": "execute_result"
    }
   ],
   "source": [
    "(\n",
    "    df_final\n",
    "    .assign(**{\n",
    "\n",
    "        col:df_final[col].astype('object')\n",
    "        for col in cat_cols \n",
    "    })\n",
    "    .describe(include = \"object\")\n",
    "    .T\n",
    ")"
   ]
  },
  {
   "cell_type": "code",
   "execution_count": 16,
   "id": "3d97cda4",
   "metadata": {},
   "outputs": [],
   "source": [
    "# univariate \n",
    "def numerical_analysis(dataframe, column_name , cat_col = None, bins = \"auto\"):\n",
    "\n",
    "    fig = plt.figure(figsize=(15,10))\n",
    "\n",
    "    grid = GridSpec(nrows=2 , ncols=2 , figure= fig)\n",
    "\n",
    "    ax1 = fig.add_subplot(grid[0,0])\n",
    "    ax2 = fig.add_subplot(grid[0 , 1])\n",
    "    ax3 = fig.add_subplot(grid[1,:])\n",
    "\n",
    "    sns.kdeplot(data = dataframe, x = column_name, hue = cat_col , ax = ax1)\n",
    "\n",
    "    sns.boxplot(data = dataframe,x = column_name, hue = cat_col,ax = ax2)\n",
    "\n",
    "    sns.histplot(data = dataframe, x= column_name, bins = bins , hue = cat_col , kde = True , ax = ax3)\n",
    "\n",
    "    plt.tight_layout()\n",
    "\n",
    "    plt.show()\n",
    "\n",
    "\n",
    "# bivariate \n",
    "def numerical_categorical_analysis(dataframe , cat_columns_1 , num_column):\n",
    "\n",
    "    fig, (ax1 , ax2) = plt.subplots(2,2, figsize = (15 , 8))\n",
    "\n",
    "    sns.barplot(data = dataframe, x = cat_columns_1, y = num_column , ax = ax1[0])\n",
    "\n",
    "    sns.boxplot(data = dataframe, x = cat_columns_1 , y = num_column, ax = ax2[0])\n",
    "\n",
    "    sns.violinplot(data=dataframe,x=cat_columns_1,y=num_column,ax = ax2[0])\n",
    "\n",
    "    sns.stripplot(data=dataframe, x=cat_columns_1,y=num_column,ax = ax2[1])\n",
    "\n",
    "    plt.tight_layout()\n",
    "    plt.show()\n",
    "\n",
    "\n",
    "def categorical_analysis(dataframe, column_name):\n",
    "\n",
    "    display(\n",
    "        pd.DataFrame(\n",
    "            {\n",
    "                \"Count\":(dataframe[column_name]\n",
    "                         .value_counts()),\n",
    "                    \n",
    "                    \"Percentage\": (\n",
    "                        dataframe[column_name]\n",
    "                        .value_counts(normalize = True)\n",
    "                        .mul(100)\n",
    "                        .round(2)\n",
    "                        .astype(\"str\")\n",
    "                        .add(\"%\")\n",
    "                    )\n",
    "            }\n",
    "        )\n",
    "    )\n",
    "\n",
    "    unique_categories = dataframe[column_name].unique().tolist()\n",
    "    number_of_categories = dataframe[column_name].nunqiue()\n",
    "    print(f\"The unique categories in {column_name} column are {unique_categories}\")\n",
    "\n",
    "    print(f\"The number of categories in {column_name} column are {number_of_categories}\")\n",
    "\n",
    "    sns.countplot(data=dataframe, x = column_name)\n",
    "    plt.xticks(rotation = 45)\n",
    "    plt.show()"
   ]
  },
  {
   "cell_type": "code",
   "execution_count": 17,
   "id": "fb1b6dc9",
   "metadata": {},
   "outputs": [],
   "source": [
    "def multivariate_analysis(dataframe , num_column , cat_column_1 , cat_column_2):\n",
    "\n",
    "    fig, (ax1, ax2) = plt.subplots(2,2, figsize=(15,7.5))\n",
    "\n",
    "    sns.barplot(data = dataframe,x = cat_column_1,y = num_column,hue = cat_column_2, gap = 0.1 , ax = ax1[0])\n",
    "\n",
    "    sns.boxplot(data = dataframe , x= cat_column_1,y = num_column , hue = cat_column_2, gap = 0.1, ax = ax1[1])\n",
    "\n",
    "    sns.violinplot(data=dataframe,x=cat_column_1,y = num_column, hue = cat_column_2, ax = ax2[0])\n",
    "\n",
    "    sns.stripplot(data = dataframe, x = cat_column_1 , y = num_column , hue = cat_column_2,dodge=True , ax = ax2[1])\n",
    "\n",
    "    plt.tight_layout()\n",
    "    plt.show()\n",
    "\n",
    "\n",
    "def chi_2_test(dataframe , col1 , col2 , alpha = 0.05):\n",
    "\n",
    "    data = (dataframe\n",
    "            .loc[: , [col1 , col2]]\n",
    "            .dropna()\n",
    "    )\n",
    "\n",
    "    contigency_table = pd.crosstab(data[col1], data[col2])\n",
    "\n",
    "    _, p_val, _, _ = chi2_contingency(contigency_table)\n",
    "\n",
    "    print(p_val)\n",
    "\n",
    "    if p_val <= alpha:\n",
    "        print(f\"Reject the null hypothesis. There is significant association between {col1} and {col2}\")\n",
    "\n",
    "    else:\n",
    "        print(f\"Fail to reject the null hypothesis. There is no significant association between {col1} and {col2}\")\n",
    "\n",
    "\n",
    "\n",
    "def anova_test(dataframe , num_col , cat_col , alpha = 0.05):\n",
    "\n",
    "    data = (\n",
    "        dataframe\n",
    "        .loc[: , [num_col , cat_col]]\n",
    "    )\n",
    "\n",
    "\n",
    "    cat_groups = data.groupby(cat_col)[num_col].apply(list)\n",
    "\n",
    "    args = [group for group in cat_groups]\n",
    "\n",
    "    f_stat , p_val = f_oneway(*args)\n",
    "    \n",
    "    print(p_val)\n",
    "\n",
    "    if p_val <= alpha:\n",
    "        print(f\"Reject the null hypothesis. There is a significant relationship between {num_col} and {cat_col}.\")\n",
    "    else:\n",
    "        print(f\"Fail to reject the null hypothesis. There is no significant relationship between {num_col} and {cat_col}.\")\n",
    "\n",
    "\n",
    "def test_for_normality(dataframe, column_name , alpha = 0.05):\n",
    "\n",
    "    data = dataframe[column_name]\n",
    "\n",
    "    print(\"Jarque Bera Test for Normlality\")\n",
    "\n",
    "    _, p_val = jarque_bera(data)\n",
    "\n",
    "    print(p_val)\n",
    "\n",
    "    if p_val <= alpha:\n",
    "        print(f\"Reject the null hypothesis. The data is not normally distributed.\")\n",
    "    else:\n",
    "        print(f\"Fail to reject the null hypothesis. The data is normally distributed.\",end=\"\\n\\n\")\n"
   ]
  },
  {
   "cell_type": "markdown",
   "id": "9ea795af",
   "metadata": {},
   "source": [
    "### Time Taken"
   ]
  },
  {
   "cell_type": "code",
   "execution_count": 18,
   "id": "10e48cf3",
   "metadata": {},
   "outputs": [
    {
     "data": {
      "text/plain": [
       "dtype('int64')"
      ]
     },
     "execution_count": 18,
     "metadata": {},
     "output_type": "execute_result"
    }
   ],
   "source": [
    "df_final['time_taken'].dtype"
   ]
  },
  {
   "cell_type": "code",
   "execution_count": 19,
   "id": "7d03ca3a",
   "metadata": {},
   "outputs": [
    {
     "data": {
      "image/png": "[encoded data removed]",
      "text/plain": [
       "<Figure size 1500x1000 with 3 Axes>"
      ]
     },
     "metadata": {},
     "output_type": "display_data"
    }
   ],
   "source": [
    "numerical_analysis(df_final, column_name='time_taken', bins = 10)"
   ]
  },
  {
   "cell_type": "code",
   "execution_count": 21,
   "id": "d4446de8",
   "metadata": {},
   "outputs": [
    {
     "data": {
      "text/plain": [
       "(np.float64(26.297591314667486), np.float64(26.0))"
      ]
     },
     "execution_count": 21,
     "metadata": {},
     "output_type": "execute_result"
    }
   ],
   "source": [
    "df_final['time_taken'].mean(), df_final['time_taken'].median()"
   ]
  },
  {
   "cell_type": "code",
   "execution_count": 23,
   "id": "062213bb",
   "metadata": {},
   "outputs": [
    {
     "data": {
      "image/png": "[encoded data removed]",
      "text/plain": [
       "<Figure size 640x480 with 1 Axes>"
      ]
     },
     "metadata": {},
     "output_type": "display_data"
    }
   ],
   "source": [
    "probplot(df_final['time_taken'], plot = plt)\n",
    "plt.show()"
   ]
  },
  {
   "cell_type": "code",
   "execution_count": 24,
   "id": "9f7dd0c1",
   "metadata": {},
   "outputs": [
    {
     "name": "stdout",
     "output_type": "stream",
     "text": [
      "Jarque Bera Test for Normlality\n",
      "0.0\n",
      "Reject the null hypothesis. The data is not normally distributed.\n"
     ]
    }
   ],
   "source": [
    "test_for_normality(df_final,column_name='time_taken')"
   ]
  },
  {
   "cell_type": "code",
   "execution_count": 26,
   "id": "ebc1138d",
   "metadata": {},
   "outputs": [
    {
     "data": {
      "text/plain": [
       "traffic\n",
       "low       15477\n",
       "jam       14143\n",
       "medium    10947\n",
       "high       4425\n",
       "Name: count, dtype: int64"
      ]
     },
     "execution_count": 26,
     "metadata": {},
     "output_type": "execute_result"
    }
   ],
   "source": [
    "df_final['traffic'].value_counts()"
   ]
  },
  {
   "cell_type": "code",
   "execution_count": 25,
   "id": "cb002358",
   "metadata": {},
   "outputs": [
    {
     "data": {
      "text/plain": [
       "traffic\n",
       "jam     241\n",
       "high     24\n",
       "Name: count, dtype: int64"
      ]
     },
     "execution_count": 25,
     "metadata": {},
     "output_type": "execute_result"
    }
   ],
   "source": [
    "target_25 , target_75 = np.percentile(df_final['time_taken'], [25 , 75])\n",
    "\n",
    "iqr = target_75 - target_25 \n",
    "\n",
    "upper_bound = target_75 + (1.5*iqr)\n",
    "\n",
    "\n",
    "df_final.loc[(df_final['time_taken']>upper_bound), \"traffic\"].value_counts()"
   ]
  },
  {
   "cell_type": "code",
   "execution_count": 27,
   "id": "c3b15a50",
   "metadata": {},
   "outputs": [
    {
     "data": {
      "text/plain": [
       "weather\n",
       "fog           57\n",
       "sunny         51\n",
       "windy         44\n",
       "cloudy        44\n",
       "stormy        37\n",
       "sandstorms    32\n",
       "Name: count, dtype: int64"
      ]
     },
     "execution_count": 27,
     "metadata": {},
     "output_type": "execute_result"
    }
   ],
   "source": [
    "df_final.loc[(df_final['time_taken'] > upper_bound),\"weather\"].value_counts()"
   ]
  },
  {
   "cell_type": "code",
   "execution_count": 29,
   "id": "a064092c",
   "metadata": {},
   "outputs": [
    {
     "name": "stdout",
     "output_type": "stream",
     "text": [
      "9.719296323199579 13.29215081388658\n"
     ]
    }
   ],
   "source": [
    "avg_distance = df_final.loc[: , \"distance\"].mean()\n",
    "\n",
    "avg_distance_extreme = df_final.loc[(df_final['time_taken']>upper_bound), \"distance\"].mean()\n",
    "\n",
    "print(avg_distance, avg_distance_extreme)"
   ]
  },
  {
   "cell_type": "code",
   "execution_count": 31,
   "id": "f910e0f3",
   "metadata": {},
   "outputs": [
    {
     "data": {
      "image/png": "[encoded data removed]",
      "text/plain": [
       "<Figure size 1500x1000 with 3 Axes>"
      ]
     },
     "metadata": {},
     "output_type": "display_data"
    }
   ],
   "source": [
    "from sklearn.preprocessing import PowerTransformer\n",
    "\n",
    "\n",
    "pt = PowerTransformer(method = 'yeo-johnson')\n",
    "\n",
    "df_final['time_taken_pt'] = pt.fit_transform(df_final[['time_taken']])\n",
    "\n",
    "\n",
    "numerical_analysis(df_final, 'time_taken_pt' , bins = 10)"
   ]
  },
  {
   "cell_type": "code",
   "execution_count": 32,
   "id": "f74ca9fa",
   "metadata": {},
   "outputs": [
    {
     "data": {
      "image/png": "[encoded data removed]",
      "text/plain": [
       "<Figure size 640x480 with 1 Axes>"
      ]
     },
     "metadata": {},
     "output_type": "display_data"
    }
   ],
   "source": [
    "probplot(df_final['time_taken_pt'], plot=plt)\n",
    "plt.show()"
   ]
  },
  {
   "cell_type": "code",
   "execution_count": 33,
   "id": "756bb3a7",
   "metadata": {},
   "outputs": [
    {
     "name": "stdout",
     "output_type": "stream",
     "text": [
      "Jarque Bera Test for Normlality\n",
      "3.0540463611616703e-145\n",
      "Reject the null hypothesis. The data is not normally distributed.\n"
     ]
    }
   ],
   "source": [
    "test_for_normality(df_final, 'time_taken_pt')"
   ]
  },
  {
   "cell_type": "code",
   "execution_count": null,
   "id": "dd93a004",
   "metadata": {},
   "outputs": [],
   "source": []
  }
 ],
 "metadata": {
  "kernelspec": {
   "display_name": ".venv",
   "language": "python",
   "name": "python3"
  },
  "language_info": {
   "codemirror_mode": {
    "name": "ipython",
    "version": 3
   },
   "file_extension": ".py",
   "mimetype": "text/x-python",
   "name": "python",
   "nbconvert_exporter": "python",
   "pygments_lexer": "ipython3",
   "version": "3.13.1"
  }
 },
 "nbformat": 4,
 "nbformat_minor": 5
}
