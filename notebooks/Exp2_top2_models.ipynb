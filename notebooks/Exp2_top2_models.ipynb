{
 "cells": [
  {
   "cell_type": "code",
   "execution_count": 2,
   "id": "5f51137d",
   "metadata": {},
   "outputs": [],
   "source": [
    "import numpy as np \n",
    "import pandas as pd\n",
    "from sklearn.compose import ColumnTransformer \n",
    "from sklearn.pipeline import Pipeline \n",
    "from sklearn.model_selection import train_test_split\n",
    "from sklearn.impute import SimpleImputer,KNNImputer\n",
    "from sklearn.preprocessing import StandardScaler, MinMaxScaler, OneHotEncoder,OrdinalEncoder,LabelEncoder,PowerTransformer"
   ]
  },
  {
   "cell_type": "code",
   "execution_count": 3,
   "id": "2fd28d26",
   "metadata": {},
   "outputs": [],
   "source": [
    "from sklearn import set_config\n",
    "\n",
    "set_config(transform_output= \"pandas\")"
   ]
  },
  {
   "cell_type": "code",
   "execution_count": 4,
   "id": "bf820b8d",
   "metadata": {},
   "outputs": [],
   "source": [
    "df = pd.read_csv('swiggy_cleaned.csv')"
   ]
  },
  {
   "cell_type": "code",
   "execution_count": 5,
   "id": "2cd7985a",
   "metadata": {},
   "outputs": [
    {
     "data": {
      "text/html": [
       "<div>\n",
       "<style scoped>\n",
       "    .dataframe tbody tr th:only-of-type {\n",
       "        vertical-align: middle;\n",
       "    }\n",
       "\n",
       "    .dataframe tbody tr th {\n",
       "        vertical-align: top;\n",
       "    }\n",
       "\n",
       "    .dataframe thead th {\n",
       "        text-align: right;\n",
       "    }\n",
       "</style>\n",
       "<table border=\"1\" class=\"dataframe\">\n",
       "  <thead>\n",
       "    <tr style=\"text-align: right;\">\n",
       "      <th></th>\n",
       "      <th>rider_id</th>\n",
       "      <th>age</th>\n",
       "      <th>ratings</th>\n",
       "      <th>restaurant_latitude</th>\n",
       "      <th>restaurant_longitude</th>\n",
       "      <th>delivery_latitude</th>\n",
       "      <th>delivery_longitude</th>\n",
       "      <th>order_date</th>\n",
       "      <th>weather</th>\n",
       "      <th>traffic</th>\n",
       "      <th>...</th>\n",
       "      <th>city_name</th>\n",
       "      <th>order_day</th>\n",
       "      <th>order_month</th>\n",
       "      <th>order_day_of_week</th>\n",
       "      <th>is_weekend</th>\n",
       "      <th>pickup_time_minutes</th>\n",
       "      <th>order_time_hour</th>\n",
       "      <th>order_time_of_day</th>\n",
       "      <th>distance</th>\n",
       "      <th>distance_type</th>\n",
       "    </tr>\n",
       "  </thead>\n",
       "  <tbody>\n",
       "    <tr>\n",
       "      <th>0</th>\n",
       "      <td>INDORES13DEL02</td>\n",
       "      <td>37.0</td>\n",
       "      <td>4.9</td>\n",
       "      <td>22.745049</td>\n",
       "      <td>75.892471</td>\n",
       "      <td>22.765049</td>\n",
       "      <td>75.912471</td>\n",
       "      <td>2022-03-19</td>\n",
       "      <td>sunny</td>\n",
       "      <td>high</td>\n",
       "      <td>...</td>\n",
       "      <td>INDO</td>\n",
       "      <td>19</td>\n",
       "      <td>3</td>\n",
       "      <td>saturday</td>\n",
       "      <td>1</td>\n",
       "      <td>15.0</td>\n",
       "      <td>11.0</td>\n",
       "      <td>morning</td>\n",
       "      <td>3.025149</td>\n",
       "      <td>short</td>\n",
       "    </tr>\n",
       "    <tr>\n",
       "      <th>1</th>\n",
       "      <td>BANGRES18DEL02</td>\n",
       "      <td>34.0</td>\n",
       "      <td>4.5</td>\n",
       "      <td>12.913041</td>\n",
       "      <td>77.683237</td>\n",
       "      <td>13.043041</td>\n",
       "      <td>77.813237</td>\n",
       "      <td>2022-03-25</td>\n",
       "      <td>stormy</td>\n",
       "      <td>jam</td>\n",
       "      <td>...</td>\n",
       "      <td>BANG</td>\n",
       "      <td>25</td>\n",
       "      <td>3</td>\n",
       "      <td>friday</td>\n",
       "      <td>0</td>\n",
       "      <td>5.0</td>\n",
       "      <td>19.0</td>\n",
       "      <td>evening</td>\n",
       "      <td>20.183530</td>\n",
       "      <td>very_long</td>\n",
       "    </tr>\n",
       "    <tr>\n",
       "      <th>2</th>\n",
       "      <td>BANGRES19DEL01</td>\n",
       "      <td>23.0</td>\n",
       "      <td>4.4</td>\n",
       "      <td>12.914264</td>\n",
       "      <td>77.678400</td>\n",
       "      <td>12.924264</td>\n",
       "      <td>77.688400</td>\n",
       "      <td>2022-03-19</td>\n",
       "      <td>sandstorms</td>\n",
       "      <td>low</td>\n",
       "      <td>...</td>\n",
       "      <td>BANG</td>\n",
       "      <td>19</td>\n",
       "      <td>3</td>\n",
       "      <td>saturday</td>\n",
       "      <td>1</td>\n",
       "      <td>15.0</td>\n",
       "      <td>8.0</td>\n",
       "      <td>morning</td>\n",
       "      <td>1.552758</td>\n",
       "      <td>short</td>\n",
       "    </tr>\n",
       "    <tr>\n",
       "      <th>3</th>\n",
       "      <td>COIMBRES13DEL02</td>\n",
       "      <td>38.0</td>\n",
       "      <td>4.7</td>\n",
       "      <td>11.003669</td>\n",
       "      <td>76.976494</td>\n",
       "      <td>11.053669</td>\n",
       "      <td>77.026494</td>\n",
       "      <td>2022-04-05</td>\n",
       "      <td>sunny</td>\n",
       "      <td>medium</td>\n",
       "      <td>...</td>\n",
       "      <td>COIMB</td>\n",
       "      <td>5</td>\n",
       "      <td>4</td>\n",
       "      <td>tuesday</td>\n",
       "      <td>0</td>\n",
       "      <td>10.0</td>\n",
       "      <td>18.0</td>\n",
       "      <td>evening</td>\n",
       "      <td>7.790401</td>\n",
       "      <td>medium</td>\n",
       "    </tr>\n",
       "    <tr>\n",
       "      <th>4</th>\n",
       "      <td>CHENRES12DEL01</td>\n",
       "      <td>32.0</td>\n",
       "      <td>4.6</td>\n",
       "      <td>12.972793</td>\n",
       "      <td>80.249982</td>\n",
       "      <td>13.012793</td>\n",
       "      <td>80.289982</td>\n",
       "      <td>2022-03-26</td>\n",
       "      <td>cloudy</td>\n",
       "      <td>high</td>\n",
       "      <td>...</td>\n",
       "      <td>CHEN</td>\n",
       "      <td>26</td>\n",
       "      <td>3</td>\n",
       "      <td>saturday</td>\n",
       "      <td>1</td>\n",
       "      <td>15.0</td>\n",
       "      <td>13.0</td>\n",
       "      <td>afternoon</td>\n",
       "      <td>6.210138</td>\n",
       "      <td>medium</td>\n",
       "    </tr>\n",
       "  </tbody>\n",
       "</table>\n",
       "<p>5 rows × 27 columns</p>\n",
       "</div>"
      ],
      "text/plain": [
       "           rider_id   age  ratings  restaurant_latitude  restaurant_longitude  \\\n",
       "0   INDORES13DEL02   37.0      4.9            22.745049             75.892471   \n",
       "1   BANGRES18DEL02   34.0      4.5            12.913041             77.683237   \n",
       "2   BANGRES19DEL01   23.0      4.4            12.914264             77.678400   \n",
       "3  COIMBRES13DEL02   38.0      4.7            11.003669             76.976494   \n",
       "4   CHENRES12DEL01   32.0      4.6            12.972793             80.249982   \n",
       "\n",
       "   delivery_latitude  delivery_longitude  order_date     weather traffic  ...  \\\n",
       "0          22.765049           75.912471  2022-03-19       sunny    high  ...   \n",
       "1          13.043041           77.813237  2022-03-25      stormy     jam  ...   \n",
       "2          12.924264           77.688400  2022-03-19  sandstorms     low  ...   \n",
       "3          11.053669           77.026494  2022-04-05       sunny  medium  ...   \n",
       "4          13.012793           80.289982  2022-03-26      cloudy    high  ...   \n",
       "\n",
       "   city_name order_day order_month  order_day_of_week is_weekend  \\\n",
       "0       INDO        19           3           saturday          1   \n",
       "1       BANG        25           3             friday          0   \n",
       "2       BANG        19           3           saturday          1   \n",
       "3      COIMB         5           4            tuesday          0   \n",
       "4       CHEN        26           3           saturday          1   \n",
       "\n",
       "  pickup_time_minutes  order_time_hour order_time_of_day   distance  \\\n",
       "0                15.0             11.0           morning   3.025149   \n",
       "1                 5.0             19.0           evening  20.183530   \n",
       "2                15.0              8.0           morning   1.552758   \n",
       "3                10.0             18.0           evening   7.790401   \n",
       "4                15.0             13.0         afternoon   6.210138   \n",
       "\n",
       "   distance_type  \n",
       "0          short  \n",
       "1      very_long  \n",
       "2          short  \n",
       "3         medium  \n",
       "4         medium  \n",
       "\n",
       "[5 rows x 27 columns]"
      ]
     },
     "execution_count": 5,
     "metadata": {},
     "output_type": "execute_result"
    }
   ],
   "source": [
    "df.head()"
   ]
  },
  {
   "cell_type": "code",
   "execution_count": 6,
   "id": "e73821aa",
   "metadata": {},
   "outputs": [
    {
     "data": {
      "text/plain": [
       "(45502, 27)"
      ]
     },
     "execution_count": 6,
     "metadata": {},
     "output_type": "execute_result"
    }
   ],
   "source": [
    "df.shape"
   ]
  },
  {
   "cell_type": "code",
   "execution_count": 7,
   "id": "20e8438c",
   "metadata": {},
   "outputs": [
    {
     "data": {
      "text/plain": [
       "Index(['rider_id', 'age', 'ratings', 'restaurant_latitude',\n",
       "       'restaurant_longitude', 'delivery_latitude', 'delivery_longitude',\n",
       "       'order_date', 'weather', 'traffic', 'vehicle_condition',\n",
       "       'type_of_order', 'type_of_vehicle', 'multiple_deliveries', 'festival',\n",
       "       'city_type', 'time_taken', 'city_name', 'order_day', 'order_month',\n",
       "       'order_day_of_week', 'is_weekend', 'pickup_time_minutes',\n",
       "       'order_time_hour', 'order_time_of_day', 'distance', 'distance_type'],\n",
       "      dtype='object')"
      ]
     },
     "execution_count": 7,
     "metadata": {},
     "output_type": "execute_result"
    }
   ],
   "source": [
    "df.columns"
   ]
  },
  {
   "cell_type": "code",
   "execution_count": 8,
   "id": "20a0d18e",
   "metadata": {},
   "outputs": [
    {
     "data": {
      "text/html": [
       "<div>\n",
       "<style scoped>\n",
       "    .dataframe tbody tr th:only-of-type {\n",
       "        vertical-align: middle;\n",
       "    }\n",
       "\n",
       "    .dataframe tbody tr th {\n",
       "        vertical-align: top;\n",
       "    }\n",
       "\n",
       "    .dataframe thead th {\n",
       "        text-align: right;\n",
       "    }\n",
       "</style>\n",
       "<table border=\"1\" class=\"dataframe\">\n",
       "  <thead>\n",
       "    <tr style=\"text-align: right;\">\n",
       "      <th></th>\n",
       "      <th>age</th>\n",
       "      <th>ratings</th>\n",
       "      <th>weather</th>\n",
       "      <th>traffic</th>\n",
       "      <th>vehicle_condition</th>\n",
       "      <th>type_of_order</th>\n",
       "      <th>type_of_vehicle</th>\n",
       "      <th>multiple_deliveries</th>\n",
       "      <th>festival</th>\n",
       "      <th>city_type</th>\n",
       "      <th>time_taken</th>\n",
       "      <th>is_weekend</th>\n",
       "      <th>pickup_time_minutes</th>\n",
       "      <th>order_time_of_day</th>\n",
       "      <th>distance</th>\n",
       "      <th>distance_type</th>\n",
       "    </tr>\n",
       "  </thead>\n",
       "  <tbody>\n",
       "    <tr>\n",
       "      <th>0</th>\n",
       "      <td>37.0</td>\n",
       "      <td>4.9</td>\n",
       "      <td>sunny</td>\n",
       "      <td>high</td>\n",
       "      <td>2</td>\n",
       "      <td>snack</td>\n",
       "      <td>motorcycle</td>\n",
       "      <td>0.0</td>\n",
       "      <td>no</td>\n",
       "      <td>urban</td>\n",
       "      <td>24</td>\n",
       "      <td>1</td>\n",
       "      <td>15.0</td>\n",
       "      <td>morning</td>\n",
       "      <td>3.025149</td>\n",
       "      <td>short</td>\n",
       "    </tr>\n",
       "    <tr>\n",
       "      <th>1</th>\n",
       "      <td>34.0</td>\n",
       "      <td>4.5</td>\n",
       "      <td>stormy</td>\n",
       "      <td>jam</td>\n",
       "      <td>2</td>\n",
       "      <td>snack</td>\n",
       "      <td>scooter</td>\n",
       "      <td>1.0</td>\n",
       "      <td>no</td>\n",
       "      <td>metropolitian</td>\n",
       "      <td>33</td>\n",
       "      <td>0</td>\n",
       "      <td>5.0</td>\n",
       "      <td>evening</td>\n",
       "      <td>20.183530</td>\n",
       "      <td>very_long</td>\n",
       "    </tr>\n",
       "    <tr>\n",
       "      <th>2</th>\n",
       "      <td>23.0</td>\n",
       "      <td>4.4</td>\n",
       "      <td>sandstorms</td>\n",
       "      <td>low</td>\n",
       "      <td>0</td>\n",
       "      <td>drinks</td>\n",
       "      <td>motorcycle</td>\n",
       "      <td>1.0</td>\n",
       "      <td>no</td>\n",
       "      <td>urban</td>\n",
       "      <td>26</td>\n",
       "      <td>1</td>\n",
       "      <td>15.0</td>\n",
       "      <td>morning</td>\n",
       "      <td>1.552758</td>\n",
       "      <td>short</td>\n",
       "    </tr>\n",
       "    <tr>\n",
       "      <th>3</th>\n",
       "      <td>38.0</td>\n",
       "      <td>4.7</td>\n",
       "      <td>sunny</td>\n",
       "      <td>medium</td>\n",
       "      <td>0</td>\n",
       "      <td>buffet</td>\n",
       "      <td>motorcycle</td>\n",
       "      <td>1.0</td>\n",
       "      <td>no</td>\n",
       "      <td>metropolitian</td>\n",
       "      <td>21</td>\n",
       "      <td>0</td>\n",
       "      <td>10.0</td>\n",
       "      <td>evening</td>\n",
       "      <td>7.790401</td>\n",
       "      <td>medium</td>\n",
       "    </tr>\n",
       "    <tr>\n",
       "      <th>4</th>\n",
       "      <td>32.0</td>\n",
       "      <td>4.6</td>\n",
       "      <td>cloudy</td>\n",
       "      <td>high</td>\n",
       "      <td>1</td>\n",
       "      <td>snack</td>\n",
       "      <td>scooter</td>\n",
       "      <td>1.0</td>\n",
       "      <td>no</td>\n",
       "      <td>metropolitian</td>\n",
       "      <td>30</td>\n",
       "      <td>1</td>\n",
       "      <td>15.0</td>\n",
       "      <td>afternoon</td>\n",
       "      <td>6.210138</td>\n",
       "      <td>medium</td>\n",
       "    </tr>\n",
       "    <tr>\n",
       "      <th>...</th>\n",
       "      <td>...</td>\n",
       "      <td>...</td>\n",
       "      <td>...</td>\n",
       "      <td>...</td>\n",
       "      <td>...</td>\n",
       "      <td>...</td>\n",
       "      <td>...</td>\n",
       "      <td>...</td>\n",
       "      <td>...</td>\n",
       "      <td>...</td>\n",
       "      <td>...</td>\n",
       "      <td>...</td>\n",
       "      <td>...</td>\n",
       "      <td>...</td>\n",
       "      <td>...</td>\n",
       "      <td>...</td>\n",
       "    </tr>\n",
       "    <tr>\n",
       "      <th>45497</th>\n",
       "      <td>30.0</td>\n",
       "      <td>4.8</td>\n",
       "      <td>windy</td>\n",
       "      <td>high</td>\n",
       "      <td>1</td>\n",
       "      <td>meal</td>\n",
       "      <td>motorcycle</td>\n",
       "      <td>0.0</td>\n",
       "      <td>no</td>\n",
       "      <td>metropolitian</td>\n",
       "      <td>32</td>\n",
       "      <td>0</td>\n",
       "      <td>10.0</td>\n",
       "      <td>morning</td>\n",
       "      <td>1.489846</td>\n",
       "      <td>short</td>\n",
       "    </tr>\n",
       "    <tr>\n",
       "      <th>45498</th>\n",
       "      <td>21.0</td>\n",
       "      <td>4.6</td>\n",
       "      <td>windy</td>\n",
       "      <td>jam</td>\n",
       "      <td>0</td>\n",
       "      <td>buffet</td>\n",
       "      <td>motorcycle</td>\n",
       "      <td>1.0</td>\n",
       "      <td>no</td>\n",
       "      <td>metropolitian</td>\n",
       "      <td>36</td>\n",
       "      <td>0</td>\n",
       "      <td>15.0</td>\n",
       "      <td>evening</td>\n",
       "      <td>NaN</td>\n",
       "      <td>NaN</td>\n",
       "    </tr>\n",
       "    <tr>\n",
       "      <th>45499</th>\n",
       "      <td>30.0</td>\n",
       "      <td>4.9</td>\n",
       "      <td>cloudy</td>\n",
       "      <td>low</td>\n",
       "      <td>1</td>\n",
       "      <td>drinks</td>\n",
       "      <td>scooter</td>\n",
       "      <td>0.0</td>\n",
       "      <td>no</td>\n",
       "      <td>metropolitian</td>\n",
       "      <td>16</td>\n",
       "      <td>0</td>\n",
       "      <td>15.0</td>\n",
       "      <td>night</td>\n",
       "      <td>4.657195</td>\n",
       "      <td>short</td>\n",
       "    </tr>\n",
       "    <tr>\n",
       "      <th>45500</th>\n",
       "      <td>20.0</td>\n",
       "      <td>4.7</td>\n",
       "      <td>cloudy</td>\n",
       "      <td>high</td>\n",
       "      <td>0</td>\n",
       "      <td>snack</td>\n",
       "      <td>motorcycle</td>\n",
       "      <td>1.0</td>\n",
       "      <td>no</td>\n",
       "      <td>metropolitian</td>\n",
       "      <td>26</td>\n",
       "      <td>0</td>\n",
       "      <td>5.0</td>\n",
       "      <td>afternoon</td>\n",
       "      <td>6.232393</td>\n",
       "      <td>medium</td>\n",
       "    </tr>\n",
       "    <tr>\n",
       "      <th>45501</th>\n",
       "      <td>23.0</td>\n",
       "      <td>4.9</td>\n",
       "      <td>fog</td>\n",
       "      <td>medium</td>\n",
       "      <td>2</td>\n",
       "      <td>snack</td>\n",
       "      <td>scooter</td>\n",
       "      <td>1.0</td>\n",
       "      <td>no</td>\n",
       "      <td>metropolitian</td>\n",
       "      <td>36</td>\n",
       "      <td>0</td>\n",
       "      <td>5.0</td>\n",
       "      <td>afternoon</td>\n",
       "      <td>12.074396</td>\n",
       "      <td>long</td>\n",
       "    </tr>\n",
       "  </tbody>\n",
       "</table>\n",
       "<p>45502 rows × 16 columns</p>\n",
       "</div>"
      ],
      "text/plain": [
       "        age  ratings     weather traffic  vehicle_condition type_of_order  \\\n",
       "0      37.0      4.9       sunny    high                  2         snack   \n",
       "1      34.0      4.5      stormy     jam                  2         snack   \n",
       "2      23.0      4.4  sandstorms     low                  0        drinks   \n",
       "3      38.0      4.7       sunny  medium                  0        buffet   \n",
       "4      32.0      4.6      cloudy    high                  1         snack   \n",
       "...     ...      ...         ...     ...                ...           ...   \n",
       "45497  30.0      4.8       windy    high                  1          meal   \n",
       "45498  21.0      4.6       windy     jam                  0        buffet   \n",
       "45499  30.0      4.9      cloudy     low                  1        drinks   \n",
       "45500  20.0      4.7      cloudy    high                  0         snack   \n",
       "45501  23.0      4.9         fog  medium                  2         snack   \n",
       "\n",
       "      type_of_vehicle  multiple_deliveries festival      city_type  \\\n",
       "0          motorcycle                  0.0       no          urban   \n",
       "1             scooter                  1.0       no  metropolitian   \n",
       "2          motorcycle                  1.0       no          urban   \n",
       "3          motorcycle                  1.0       no  metropolitian   \n",
       "4             scooter                  1.0       no  metropolitian   \n",
       "...               ...                  ...      ...            ...   \n",
       "45497      motorcycle                  0.0       no  metropolitian   \n",
       "45498      motorcycle                  1.0       no  metropolitian   \n",
       "45499         scooter                  0.0       no  metropolitian   \n",
       "45500      motorcycle                  1.0       no  metropolitian   \n",
       "45501         scooter                  1.0       no  metropolitian   \n",
       "\n",
       "       time_taken  is_weekend  pickup_time_minutes order_time_of_day  \\\n",
       "0              24           1                 15.0           morning   \n",
       "1              33           0                  5.0           evening   \n",
       "2              26           1                 15.0           morning   \n",
       "3              21           0                 10.0           evening   \n",
       "4              30           1                 15.0         afternoon   \n",
       "...           ...         ...                  ...               ...   \n",
       "45497          32           0                 10.0           morning   \n",
       "45498          36           0                 15.0           evening   \n",
       "45499          16           0                 15.0             night   \n",
       "45500          26           0                  5.0         afternoon   \n",
       "45501          36           0                  5.0         afternoon   \n",
       "\n",
       "        distance distance_type  \n",
       "0       3.025149         short  \n",
       "1      20.183530     very_long  \n",
       "2       1.552758         short  \n",
       "3       7.790401        medium  \n",
       "4       6.210138        medium  \n",
       "...          ...           ...  \n",
       "45497   1.489846         short  \n",
       "45498        NaN           NaN  \n",
       "45499   4.657195         short  \n",
       "45500   6.232393        medium  \n",
       "45501  12.074396          long  \n",
       "\n",
       "[45502 rows x 16 columns]"
      ]
     },
     "execution_count": 8,
     "metadata": {},
     "output_type": "execute_result"
    }
   ],
   "source": [
    "columns_to_drop =  ['rider_id',\n",
    "                    'restaurant_latitude',\n",
    "                    'restaurant_longitude',\n",
    "                    'delivery_latitude',\n",
    "                    'delivery_longitude',\n",
    "                    'order_date',\n",
    "                    \"order_time_hour\",\n",
    "                    \"order_day\",\n",
    "                    \"city_name\",\n",
    "                    \"order_day_of_week\",\n",
    "                    \"order_month\"]\n",
    "\n",
    "df.drop(columns=columns_to_drop, inplace=True)\n",
    "\n",
    "df"
   ]
  },
  {
   "cell_type": "code",
   "execution_count": 9,
   "id": "7aaf70ba",
   "metadata": {},
   "outputs": [],
   "source": [
    "temp_df = df.copy().dropna()"
   ]
  },
  {
   "cell_type": "code",
   "execution_count": 10,
   "id": "49be640d",
   "metadata": {},
   "outputs": [
    {
     "data": {
      "text/plain": [
       "age                    0\n",
       "ratings                0\n",
       "weather                0\n",
       "traffic                0\n",
       "vehicle_condition      0\n",
       "type_of_order          0\n",
       "type_of_vehicle        0\n",
       "multiple_deliveries    0\n",
       "festival               0\n",
       "city_type              0\n",
       "time_taken             0\n",
       "is_weekend             0\n",
       "pickup_time_minutes    0\n",
       "order_time_of_day      0\n",
       "distance               0\n",
       "distance_type          0\n",
       "dtype: int64"
      ]
     },
     "execution_count": 10,
     "metadata": {},
     "output_type": "execute_result"
    }
   ],
   "source": [
    "temp_df.isna().sum()"
   ]
  },
  {
   "cell_type": "code",
   "execution_count": 11,
   "id": "5d57889c",
   "metadata": {},
   "outputs": [],
   "source": [
    "X = temp_df.drop(columns= 'time_taken')\n",
    "y = temp_df['time_taken']"
   ]
  },
  {
   "cell_type": "code",
   "execution_count": 12,
   "id": "0f2018ea",
   "metadata": {},
   "outputs": [],
   "source": [
    "X_train, X_test, y_train, y_test = train_test_split(X, y, test_size=0.2, random_state=42)"
   ]
  },
  {
   "cell_type": "code",
   "execution_count": 13,
   "id": "3b06f877",
   "metadata": {},
   "outputs": [
    {
     "data": {
      "text/html": [
       "<div>\n",
       "<style scoped>\n",
       "    .dataframe tbody tr th:only-of-type {\n",
       "        vertical-align: middle;\n",
       "    }\n",
       "\n",
       "    .dataframe tbody tr th {\n",
       "        vertical-align: top;\n",
       "    }\n",
       "\n",
       "    .dataframe thead th {\n",
       "        text-align: right;\n",
       "    }\n",
       "</style>\n",
       "<table border=\"1\" class=\"dataframe\">\n",
       "  <thead>\n",
       "    <tr style=\"text-align: right;\">\n",
       "      <th></th>\n",
       "      <th>age</th>\n",
       "      <th>ratings</th>\n",
       "      <th>weather</th>\n",
       "      <th>traffic</th>\n",
       "      <th>vehicle_condition</th>\n",
       "      <th>type_of_order</th>\n",
       "      <th>type_of_vehicle</th>\n",
       "      <th>multiple_deliveries</th>\n",
       "      <th>festival</th>\n",
       "      <th>city_type</th>\n",
       "      <th>is_weekend</th>\n",
       "      <th>pickup_time_minutes</th>\n",
       "      <th>order_time_of_day</th>\n",
       "      <th>distance</th>\n",
       "      <th>distance_type</th>\n",
       "    </tr>\n",
       "  </thead>\n",
       "  <tbody>\n",
       "    <tr>\n",
       "      <th>8708</th>\n",
       "      <td>29.0</td>\n",
       "      <td>3.9</td>\n",
       "      <td>sunny</td>\n",
       "      <td>jam</td>\n",
       "      <td>0</td>\n",
       "      <td>drinks</td>\n",
       "      <td>motorcycle</td>\n",
       "      <td>2.0</td>\n",
       "      <td>no</td>\n",
       "      <td>semi-urban</td>\n",
       "      <td>0</td>\n",
       "      <td>15.0</td>\n",
       "      <td>night</td>\n",
       "      <td>9.348069</td>\n",
       "      <td>medium</td>\n",
       "    </tr>\n",
       "    <tr>\n",
       "      <th>25198</th>\n",
       "      <td>39.0</td>\n",
       "      <td>4.4</td>\n",
       "      <td>sandstorms</td>\n",
       "      <td>medium</td>\n",
       "      <td>0</td>\n",
       "      <td>meal</td>\n",
       "      <td>motorcycle</td>\n",
       "      <td>1.0</td>\n",
       "      <td>no</td>\n",
       "      <td>metropolitian</td>\n",
       "      <td>1</td>\n",
       "      <td>5.0</td>\n",
       "      <td>afternoon</td>\n",
       "      <td>4.469606</td>\n",
       "      <td>short</td>\n",
       "    </tr>\n",
       "    <tr>\n",
       "      <th>34049</th>\n",
       "      <td>29.0</td>\n",
       "      <td>4.5</td>\n",
       "      <td>sunny</td>\n",
       "      <td>high</td>\n",
       "      <td>1</td>\n",
       "      <td>buffet</td>\n",
       "      <td>motorcycle</td>\n",
       "      <td>0.0</td>\n",
       "      <td>no</td>\n",
       "      <td>urban</td>\n",
       "      <td>0</td>\n",
       "      <td>10.0</td>\n",
       "      <td>morning</td>\n",
       "      <td>1.513073</td>\n",
       "      <td>short</td>\n",
       "    </tr>\n",
       "    <tr>\n",
       "      <th>25987</th>\n",
       "      <td>39.0</td>\n",
       "      <td>4.8</td>\n",
       "      <td>sandstorms</td>\n",
       "      <td>low</td>\n",
       "      <td>0</td>\n",
       "      <td>meal</td>\n",
       "      <td>motorcycle</td>\n",
       "      <td>1.0</td>\n",
       "      <td>no</td>\n",
       "      <td>metropolitian</td>\n",
       "      <td>1</td>\n",
       "      <td>15.0</td>\n",
       "      <td>night</td>\n",
       "      <td>10.445118</td>\n",
       "      <td>long</td>\n",
       "    </tr>\n",
       "    <tr>\n",
       "      <th>37121</th>\n",
       "      <td>30.0</td>\n",
       "      <td>4.4</td>\n",
       "      <td>windy</td>\n",
       "      <td>medium</td>\n",
       "      <td>1</td>\n",
       "      <td>buffet</td>\n",
       "      <td>scooter</td>\n",
       "      <td>1.0</td>\n",
       "      <td>no</td>\n",
       "      <td>metropolitian</td>\n",
       "      <td>1</td>\n",
       "      <td>10.0</td>\n",
       "      <td>afternoon</td>\n",
       "      <td>6.217834</td>\n",
       "      <td>medium</td>\n",
       "    </tr>\n",
       "  </tbody>\n",
       "</table>\n",
       "</div>"
      ],
      "text/plain": [
       "        age  ratings     weather traffic  vehicle_condition type_of_order  \\\n",
       "8708   29.0      3.9       sunny     jam                  0        drinks   \n",
       "25198  39.0      4.4  sandstorms  medium                  0          meal   \n",
       "34049  29.0      4.5       sunny    high                  1        buffet   \n",
       "25987  39.0      4.8  sandstorms     low                  0          meal   \n",
       "37121  30.0      4.4       windy  medium                  1        buffet   \n",
       "\n",
       "      type_of_vehicle  multiple_deliveries festival      city_type  \\\n",
       "8708       motorcycle                  2.0       no     semi-urban   \n",
       "25198      motorcycle                  1.0       no  metropolitian   \n",
       "34049      motorcycle                  0.0       no          urban   \n",
       "25987      motorcycle                  1.0       no  metropolitian   \n",
       "37121         scooter                  1.0       no  metropolitian   \n",
       "\n",
       "       is_weekend  pickup_time_minutes order_time_of_day   distance  \\\n",
       "8708            0                 15.0             night   9.348069   \n",
       "25198           1                  5.0         afternoon   4.469606   \n",
       "34049           0                 10.0           morning   1.513073   \n",
       "25987           1                 15.0             night  10.445118   \n",
       "37121           1                 10.0         afternoon   6.217834   \n",
       "\n",
       "      distance_type  \n",
       "8708         medium  \n",
       "25198         short  \n",
       "34049         short  \n",
       "25987          long  \n",
       "37121        medium  "
      ]
     },
     "execution_count": 13,
     "metadata": {},
     "output_type": "execute_result"
    }
   ],
   "source": [
    "X_train.head()"
   ]
  },
  {
   "cell_type": "code",
   "execution_count": 14,
   "id": "e65f5ab9",
   "metadata": {},
   "outputs": [
    {
     "data": {
      "text/plain": [
       "age                    0\n",
       "ratings                0\n",
       "weather                0\n",
       "traffic                0\n",
       "vehicle_condition      0\n",
       "type_of_order          0\n",
       "type_of_vehicle        0\n",
       "multiple_deliveries    0\n",
       "festival               0\n",
       "city_type              0\n",
       "is_weekend             0\n",
       "pickup_time_minutes    0\n",
       "order_time_of_day      0\n",
       "distance               0\n",
       "distance_type          0\n",
       "dtype: int64"
      ]
     },
     "execution_count": 14,
     "metadata": {},
     "output_type": "execute_result"
    }
   ],
   "source": [
    "X_train.isna().sum()"
   ]
  },
  {
   "cell_type": "code",
   "execution_count": 15,
   "id": "17c6b2ce",
   "metadata": {},
   "outputs": [],
   "source": [
    "pt = PowerTransformer()\n",
    "y_train_pt = pt.fit_transform(y_train.values.reshape(-1,1))\n",
    "y_test_pt = pt.transform(y_test.values.reshape(-1,1))"
   ]
  },
  {
   "cell_type": "code",
   "execution_count": 16,
   "id": "50939091",
   "metadata": {},
   "outputs": [
    {
     "data": {
      "text/plain": [
       "((30156, 15), (30156, 1))"
      ]
     },
     "execution_count": 16,
     "metadata": {},
     "output_type": "execute_result"
    }
   ],
   "source": [
    "X_train.shape,y_train_pt.shape"
   ]
  },
  {
   "cell_type": "code",
   "execution_count": 17,
   "id": "afae75a0",
   "metadata": {},
   "outputs": [
    {
     "data": {
      "text/plain": [
       "Index(['age', 'ratings', 'weather', 'traffic', 'vehicle_condition',\n",
       "       'type_of_order', 'type_of_vehicle', 'multiple_deliveries', 'festival',\n",
       "       'city_type', 'is_weekend', 'pickup_time_minutes', 'order_time_of_day',\n",
       "       'distance', 'distance_type'],\n",
       "      dtype='object')"
      ]
     },
     "execution_count": 17,
     "metadata": {},
     "output_type": "execute_result"
    }
   ],
   "source": [
    "X_train.columns"
   ]
  },
  {
   "cell_type": "code",
   "execution_count": 18,
   "id": "a35b6689",
   "metadata": {},
   "outputs": [],
   "source": [
    "num_cols = ['age', 'ratings','pickup_time_minutes','distance']\n",
    "\n",
    "nominal_cat_cols = ['weather','type_of_order',\n",
    "                    'type_of_vehicle','festival',\n",
    "                    'city_type','is_weekend',\n",
    "                    'order_time_of_day']\n",
    "\n",
    "ordinal_cat_cols = [\n",
    "    'traffic', 'distance_type'\n",
    "]"
   ]
  },
  {
   "cell_type": "code",
   "execution_count": 19,
   "id": "27e26573",
   "metadata": {},
   "outputs": [
    {
     "name": "stdout",
     "output_type": "stream",
     "text": [
      "<class 'pandas.core.frame.DataFrame'>\n",
      "Index: 30156 entries, 8708 to 18968\n",
      "Data columns (total 15 columns):\n",
      " #   Column               Non-Null Count  Dtype  \n",
      "---  ------               --------------  -----  \n",
      " 0   age                  30156 non-null  float64\n",
      " 1   ratings              30156 non-null  float64\n",
      " 2   weather              30156 non-null  object \n",
      " 3   traffic              30156 non-null  object \n",
      " 4   vehicle_condition    30156 non-null  int64  \n",
      " 5   type_of_order        30156 non-null  object \n",
      " 6   type_of_vehicle      30156 non-null  object \n",
      " 7   multiple_deliveries  30156 non-null  float64\n",
      " 8   festival             30156 non-null  object \n",
      " 9   city_type            30156 non-null  object \n",
      " 10  is_weekend           30156 non-null  int64  \n",
      " 11  pickup_time_minutes  30156 non-null  float64\n",
      " 12  order_time_of_day    30156 non-null  object \n",
      " 13  distance             30156 non-null  float64\n",
      " 14  distance_type        30156 non-null  object \n",
      "dtypes: float64(5), int64(2), object(8)\n",
      "memory usage: 3.7+ MB\n"
     ]
    }
   ],
   "source": [
    "X_train.info()"
   ]
  },
  {
   "cell_type": "code",
   "execution_count": 20,
   "id": "275a3178",
   "metadata": {},
   "outputs": [
    {
     "data": {
      "text/plain": [
       "(30156, 15)"
      ]
     },
     "execution_count": 20,
     "metadata": {},
     "output_type": "execute_result"
    }
   ],
   "source": [
    "X_train.shape"
   ]
  },
  {
   "cell_type": "code",
   "execution_count": 21,
   "id": "8de66e66",
   "metadata": {},
   "outputs": [
    {
     "name": "stdout",
     "output_type": "stream",
     "text": [
      "traffic ['jam' 'medium' 'high' 'low']\n",
      "distance_type ['medium' 'short' 'long' 'very_long']\n"
     ]
    }
   ],
   "source": [
    "for col in ordinal_cat_cols:\n",
    "    print(col , X_train[col].unique())"
   ]
  },
  {
   "cell_type": "code",
   "execution_count": 22,
   "id": "f85acc9a",
   "metadata": {},
   "outputs": [],
   "source": [
    "traffic_order = ['low', 'medium', 'high', 'jam']\n",
    "\n",
    "distance_type = ['short' , 'medium','long', 'very_long']"
   ]
  },
  {
   "cell_type": "code",
   "execution_count": 23,
   "id": "24912642",
   "metadata": {},
   "outputs": [],
   "source": [
    "preprocessor = ColumnTransformer(\n",
    "    transformers=[\n",
    "        ('scaling', MinMaxScaler(), num_cols),\n",
    "\n",
    "        ('ordinal_encode', OrdinalEncoder(\n",
    "            categories=[traffic_order,distance_type],\n",
    "            handle_unknown='use_encoded_value',\n",
    "            unknown_value= -1,\n",
    "            encoded_missing_value= -999)\n",
    "            , ordinal_cat_cols),\n",
    "        \n",
    "        ('nominal_encode', \n",
    "         OneHotEncoder(handle_unknown='ignore', sparse_output=False), \n",
    "         nominal_cat_cols)\n",
    "    ], remainder='passthrough',verbose_feature_names_out=False,\n",
    "    force_int_remainder_cols = False,n_jobs=-1\n",
    ")"
   ]
  },
  {
   "cell_type": "code",
   "execution_count": 24,
   "id": "f2335eef",
   "metadata": {},
   "outputs": [
    {
     "data": {
      "text/html": [
       "<style>#sk-container-id-1 {\n",
       "  /* Definition of color scheme common for light and dark mode */\n",
       "  --sklearn-color-text: #000;\n",
       "  --sklearn-color-text-muted: #666;\n",
       "  --sklearn-color-line: gray;\n",
       "  /* Definition of color scheme for unfitted estimators */\n",
       "  --sklearn-color-unfitted-level-0: #fff5e6;\n",
       "  --sklearn-color-unfitted-level-1: #f6e4d2;\n",
       "  --sklearn-color-unfitted-level-2: #ffe0b3;\n",
       "  --sklearn-color-unfitted-level-3: chocolate;\n",
       "  /* Definition of color scheme for fitted estimators */\n",
       "  --sklearn-color-fitted-level-0: #f0f8ff;\n",
       "  --sklearn-color-fitted-level-1: #d4ebff;\n",
       "  --sklearn-color-fitted-level-2: #b3dbfd;\n",
       "  --sklearn-color-fitted-level-3: cornflowerblue;\n",
       "\n",
       "  /* Specific color for light theme */\n",
       "  --sklearn-color-text-on-default-background: var(--sg-text-color, var(--theme-code-foreground, var(--jp-content-font-color1, black)));\n",
       "  --sklearn-color-background: var(--sg-background-color, var(--theme-background, var(--jp-layout-color0, white)));\n",
       "  --sklearn-color-border-box: var(--sg-text-color, var(--theme-code-foreground, var(--jp-content-font-color1, black)));\n",
       "  --sklearn-color-icon: #696969;\n",
       "\n",
       "  @media (prefers-color-scheme: dark) {\n",
       "    /* Redefinition of color scheme for dark theme */\n",
       "    --sklearn-color-text-on-default-background: var(--sg-text-color, var(--theme-code-foreground, var(--jp-content-font-color1, white)));\n",
       "    --sklearn-color-background: var(--sg-background-color, var(--theme-background, var(--jp-layout-color0, #111)));\n",
       "    --sklearn-color-border-box: var(--sg-text-color, var(--theme-code-foreground, var(--jp-content-font-color1, white)));\n",
       "    --sklearn-color-icon: #878787;\n",
       "  }\n",
       "}\n",
       "\n",
       "#sk-container-id-1 {\n",
       "  color: var(--sklearn-color-text);\n",
       "}\n",
       "\n",
       "#sk-container-id-1 pre {\n",
       "  padding: 0;\n",
       "}\n",
       "\n",
       "#sk-container-id-1 input.sk-hidden--visually {\n",
       "  border: 0;\n",
       "  clip: rect(1px 1px 1px 1px);\n",
       "  clip: rect(1px, 1px, 1px, 1px);\n",
       "  height: 1px;\n",
       "  margin: -1px;\n",
       "  overflow: hidden;\n",
       "  padding: 0;\n",
       "  position: absolute;\n",
       "  width: 1px;\n",
       "}\n",
       "\n",
       "#sk-container-id-1 div.sk-dashed-wrapped {\n",
       "  border: 1px dashed var(--sklearn-color-line);\n",
       "  margin: 0 0.4em 0.5em 0.4em;\n",
       "  box-sizing: border-box;\n",
       "  padding-bottom: 0.4em;\n",
       "  background-color: var(--sklearn-color-background);\n",
       "}\n",
       "\n",
       "#sk-container-id-1 div.sk-container {\n",
       "  /* jupyter's `normalize.less` sets `[hidden] { display: none; }`\n",
       "     but bootstrap.min.css set `[hidden] { display: none !important; }`\n",
       "     so we also need the `!important` here to be able to override the\n",
       "     default hidden behavior on the sphinx rendered scikit-learn.org.\n",
       "     See: https://github.com/scikit-learn/scikit-learn/issues/21755 */\n",
       "  display: inline-block !important;\n",
       "  position: relative;\n",
       "}\n",
       "\n",
       "#sk-container-id-1 div.sk-text-repr-fallback {\n",
       "  display: none;\n",
       "}\n",
       "\n",
       "div.sk-parallel-item,\n",
       "div.sk-serial,\n",
       "div.sk-item {\n",
       "  /* draw centered vertical line to link estimators */\n",
       "  background-image: linear-gradient(var(--sklearn-color-text-on-default-background), var(--sklearn-color-text-on-default-background));\n",
       "  background-size: 2px 100%;\n",
       "  background-repeat: no-repeat;\n",
       "  background-position: center center;\n",
       "}\n",
       "\n",
       "/* Parallel-specific style estimator block */\n",
       "\n",
       "#sk-container-id-1 div.sk-parallel-item::after {\n",
       "  content: \"\";\n",
       "  width: 100%;\n",
       "  border-bottom: 2px solid var(--sklearn-color-text-on-default-background);\n",
       "  flex-grow: 1;\n",
       "}\n",
       "\n",
       "#sk-container-id-1 div.sk-parallel {\n",
       "  display: flex;\n",
       "  align-items: stretch;\n",
       "  justify-content: center;\n",
       "  background-color: var(--sklearn-color-background);\n",
       "  position: relative;\n",
       "}\n",
       "\n",
       "#sk-container-id-1 div.sk-parallel-item {\n",
       "  display: flex;\n",
       "  flex-direction: column;\n",
       "}\n",
       "\n",
       "#sk-container-id-1 div.sk-parallel-item:first-child::after {\n",
       "  align-self: flex-end;\n",
       "  width: 50%;\n",
       "}\n",
       "\n",
       "#sk-container-id-1 div.sk-parallel-item:last-child::after {\n",
       "  align-self: flex-start;\n",
       "  width: 50%;\n",
       "}\n",
       "\n",
       "#sk-container-id-1 div.sk-parallel-item:only-child::after {\n",
       "  width: 0;\n",
       "}\n",
       "\n",
       "/* Serial-specific style estimator block */\n",
       "\n",
       "#sk-container-id-1 div.sk-serial {\n",
       "  display: flex;\n",
       "  flex-direction: column;\n",
       "  align-items: center;\n",
       "  background-color: var(--sklearn-color-background);\n",
       "  padding-right: 1em;\n",
       "  padding-left: 1em;\n",
       "}\n",
       "\n",
       "\n",
       "/* Toggleable style: style used for estimator/Pipeline/ColumnTransformer box that is\n",
       "clickable and can be expanded/collapsed.\n",
       "- Pipeline and ColumnTransformer use this feature and define the default style\n",
       "- Estimators will overwrite some part of the style using the `sk-estimator` class\n",
       "*/\n",
       "\n",
       "/* Pipeline and ColumnTransformer style (default) */\n",
       "\n",
       "#sk-container-id-1 div.sk-toggleable {\n",
       "  /* Default theme specific background. It is overwritten whether we have a\n",
       "  specific estimator or a Pipeline/ColumnTransformer */\n",
       "  background-color: var(--sklearn-color-background);\n",
       "}\n",
       "\n",
       "/* Toggleable label */\n",
       "#sk-container-id-1 label.sk-toggleable__label {\n",
       "  cursor: pointer;\n",
       "  display: flex;\n",
       "  width: 100%;\n",
       "  margin-bottom: 0;\n",
       "  padding: 0.5em;\n",
       "  box-sizing: border-box;\n",
       "  text-align: center;\n",
       "  align-items: start;\n",
       "  justify-content: space-between;\n",
       "  gap: 0.5em;\n",
       "}\n",
       "\n",
       "#sk-container-id-1 label.sk-toggleable__label .caption {\n",
       "  font-size: 0.6rem;\n",
       "  font-weight: lighter;\n",
       "  color: var(--sklearn-color-text-muted);\n",
       "}\n",
       "\n",
       "#sk-container-id-1 label.sk-toggleable__label-arrow:before {\n",
       "  /* Arrow on the left of the label */\n",
       "  content: \"▸\";\n",
       "  float: left;\n",
       "  margin-right: 0.25em;\n",
       "  color: var(--sklearn-color-icon);\n",
       "}\n",
       "\n",
       "#sk-container-id-1 label.sk-toggleable__label-arrow:hover:before {\n",
       "  color: var(--sklearn-color-text);\n",
       "}\n",
       "\n",
       "/* Toggleable content - dropdown */\n",
       "\n",
       "#sk-container-id-1 div.sk-toggleable__content {\n",
       "  max-height: 0;\n",
       "  max-width: 0;\n",
       "  overflow: hidden;\n",
       "  text-align: left;\n",
       "  /* unfitted */\n",
       "  background-color: var(--sklearn-color-unfitted-level-0);\n",
       "}\n",
       "\n",
       "#sk-container-id-1 div.sk-toggleable__content.fitted {\n",
       "  /* fitted */\n",
       "  background-color: var(--sklearn-color-fitted-level-0);\n",
       "}\n",
       "\n",
       "#sk-container-id-1 div.sk-toggleable__content pre {\n",
       "  margin: 0.2em;\n",
       "  border-radius: 0.25em;\n",
       "  color: var(--sklearn-color-text);\n",
       "  /* unfitted */\n",
       "  background-color: var(--sklearn-color-unfitted-level-0);\n",
       "}\n",
       "\n",
       "#sk-container-id-1 div.sk-toggleable__content.fitted pre {\n",
       "  /* unfitted */\n",
       "  background-color: var(--sklearn-color-fitted-level-0);\n",
       "}\n",
       "\n",
       "#sk-container-id-1 input.sk-toggleable__control:checked~div.sk-toggleable__content {\n",
       "  /* Expand drop-down */\n",
       "  max-height: 200px;\n",
       "  max-width: 100%;\n",
       "  overflow: auto;\n",
       "}\n",
       "\n",
       "#sk-container-id-1 input.sk-toggleable__control:checked~label.sk-toggleable__label-arrow:before {\n",
       "  content: \"▾\";\n",
       "}\n",
       "\n",
       "/* Pipeline/ColumnTransformer-specific style */\n",
       "\n",
       "#sk-container-id-1 div.sk-label input.sk-toggleable__control:checked~label.sk-toggleable__label {\n",
       "  color: var(--sklearn-color-text);\n",
       "  background-color: var(--sklearn-color-unfitted-level-2);\n",
       "}\n",
       "\n",
       "#sk-container-id-1 div.sk-label.fitted input.sk-toggleable__control:checked~label.sk-toggleable__label {\n",
       "  background-color: var(--sklearn-color-fitted-level-2);\n",
       "}\n",
       "\n",
       "/* Estimator-specific style */\n",
       "\n",
       "/* Colorize estimator box */\n",
       "#sk-container-id-1 div.sk-estimator input.sk-toggleable__control:checked~label.sk-toggleable__label {\n",
       "  /* unfitted */\n",
       "  background-color: var(--sklearn-color-unfitted-level-2);\n",
       "}\n",
       "\n",
       "#sk-container-id-1 div.sk-estimator.fitted input.sk-toggleable__control:checked~label.sk-toggleable__label {\n",
       "  /* fitted */\n",
       "  background-color: var(--sklearn-color-fitted-level-2);\n",
       "}\n",
       "\n",
       "#sk-container-id-1 div.sk-label label.sk-toggleable__label,\n",
       "#sk-container-id-1 div.sk-label label {\n",
       "  /* The background is the default theme color */\n",
       "  color: var(--sklearn-color-text-on-default-background);\n",
       "}\n",
       "\n",
       "/* On hover, darken the color of the background */\n",
       "#sk-container-id-1 div.sk-label:hover label.sk-toggleable__label {\n",
       "  color: var(--sklearn-color-text);\n",
       "  background-color: var(--sklearn-color-unfitted-level-2);\n",
       "}\n",
       "\n",
       "/* Label box, darken color on hover, fitted */\n",
       "#sk-container-id-1 div.sk-label.fitted:hover label.sk-toggleable__label.fitted {\n",
       "  color: var(--sklearn-color-text);\n",
       "  background-color: var(--sklearn-color-fitted-level-2);\n",
       "}\n",
       "\n",
       "/* Estimator label */\n",
       "\n",
       "#sk-container-id-1 div.sk-label label {\n",
       "  font-family: monospace;\n",
       "  font-weight: bold;\n",
       "  display: inline-block;\n",
       "  line-height: 1.2em;\n",
       "}\n",
       "\n",
       "#sk-container-id-1 div.sk-label-container {\n",
       "  text-align: center;\n",
       "}\n",
       "\n",
       "/* Estimator-specific */\n",
       "#sk-container-id-1 div.sk-estimator {\n",
       "  font-family: monospace;\n",
       "  border: 1px dotted var(--sklearn-color-border-box);\n",
       "  border-radius: 0.25em;\n",
       "  box-sizing: border-box;\n",
       "  margin-bottom: 0.5em;\n",
       "  /* unfitted */\n",
       "  background-color: var(--sklearn-color-unfitted-level-0);\n",
       "}\n",
       "\n",
       "#sk-container-id-1 div.sk-estimator.fitted {\n",
       "  /* fitted */\n",
       "  background-color: var(--sklearn-color-fitted-level-0);\n",
       "}\n",
       "\n",
       "/* on hover */\n",
       "#sk-container-id-1 div.sk-estimator:hover {\n",
       "  /* unfitted */\n",
       "  background-color: var(--sklearn-color-unfitted-level-2);\n",
       "}\n",
       "\n",
       "#sk-container-id-1 div.sk-estimator.fitted:hover {\n",
       "  /* fitted */\n",
       "  background-color: var(--sklearn-color-fitted-level-2);\n",
       "}\n",
       "\n",
       "/* Specification for estimator info (e.g. \"i\" and \"?\") */\n",
       "\n",
       "/* Common style for \"i\" and \"?\" */\n",
       "\n",
       ".sk-estimator-doc-link,\n",
       "a:link.sk-estimator-doc-link,\n",
       "a:visited.sk-estimator-doc-link {\n",
       "  float: right;\n",
       "  font-size: smaller;\n",
       "  line-height: 1em;\n",
       "  font-family: monospace;\n",
       "  background-color: var(--sklearn-color-background);\n",
       "  border-radius: 1em;\n",
       "  height: 1em;\n",
       "  width: 1em;\n",
       "  text-decoration: none !important;\n",
       "  margin-left: 0.5em;\n",
       "  text-align: center;\n",
       "  /* unfitted */\n",
       "  border: var(--sklearn-color-unfitted-level-1) 1pt solid;\n",
       "  color: var(--sklearn-color-unfitted-level-1);\n",
       "}\n",
       "\n",
       ".sk-estimator-doc-link.fitted,\n",
       "a:link.sk-estimator-doc-link.fitted,\n",
       "a:visited.sk-estimator-doc-link.fitted {\n",
       "  /* fitted */\n",
       "  border: var(--sklearn-color-fitted-level-1) 1pt solid;\n",
       "  color: var(--sklearn-color-fitted-level-1);\n",
       "}\n",
       "\n",
       "/* On hover */\n",
       "div.sk-estimator:hover .sk-estimator-doc-link:hover,\n",
       ".sk-estimator-doc-link:hover,\n",
       "div.sk-label-container:hover .sk-estimator-doc-link:hover,\n",
       ".sk-estimator-doc-link:hover {\n",
       "  /* unfitted */\n",
       "  background-color: var(--sklearn-color-unfitted-level-3);\n",
       "  color: var(--sklearn-color-background);\n",
       "  text-decoration: none;\n",
       "}\n",
       "\n",
       "div.sk-estimator.fitted:hover .sk-estimator-doc-link.fitted:hover,\n",
       ".sk-estimator-doc-link.fitted:hover,\n",
       "div.sk-label-container:hover .sk-estimator-doc-link.fitted:hover,\n",
       ".sk-estimator-doc-link.fitted:hover {\n",
       "  /* fitted */\n",
       "  background-color: var(--sklearn-color-fitted-level-3);\n",
       "  color: var(--sklearn-color-background);\n",
       "  text-decoration: none;\n",
       "}\n",
       "\n",
       "/* Span, style for the box shown on hovering the info icon */\n",
       ".sk-estimator-doc-link span {\n",
       "  display: none;\n",
       "  z-index: 9999;\n",
       "  position: relative;\n",
       "  font-weight: normal;\n",
       "  right: .2ex;\n",
       "  padding: .5ex;\n",
       "  margin: .5ex;\n",
       "  width: min-content;\n",
       "  min-width: 20ex;\n",
       "  max-width: 50ex;\n",
       "  color: var(--sklearn-color-text);\n",
       "  box-shadow: 2pt 2pt 4pt #999;\n",
       "  /* unfitted */\n",
       "  background: var(--sklearn-color-unfitted-level-0);\n",
       "  border: .5pt solid var(--sklearn-color-unfitted-level-3);\n",
       "}\n",
       "\n",
       ".sk-estimator-doc-link.fitted span {\n",
       "  /* fitted */\n",
       "  background: var(--sklearn-color-fitted-level-0);\n",
       "  border: var(--sklearn-color-fitted-level-3);\n",
       "}\n",
       "\n",
       ".sk-estimator-doc-link:hover span {\n",
       "  display: block;\n",
       "}\n",
       "\n",
       "/* \"?\"-specific style due to the `<a>` HTML tag */\n",
       "\n",
       "#sk-container-id-1 a.estimator_doc_link {\n",
       "  float: right;\n",
       "  font-size: 1rem;\n",
       "  line-height: 1em;\n",
       "  font-family: monospace;\n",
       "  background-color: var(--sklearn-color-background);\n",
       "  border-radius: 1rem;\n",
       "  height: 1rem;\n",
       "  width: 1rem;\n",
       "  text-decoration: none;\n",
       "  /* unfitted */\n",
       "  color: var(--sklearn-color-unfitted-level-1);\n",
       "  border: var(--sklearn-color-unfitted-level-1) 1pt solid;\n",
       "}\n",
       "\n",
       "#sk-container-id-1 a.estimator_doc_link.fitted {\n",
       "  /* fitted */\n",
       "  border: var(--sklearn-color-fitted-level-1) 1pt solid;\n",
       "  color: var(--sklearn-color-fitted-level-1);\n",
       "}\n",
       "\n",
       "/* On hover */\n",
       "#sk-container-id-1 a.estimator_doc_link:hover {\n",
       "  /* unfitted */\n",
       "  background-color: var(--sklearn-color-unfitted-level-3);\n",
       "  color: var(--sklearn-color-background);\n",
       "  text-decoration: none;\n",
       "}\n",
       "\n",
       "#sk-container-id-1 a.estimator_doc_link.fitted:hover {\n",
       "  /* fitted */\n",
       "  background-color: var(--sklearn-color-fitted-level-3);\n",
       "}\n",
       "</style><div id=\"sk-container-id-1\" class=\"sk-top-container\"><div class=\"sk-text-repr-fallback\"><pre>ColumnTransformer(force_int_remainder_cols=False, n_jobs=-1,\n",
       "                  remainder=&#x27;passthrough&#x27;,\n",
       "                  transformers=[(&#x27;scaling&#x27;, MinMaxScaler(),\n",
       "                                 [&#x27;age&#x27;, &#x27;ratings&#x27;, &#x27;pickup_time_minutes&#x27;,\n",
       "                                  &#x27;distance&#x27;]),\n",
       "                                (&#x27;ordinal_encode&#x27;,\n",
       "                                 OrdinalEncoder(categories=[[&#x27;low&#x27;, &#x27;medium&#x27;,\n",
       "                                                             &#x27;high&#x27;, &#x27;jam&#x27;],\n",
       "                                                            [&#x27;short&#x27;, &#x27;medium&#x27;,\n",
       "                                                             &#x27;long&#x27;,\n",
       "                                                             &#x27;very_long&#x27;]],\n",
       "                                                encoded_missing_value=-999,\n",
       "                                                handle_unknown=&#x27;use_encoded_value&#x27;,\n",
       "                                                unknown_value=-1),\n",
       "                                 [&#x27;traffic&#x27;, &#x27;distance_type&#x27;]),\n",
       "                                (&#x27;nominal_encode&#x27;,\n",
       "                                 OneHotEncoder(handle_unknown=&#x27;ignore&#x27;,\n",
       "                                               sparse_output=False),\n",
       "                                 [&#x27;weather&#x27;, &#x27;type_of_order&#x27;, &#x27;type_of_vehicle&#x27;,\n",
       "                                  &#x27;festival&#x27;, &#x27;city_type&#x27;, &#x27;is_weekend&#x27;,\n",
       "                                  &#x27;order_time_of_day&#x27;])],\n",
       "                  verbose_feature_names_out=False)</pre><b>In a Jupyter environment, please rerun this cell to show the HTML representation or trust the notebook. <br />On GitHub, the HTML representation is unable to render, please try loading this page with nbviewer.org.</b></div><div class=\"sk-container\" hidden><div class=\"sk-item sk-dashed-wrapped\"><div class=\"sk-label-container\"><div class=\"sk-label  sk-toggleable\"><input class=\"sk-toggleable__control sk-hidden--visually\" id=\"sk-estimator-id-1\" type=\"checkbox\" ><label for=\"sk-estimator-id-1\" class=\"sk-toggleable__label  sk-toggleable__label-arrow\"><div><div>ColumnTransformer</div></div><div><a class=\"sk-estimator-doc-link \" rel=\"noreferrer\" target=\"_blank\" href=\"https://scikit-learn.org/1.6/modules/generated/sklearn.compose.ColumnTransformer.html\">?<span>Documentation for ColumnTransformer</span></a><span class=\"sk-estimator-doc-link \">i<span>Not fitted</span></span></div></label><div class=\"sk-toggleable__content \"><pre>ColumnTransformer(force_int_remainder_cols=False, n_jobs=-1,\n",
       "                  remainder=&#x27;passthrough&#x27;,\n",
       "                  transformers=[(&#x27;scaling&#x27;, MinMaxScaler(),\n",
       "                                 [&#x27;age&#x27;, &#x27;ratings&#x27;, &#x27;pickup_time_minutes&#x27;,\n",
       "                                  &#x27;distance&#x27;]),\n",
       "                                (&#x27;ordinal_encode&#x27;,\n",
       "                                 OrdinalEncoder(categories=[[&#x27;low&#x27;, &#x27;medium&#x27;,\n",
       "                                                             &#x27;high&#x27;, &#x27;jam&#x27;],\n",
       "                                                            [&#x27;short&#x27;, &#x27;medium&#x27;,\n",
       "                                                             &#x27;long&#x27;,\n",
       "                                                             &#x27;very_long&#x27;]],\n",
       "                                                encoded_missing_value=-999,\n",
       "                                                handle_unknown=&#x27;use_encoded_value&#x27;,\n",
       "                                                unknown_value=-1),\n",
       "                                 [&#x27;traffic&#x27;, &#x27;distance_type&#x27;]),\n",
       "                                (&#x27;nominal_encode&#x27;,\n",
       "                                 OneHotEncoder(handle_unknown=&#x27;ignore&#x27;,\n",
       "                                               sparse_output=False),\n",
       "                                 [&#x27;weather&#x27;, &#x27;type_of_order&#x27;, &#x27;type_of_vehicle&#x27;,\n",
       "                                  &#x27;festival&#x27;, &#x27;city_type&#x27;, &#x27;is_weekend&#x27;,\n",
       "                                  &#x27;order_time_of_day&#x27;])],\n",
       "                  verbose_feature_names_out=False)</pre></div> </div></div><div class=\"sk-parallel\"><div class=\"sk-parallel-item\"><div class=\"sk-item\"><div class=\"sk-label-container\"><div class=\"sk-label  sk-toggleable\"><input class=\"sk-toggleable__control sk-hidden--visually\" id=\"sk-estimator-id-2\" type=\"checkbox\" ><label for=\"sk-estimator-id-2\" class=\"sk-toggleable__label  sk-toggleable__label-arrow\"><div><div>scaling</div></div></label><div class=\"sk-toggleable__content \"><pre>[&#x27;age&#x27;, &#x27;ratings&#x27;, &#x27;pickup_time_minutes&#x27;, &#x27;distance&#x27;]</pre></div> </div></div><div class=\"sk-serial\"><div class=\"sk-item\"><div class=\"sk-estimator  sk-toggleable\"><input class=\"sk-toggleable__control sk-hidden--visually\" id=\"sk-estimator-id-3\" type=\"checkbox\" ><label for=\"sk-estimator-id-3\" class=\"sk-toggleable__label  sk-toggleable__label-arrow\"><div><div>MinMaxScaler</div></div><div><a class=\"sk-estimator-doc-link \" rel=\"noreferrer\" target=\"_blank\" href=\"https://scikit-learn.org/1.6/modules/generated/sklearn.preprocessing.MinMaxScaler.html\">?<span>Documentation for MinMaxScaler</span></a></div></label><div class=\"sk-toggleable__content \"><pre>MinMaxScaler()</pre></div> </div></div></div></div></div><div class=\"sk-parallel-item\"><div class=\"sk-item\"><div class=\"sk-label-container\"><div class=\"sk-label  sk-toggleable\"><input class=\"sk-toggleable__control sk-hidden--visually\" id=\"sk-estimator-id-4\" type=\"checkbox\" ><label for=\"sk-estimator-id-4\" class=\"sk-toggleable__label  sk-toggleable__label-arrow\"><div><div>ordinal_encode</div></div></label><div class=\"sk-toggleable__content \"><pre>[&#x27;traffic&#x27;, &#x27;distance_type&#x27;]</pre></div> </div></div><div class=\"sk-serial\"><div class=\"sk-item\"><div class=\"sk-estimator  sk-toggleable\"><input class=\"sk-toggleable__control sk-hidden--visually\" id=\"sk-estimator-id-5\" type=\"checkbox\" ><label for=\"sk-estimator-id-5\" class=\"sk-toggleable__label  sk-toggleable__label-arrow\"><div><div>OrdinalEncoder</div></div><div><a class=\"sk-estimator-doc-link \" rel=\"noreferrer\" target=\"_blank\" href=\"https://scikit-learn.org/1.6/modules/generated/sklearn.preprocessing.OrdinalEncoder.html\">?<span>Documentation for OrdinalEncoder</span></a></div></label><div class=\"sk-toggleable__content \"><pre>OrdinalEncoder(categories=[[&#x27;low&#x27;, &#x27;medium&#x27;, &#x27;high&#x27;, &#x27;jam&#x27;],\n",
       "                           [&#x27;short&#x27;, &#x27;medium&#x27;, &#x27;long&#x27;, &#x27;very_long&#x27;]],\n",
       "               encoded_missing_value=-999, handle_unknown=&#x27;use_encoded_value&#x27;,\n",
       "               unknown_value=-1)</pre></div> </div></div></div></div></div><div class=\"sk-parallel-item\"><div class=\"sk-item\"><div class=\"sk-label-container\"><div class=\"sk-label  sk-toggleable\"><input class=\"sk-toggleable__control sk-hidden--visually\" id=\"sk-estimator-id-6\" type=\"checkbox\" ><label for=\"sk-estimator-id-6\" class=\"sk-toggleable__label  sk-toggleable__label-arrow\"><div><div>nominal_encode</div></div></label><div class=\"sk-toggleable__content \"><pre>[&#x27;weather&#x27;, &#x27;type_of_order&#x27;, &#x27;type_of_vehicle&#x27;, &#x27;festival&#x27;, &#x27;city_type&#x27;, &#x27;is_weekend&#x27;, &#x27;order_time_of_day&#x27;]</pre></div> </div></div><div class=\"sk-serial\"><div class=\"sk-item\"><div class=\"sk-estimator  sk-toggleable\"><input class=\"sk-toggleable__control sk-hidden--visually\" id=\"sk-estimator-id-7\" type=\"checkbox\" ><label for=\"sk-estimator-id-7\" class=\"sk-toggleable__label  sk-toggleable__label-arrow\"><div><div>OneHotEncoder</div></div><div><a class=\"sk-estimator-doc-link \" rel=\"noreferrer\" target=\"_blank\" href=\"https://scikit-learn.org/1.6/modules/generated/sklearn.preprocessing.OneHotEncoder.html\">?<span>Documentation for OneHotEncoder</span></a></div></label><div class=\"sk-toggleable__content \"><pre>OneHotEncoder(handle_unknown=&#x27;ignore&#x27;, sparse_output=False)</pre></div> </div></div></div></div></div><div class=\"sk-parallel-item\"><div class=\"sk-item\"><div class=\"sk-label-container\"><div class=\"sk-label  sk-toggleable\"><input class=\"sk-toggleable__control sk-hidden--visually\" id=\"sk-estimator-id-8\" type=\"checkbox\" ><label for=\"sk-estimator-id-8\" class=\"sk-toggleable__label  sk-toggleable__label-arrow\"><div><div>remainder</div></div></label><div class=\"sk-toggleable__content \"><pre></pre></div> </div></div><div class=\"sk-serial\"><div class=\"sk-item\"><div class=\"sk-estimator  sk-toggleable\"><input class=\"sk-toggleable__control sk-hidden--visually\" id=\"sk-estimator-id-9\" type=\"checkbox\" ><label for=\"sk-estimator-id-9\" class=\"sk-toggleable__label  sk-toggleable__label-arrow\"><div><div>passthrough</div></div></label><div class=\"sk-toggleable__content \"><pre>passthrough</pre></div> </div></div></div></div></div></div></div></div></div>"
      ],
      "text/plain": [
       "ColumnTransformer(force_int_remainder_cols=False, n_jobs=-1,\n",
       "                  remainder='passthrough',\n",
       "                  transformers=[('scaling', MinMaxScaler(),\n",
       "                                 ['age', 'ratings', 'pickup_time_minutes',\n",
       "                                  'distance']),\n",
       "                                ('ordinal_encode',\n",
       "                                 OrdinalEncoder(categories=[['low', 'medium',\n",
       "                                                             'high', 'jam'],\n",
       "                                                            ['short', 'medium',\n",
       "                                                             'long',\n",
       "                                                             'very_long']],\n",
       "                                                encoded_missing_value=-999,\n",
       "                                                handle_unknown='use_encoded_value',\n",
       "                                                unknown_value=-1),\n",
       "                                 ['traffic', 'distance_type']),\n",
       "                                ('nominal_encode',\n",
       "                                 OneHotEncoder(handle_unknown='ignore',\n",
       "                                               sparse_output=False),\n",
       "                                 ['weather', 'type_of_order', 'type_of_vehicle',\n",
       "                                  'festival', 'city_type', 'is_weekend',\n",
       "                                  'order_time_of_day'])],\n",
       "                  verbose_feature_names_out=False)"
      ]
     },
     "execution_count": 24,
     "metadata": {},
     "output_type": "execute_result"
    }
   ],
   "source": [
    "preprocessor"
   ]
  },
  {
   "cell_type": "code",
   "execution_count": 25,
   "id": "415be03e",
   "metadata": {},
   "outputs": [],
   "source": [
    "X_train_processed = preprocessor.fit_transform(X_train)\n",
    "\n",
    "X_test_processed = preprocessor.transform(X_test)"
   ]
  },
  {
   "cell_type": "code",
   "execution_count": 26,
   "id": "3a87c980",
   "metadata": {},
   "outputs": [
    {
     "data": {
      "text/plain": [
       "(30156, 32)"
      ]
     },
     "execution_count": 26,
     "metadata": {},
     "output_type": "execute_result"
    }
   ],
   "source": [
    "X_train_processed.shape"
   ]
  },
  {
   "cell_type": "code",
   "execution_count": 27,
   "id": "17b3f700",
   "metadata": {},
   "outputs": [
    {
     "data": {
      "text/plain": [
       "(7539, 32)"
      ]
     },
     "execution_count": 27,
     "metadata": {},
     "output_type": "execute_result"
    }
   ],
   "source": [
    "X_test_processed.shape"
   ]
  },
  {
   "cell_type": "code",
   "execution_count": 28,
   "id": "9c180462",
   "metadata": {},
   "outputs": [
    {
     "data": {
      "text/plain": [
       "Index(['age', 'ratings', 'pickup_time_minutes', 'distance', 'traffic',\n",
       "       'distance_type', 'weather_cloudy', 'weather_fog', 'weather_sandstorms',\n",
       "       'weather_stormy', 'weather_sunny', 'weather_windy',\n",
       "       'type_of_order_buffet', 'type_of_order_drinks', 'type_of_order_meal',\n",
       "       'type_of_order_snack', 'type_of_vehicle_electric_scooter',\n",
       "       'type_of_vehicle_motorcycle', 'type_of_vehicle_scooter', 'festival_no',\n",
       "       'festival_yes', 'city_type_metropolitian', 'city_type_semi-urban',\n",
       "       'city_type_urban', 'is_weekend_0', 'is_weekend_1',\n",
       "       'order_time_of_day_afternoon', 'order_time_of_day_evening',\n",
       "       'order_time_of_day_morning', 'order_time_of_day_night',\n",
       "       'vehicle_condition', 'multiple_deliveries'],\n",
       "      dtype='object')"
      ]
     },
     "execution_count": 28,
     "metadata": {},
     "output_type": "execute_result"
    }
   ],
   "source": [
    "X_train_processed.columns"
   ]
  },
  {
   "cell_type": "code",
   "execution_count": 29,
   "id": "bd61530e",
   "metadata": {},
   "outputs": [
    {
     "data": {
      "text/html": [
       "<pre style=\"white-space:pre;overflow-x:auto;line-height:normal;font-family:Menlo,'DejaVu Sans Mono',consolas,'Courier New',monospace\">Accessing as vinayak910\n",
       "</pre>\n"
      ],
      "text/plain": [
       "Accessing as vinayak910\n"
      ]
     },
     "metadata": {},
     "output_type": "display_data"
    },
    {
     "data": {
      "text/html": [
       "<pre style=\"white-space:pre;overflow-x:auto;line-height:normal;font-family:Menlo,'DejaVu Sans Mono',consolas,'Courier New',monospace\">Initialized MLflow to track repo <span style=\"color: #008000; text-decoration-color: #008000\">\"vinayak910/swiggy-delivery-time-prediction\"</span>\n",
       "</pre>\n"
      ],
      "text/plain": [
       "Initialized MLflow to track repo \u001b[32m\"vinayak910/swiggy-delivery-time-prediction\"\u001b[0m\n"
      ]
     },
     "metadata": {},
     "output_type": "display_data"
    },
    {
     "data": {
      "text/html": [
       "<pre style=\"white-space:pre;overflow-x:auto;line-height:normal;font-family:Menlo,'DejaVu Sans Mono',consolas,'Courier New',monospace\">Repository vinayak910/swiggy-delivery-time-prediction initialized!\n",
       "</pre>\n"
      ],
      "text/plain": [
       "Repository vinayak910/swiggy-delivery-time-prediction initialized!\n"
      ]
     },
     "metadata": {},
     "output_type": "display_data"
    }
   ],
   "source": [
    "import dagshub\n",
    "dagshub.init(repo_owner='vinayak910', repo_name='swiggy-delivery-time-prediction', mlflow=True)"
   ]
  },
  {
   "cell_type": "code",
   "execution_count": 30,
   "id": "3ca96c76",
   "metadata": {},
   "outputs": [],
   "source": [
    "import mlflow \n",
    "\n",
    "mlflow.set_tracking_uri(\"https://dagshub.com/vinayak910/swiggy-delivery-time-prediction.mlflow\")"
   ]
  },
  {
   "cell_type": "code",
   "execution_count": 31,
   "id": "4d1343bb",
   "metadata": {},
   "outputs": [
    {
     "data": {
      "text/plain": [
       "<Experiment: artifact_location='mlflow-artifacts:/6fe92ff5fbce4fa5984f2a2220cac0bc', creation_time=1752244480233, experiment_id='2', last_update_time=1752244480233, lifecycle_stage='active', name='Exp 2 - Top 2 Models', tags={}>"
      ]
     },
     "execution_count": 31,
     "metadata": {},
     "output_type": "execute_result"
    }
   ],
   "source": [
    "mlflow.set_experiment(\"Exp 2 - Top 2 Models\")\n"
   ]
  },
  {
   "cell_type": "code",
   "execution_count": 32,
   "id": "871bcdfd",
   "metadata": {},
   "outputs": [
    {
     "name": "stdout",
     "output_type": "stream",
     "text": [
      "Requirement already satisfied: lightgbm in d:\\dsmp  cntd\\1. mlops\\3. mlops projects\\2. swiggy-delievery-time-prediction\\swiggy-delivery-time-prediction\\.venv\\lib\\site-packages (4.6.0)\n",
      "Requirement already satisfied: numpy>=1.17.0 in d:\\dsmp  cntd\\1. mlops\\3. mlops projects\\2. swiggy-delievery-time-prediction\\swiggy-delivery-time-prediction\\.venv\\lib\\site-packages (from lightgbm) (2.2.1)\n",
      "Requirement already satisfied: scipy in d:\\dsmp  cntd\\1. mlops\\3. mlops projects\\2. swiggy-delievery-time-prediction\\swiggy-delivery-time-prediction\\.venv\\lib\\site-packages (from lightgbm) (1.16.0)\n",
      "Note: you may need to restart the kernel to use updated packages.\n"
     ]
    }
   ],
   "source": [
    "%pip install lightgbm\n"
   ]
  },
  {
   "cell_type": "code",
   "execution_count": 33,
   "id": "34dfb526",
   "metadata": {},
   "outputs": [],
   "source": [
    "from sklearn.ensemble import RandomForestRegressor,GradientBoostingRegressor\n",
    "from sklearn.svm import SVR\n",
    "from xgboost import XGBRegressor\n",
    "from lightgbm import LGBMRegressor\n",
    "import optuna \n",
    "from sklearn.neighbors import KNeighborsRegressor\n",
    "from sklearn.metrics import r2_score,mean_absolute_error"
   ]
  },
  {
   "cell_type": "code",
   "execution_count": 34,
   "id": "e8a40e82",
   "metadata": {},
   "outputs": [],
   "source": [
    "from sklearn.model_selection import cross_val_score"
   ]
  },
  {
   "cell_type": "code",
   "execution_count": 35,
   "id": "85df8164",
   "metadata": {},
   "outputs": [],
   "source": [
    "def objective(trial):\n",
    "    with mlflow.start_run(nested=True):\n",
    "        model_name = trial.suggest_categorical(\"model\", [\"SVM\", \"RF\", \"KNN\", \"GB\", \"XGB\", \"LGBM\"])\n",
    "\n",
    "        # Model selection and hyperparameter tuning\n",
    "        if model_name == \"SVM\":\n",
    "            kernel_svm = trial.suggest_categorical(\"kernel_svm\", [\"linear\", \"poly\", \"rbf\"])\n",
    "            if kernel_svm == \"linear\":\n",
    "                c_linear = trial.suggest_float(\"c_linear\", 0.1, 10, log=True)\n",
    "                model = SVR(C=c_linear, kernel=\"linear\")\n",
    "            elif kernel_svm == \"poly\":\n",
    "                c_poly = trial.suggest_float(\"c_poly\", 0.1, 10, log=True)\n",
    "                degree_poly = trial.suggest_int(\"degree_poly\", 2, 5)\n",
    "                model = SVR(C=c_poly, degree=degree_poly, kernel=\"poly\")\n",
    "            else:\n",
    "                c_rbf = trial.suggest_float(\"c_rbf\", 0.1, 100, log=True)\n",
    "                gamma_rbf = trial.suggest_float(\"gamma_rbf\", 1e-4, 1.0, log=True)\n",
    "                model = SVR(C=c_rbf, gamma=gamma_rbf, kernel=\"rbf\")\n",
    "\n",
    "        elif model_name == \"RF\":\n",
    "            n_estimators_rf = trial.suggest_int(\"n_estimators_rf\", 50, 300, step=10)\n",
    "            max_depth_rf = trial.suggest_int(\"max_depth_rf\", 4, 30)\n",
    "            min_samples_split = trial.suggest_int(\"min_samples_split\", 2, 10)\n",
    "            model = RandomForestRegressor(\n",
    "                n_estimators=n_estimators_rf,\n",
    "                max_depth=max_depth_rf,\n",
    "                min_samples_split=min_samples_split,\n",
    "                random_state=42,\n",
    "                n_jobs=-1\n",
    "            )\n",
    "\n",
    "        elif model_name == \"GB\":\n",
    "            n_estimators_gb = trial.suggest_int(\"n_estimators_gb\", 50, 300, step=10)\n",
    "            learning_rate_gb = trial.suggest_float(\"learning_rate_gb\", 0.01, 0.3, log=True)\n",
    "            max_depth_gb = trial.suggest_int(\"max_depth_gb\", 3, 15)\n",
    "            model = GradientBoostingRegressor(\n",
    "                n_estimators=n_estimators_gb,\n",
    "                learning_rate=learning_rate_gb,\n",
    "                max_depth=max_depth_gb,\n",
    "                random_state=42\n",
    "            )\n",
    "\n",
    "        elif model_name == \"KNN\":\n",
    "            n_neighbors_knn = trial.suggest_int(\"n_neighbors_knn\", 1, 30)\n",
    "            weights_knn = trial.suggest_categorical(\"weights_knn\", [\"uniform\", \"distance\"])\n",
    "            model = KNeighborsRegressor(\n",
    "                n_neighbors=n_neighbors_knn,\n",
    "                weights=weights_knn,\n",
    "                n_jobs=-1\n",
    "            )\n",
    "\n",
    "        elif model_name == \"XGB\":\n",
    "            n_estimators_xgb = trial.suggest_int(\"n_estimators_xgb\", 50, 300, step=10)\n",
    "            learning_rate_xgb = trial.suggest_float(\"learning_rate_xgb\", 0.01, 0.3, log=True)\n",
    "            max_depth_xgb = trial.suggest_int(\"max_depth_xgb\", 3, 15)\n",
    "            subsample_xgb = trial.suggest_float(\"subsample_xgb\", 0.6, 1.0)\n",
    "            colsample_bytree_xgb = trial.suggest_float(\"colsample_bytree_xgb\", 0.6, 1.0)\n",
    "            model = XGBRegressor(\n",
    "                n_estimators=n_estimators_xgb,\n",
    "                learning_rate=learning_rate_xgb,\n",
    "                max_depth=max_depth_xgb,\n",
    "                subsample=subsample_xgb,\n",
    "                colsample_bytree=colsample_bytree_xgb,\n",
    "                random_state=42,\n",
    "                n_jobs=-1,\n",
    "                verbosity=0\n",
    "            )\n",
    "\n",
    "        elif model_name == \"LGBM\":\n",
    "            n_estimators_lgbm = trial.suggest_int(\"n_estimators_lgbm\", 50, 300, step=10)\n",
    "            learning_rate_lgbm = trial.suggest_float(\"learning_rate_lgbm\", 0.01, 0.3, log=True)\n",
    "            max_depth_lgbm = trial.suggest_int(\"max_depth_lgbm\", 3, 15)\n",
    "            num_leaves = trial.suggest_int(\"num_leaves\", 15, 100)\n",
    "            model = LGBMRegressor(\n",
    "                n_estimators=n_estimators_lgbm,\n",
    "                learning_rate=learning_rate_lgbm,\n",
    "                max_depth=max_depth_lgbm,\n",
    "                num_leaves=num_leaves,\n",
    "                random_state=42\n",
    "            )\n",
    "\n",
    "        # Train model\n",
    "        model.fit(X_train_processed, y_train_pt.values.ravel())\n",
    "\n",
    "        # Predictions\n",
    "        y_pred_train = model.predict(X_train_processed)\n",
    "        y_pred_test = model.predict(X_test_processed)\n",
    "\n",
    "        y_pred_train_org = pt.inverse_transform(y_pred_train.reshape(-1, 1))\n",
    "        y_pred_test_org = pt.inverse_transform(y_pred_test.reshape(-1, 1))\n",
    "\n",
    "        # Evaluation\n",
    "        train_mae = mean_absolute_error(y_train, y_pred_train_org)\n",
    "        test_mae = mean_absolute_error(y_test, y_pred_test_org)\n",
    "        train_r2 = r2_score(y_train, y_pred_train_org)\n",
    "        test_r2 = r2_score(y_test, y_pred_test_org)\n",
    "\n",
    "        # Logging\n",
    "        mlflow.log_param(\"model\", model_name)\n",
    "        mlflow.log_params(model.get_params())\n",
    "\n",
    "        mlflow.log_metric(\"train_mae\", train_mae)\n",
    "        mlflow.log_metric(\"test_mae\", test_mae)\n",
    "        mlflow.log_metric(\"train_r2\", train_r2)\n",
    "        mlflow.log_metric(\"test_r2\", test_r2)\n",
    "\n",
    "        return test_mae\n"
   ]
  },
  {
   "cell_type": "code",
   "execution_count": 36,
   "id": "4d924635",
   "metadata": {},
   "outputs": [
    {
     "name": "stderr",
     "output_type": "stream",
     "text": [
      "[I 2025-07-12 11:49:02,983] A new study created in memory with name: model_selection\n"
     ]
    },
    {
     "name": "stdout",
     "output_type": "stream",
     "text": [
      "🏃 View run charming-sow-503 at: https://dagshub.com/vinayak910/swiggy-delivery-time-prediction.mlflow/#/experiments/2/runs/126ca0580816493a91cad6a4f22c34e3\n",
      "🧪 View experiment at: https://dagshub.com/vinayak910/swiggy-delivery-time-prediction.mlflow/#/experiments/2\n"
     ]
    },
    {
     "name": "stderr",
     "output_type": "stream",
     "text": [
      "[I 2025-07-12 11:49:20,253] Trial 7 finished with value: 4.4424163978121864 and parameters: {'model': 'KNN', 'n_neighbors_knn': 17, 'weights_knn': 'uniform'}. Best is trial 7 with value: 4.4424163978121864.\n"
     ]
    },
    {
     "name": "stdout",
     "output_type": "stream",
     "text": [
      "🏃 View run nosy-jay-711 at: https://dagshub.com/vinayak910/swiggy-delivery-time-prediction.mlflow/#/experiments/2/runs/9811ff68c54d416eb798dc64cdd88d09\n",
      "🧪 View experiment at: https://dagshub.com/vinayak910/swiggy-delivery-time-prediction.mlflow/#/experiments/2\n",
      "🏃 View run legendary-frog-507 at: https://dagshub.com/vinayak910/swiggy-delivery-time-prediction.mlflow/#/experiments/2/runs/26aa81b9977643fb81b41911ac297787\n",
      "🧪 View experiment at: https://dagshub.com/vinayak910/swiggy-delivery-time-prediction.mlflow/#/experiments/2\n"
     ]
    },
    {
     "name": "stderr",
     "output_type": "stream",
     "text": [
      "[I 2025-07-12 11:49:44,899] Trial 4 finished with value: 3.0066005650264143 and parameters: {'model': 'RF', 'n_estimators_rf': 230, 'max_depth_rf': 13, 'min_samples_split': 10}. Best is trial 4 with value: 3.0066005650264143.\n",
      "[I 2025-07-12 11:49:46,030] Trial 3 finished with value: 3.046848638123444 and parameters: {'model': 'RF', 'n_estimators_rf': 160, 'max_depth_rf': 27, 'min_samples_split': 5}. Best is trial 4 with value: 3.0066005650264143.\n"
     ]
    },
    {
     "name": "stdout",
     "output_type": "stream",
     "text": [
      "🏃 View run loud-hawk-837 at: https://dagshub.com/vinayak910/swiggy-delivery-time-prediction.mlflow/#/experiments/2/runs/cd866c75c78746a6839d658a6e9e9326\n",
      "🧪 View experiment at: https://dagshub.com/vinayak910/swiggy-delivery-time-prediction.mlflow/#/experiments/2\n",
      "🏃 View run judicious-shrimp-517 at: https://dagshub.com/vinayak910/swiggy-delivery-time-prediction.mlflow/#/experiments/2/runs/172faba9cfdb4f529393a5cd3992af14\n",
      "🧪 View experiment at: https://dagshub.com/vinayak910/swiggy-delivery-time-prediction.mlflow/#/experiments/2\n"
     ]
    },
    {
     "name": "stderr",
     "output_type": "stream",
     "text": [
      "[I 2025-07-12 11:49:59,841] Trial 0 finished with value: 3.7801411151885986 and parameters: {'model': 'XGB', 'n_estimators_xgb': 260, 'learning_rate_xgb': 0.014577844443557818, 'max_depth_xgb': 3, 'subsample_xgb': 0.758470943580105, 'colsample_bytree_xgb': 0.913132133751938}. Best is trial 4 with value: 3.0066005650264143.\n",
      "[I 2025-07-12 11:50:02,904] Trial 1 finished with value: 3.0196645405005773 and parameters: {'model': 'LGBM', 'n_estimators_lgbm': 100, 'learning_rate_lgbm': 0.11961833351230527, 'max_depth_lgbm': 6, 'num_leaves': 56}. Best is trial 4 with value: 3.0066005650264143.\n"
     ]
    },
    {
     "name": "stdout",
     "output_type": "stream",
     "text": [
      "🏃 View run enthused-horse-396 at: https://dagshub.com/vinayak910/swiggy-delivery-time-prediction.mlflow/#/experiments/2/runs/bb16d8b8c4584ff181869c65db7a4127\n",
      "🧪 View experiment at: https://dagshub.com/vinayak910/swiggy-delivery-time-prediction.mlflow/#/experiments/2\n",
      "🏃 View run delicate-mare-692 at: https://dagshub.com/vinayak910/swiggy-delivery-time-prediction.mlflow/#/experiments/2/runs/71520baec3464073bb7cc1cae1699a3b\n",
      "🧪 View experiment at: https://dagshub.com/vinayak910/swiggy-delivery-time-prediction.mlflow/#/experiments/2\n"
     ]
    },
    {
     "name": "stderr",
     "output_type": "stream",
     "text": [
      "[I 2025-07-12 11:50:08,892] Trial 5 finished with value: 2.990514781944793 and parameters: {'model': 'LGBM', 'n_estimators_lgbm': 260, 'learning_rate_lgbm': 0.05097993203016533, 'max_depth_lgbm': 7, 'num_leaves': 62}. Best is trial 5 with value: 2.990514781944793.\n",
      "[I 2025-07-12 11:50:09,891] Trial 6 finished with value: 2.972978989649277 and parameters: {'model': 'LGBM', 'n_estimators_lgbm': 280, 'learning_rate_lgbm': 0.016893820484143285, 'max_depth_lgbm': 9, 'num_leaves': 96}. Best is trial 6 with value: 2.972978989649277.\n"
     ]
    },
    {
     "name": "stdout",
     "output_type": "stream",
     "text": [
      "🏃 View run mysterious-kite-270 at: https://dagshub.com/vinayak910/swiggy-delivery-time-prediction.mlflow/#/experiments/2/runs/bbecb88636c14f9bb72e6a2c372f2da8\n",
      "🧪 View experiment at: https://dagshub.com/vinayak910/swiggy-delivery-time-prediction.mlflow/#/experiments/2\n"
     ]
    },
    {
     "name": "stderr",
     "output_type": "stream",
     "text": [
      "[I 2025-07-12 11:50:17,048] Trial 9 finished with value: 3.0350802992221544 and parameters: {'model': 'LGBM', 'n_estimators_lgbm': 180, 'learning_rate_lgbm': 0.21437231217522015, 'max_depth_lgbm': 12, 'num_leaves': 57}. Best is trial 6 with value: 2.972978989649277.\n"
     ]
    },
    {
     "name": "stdout",
     "output_type": "stream",
     "text": [
      "🏃 View run angry-cod-335 at: https://dagshub.com/vinayak910/swiggy-delivery-time-prediction.mlflow/#/experiments/2/runs/92d1f75446664f22ba52688a15dbcc77\n",
      "🧪 View experiment at: https://dagshub.com/vinayak910/swiggy-delivery-time-prediction.mlflow/#/experiments/2\n"
     ]
    },
    {
     "name": "stderr",
     "output_type": "stream",
     "text": [
      "[I 2025-07-12 11:50:36,796] Trial 14 finished with value: 3.0347727038661865 and parameters: {'model': 'RF', 'n_estimators_rf': 240, 'max_depth_rf': 26, 'min_samples_split': 8}. Best is trial 6 with value: 2.972978989649277.\n"
     ]
    },
    {
     "name": "stdout",
     "output_type": "stream",
     "text": [
      "🏃 View run clean-seal-368 at: https://dagshub.com/vinayak910/swiggy-delivery-time-prediction.mlflow/#/experiments/2/runs/96d0ce4a8e6f4667aea8e5ceded7e6c1\n",
      "🧪 View experiment at: https://dagshub.com/vinayak910/swiggy-delivery-time-prediction.mlflow/#/experiments/2\n"
     ]
    },
    {
     "name": "stderr",
     "output_type": "stream",
     "text": [
      "[I 2025-07-12 11:50:39,609] Trial 13 finished with value: 3.0420971248896063 and parameters: {'model': 'LGBM', 'n_estimators_lgbm': 240, 'learning_rate_lgbm': 0.22246982580536212, 'max_depth_lgbm': 11, 'num_leaves': 28}. Best is trial 6 with value: 2.972978989649277.\n"
     ]
    },
    {
     "name": "stdout",
     "output_type": "stream",
     "text": [
      "🏃 View run zealous-lynx-500 at: https://dagshub.com/vinayak910/swiggy-delivery-time-prediction.mlflow/#/experiments/2/runs/f16a66b27151412f9ab16ea69b0c8164\n",
      "🧪 View experiment at: https://dagshub.com/vinayak910/swiggy-delivery-time-prediction.mlflow/#/experiments/2\n"
     ]
    },
    {
     "name": "stderr",
     "output_type": "stream",
     "text": [
      "[I 2025-07-12 11:50:48,580] Trial 16 finished with value: 4.5379390143051985 and parameters: {'model': 'KNN', 'n_neighbors_knn': 4, 'weights_knn': 'distance'}. Best is trial 6 with value: 2.972978989649277.\n"
     ]
    },
    {
     "name": "stdout",
     "output_type": "stream",
     "text": [
      "🏃 View run puzzled-cub-905 at: https://dagshub.com/vinayak910/swiggy-delivery-time-prediction.mlflow/#/experiments/2/runs/9c11eba18ce643eba5dc15e1b53537e1\n",
      "🧪 View experiment at: https://dagshub.com/vinayak910/swiggy-delivery-time-prediction.mlflow/#/experiments/2\n"
     ]
    },
    {
     "name": "stderr",
     "output_type": "stream",
     "text": [
      "[I 2025-07-12 11:50:57,612] Trial 17 finished with value: 4.618093747928405 and parameters: {'model': 'GB', 'n_estimators_gb': 70, 'learning_rate_gb': 0.0234089886274019, 'max_depth_gb': 3}. Best is trial 6 with value: 2.972978989649277.\n"
     ]
    },
    {
     "name": "stdout",
     "output_type": "stream",
     "text": [
      "🏃 View run valuable-hare-433 at: https://dagshub.com/vinayak910/swiggy-delivery-time-prediction.mlflow/#/experiments/2/runs/cf19860d6dad4165981f52d22e75cf57\n",
      "🧪 View experiment at: https://dagshub.com/vinayak910/swiggy-delivery-time-prediction.mlflow/#/experiments/2\n"
     ]
    },
    {
     "name": "stderr",
     "output_type": "stream",
     "text": [
      "[I 2025-07-12 11:52:04,090] Trial 11 finished with value: 3.0708844832980944 and parameters: {'model': 'GB', 'n_estimators_gb': 250, 'learning_rate_gb': 0.07100934655617012, 'max_depth_gb': 10}. Best is trial 6 with value: 2.972978989649277.\n"
     ]
    },
    {
     "name": "stdout",
     "output_type": "stream",
     "text": [
      "🏃 View run worried-ox-600 at: https://dagshub.com/vinayak910/swiggy-delivery-time-prediction.mlflow/#/experiments/2/runs/4a90fb7e01c041df91c6bc40018f4a77\n",
      "🧪 View experiment at: https://dagshub.com/vinayak910/swiggy-delivery-time-prediction.mlflow/#/experiments/2\n"
     ]
    },
    {
     "name": "stderr",
     "output_type": "stream",
     "text": [
      "[I 2025-07-12 11:53:08,579] Trial 18 finished with value: 3.252366284424499 and parameters: {'model': 'GB', 'n_estimators_gb': 210, 'learning_rate_gb': 0.18383179143822284, 'max_depth_gb': 14}. Best is trial 6 with value: 2.972978989649277.\n"
     ]
    },
    {
     "name": "stdout",
     "output_type": "stream",
     "text": [
      "🏃 View run loud-shad-690 at: https://dagshub.com/vinayak910/swiggy-delivery-time-prediction.mlflow/#/experiments/2/runs/ef54ce8277fd482d88c58a4f7942d450\n",
      "🧪 View experiment at: https://dagshub.com/vinayak910/swiggy-delivery-time-prediction.mlflow/#/experiments/2\n"
     ]
    },
    {
     "name": "stderr",
     "output_type": "stream",
     "text": [
      "[I 2025-07-12 11:54:24,187] Trial 15 finished with value: 3.9307672642601164 and parameters: {'model': 'SVM', 'kernel_svm': 'poly', 'c_poly': 1.1973662814964101, 'degree_poly': 2}. Best is trial 6 with value: 2.972978989649277.\n"
     ]
    },
    {
     "name": "stdout",
     "output_type": "stream",
     "text": [
      "🏃 View run resilient-bass-354 at: https://dagshub.com/vinayak910/swiggy-delivery-time-prediction.mlflow/#/experiments/2/runs/1c8e0c50aeaa46fab4cf5f810e7b1856\n",
      "🧪 View experiment at: https://dagshub.com/vinayak910/swiggy-delivery-time-prediction.mlflow/#/experiments/2\n"
     ]
    },
    {
     "name": "stderr",
     "output_type": "stream",
     "text": [
      "[I 2025-07-12 11:54:40,162] Trial 2 finished with value: 4.166237934379796 and parameters: {'model': 'SVM', 'kernel_svm': 'rbf', 'c_rbf': 29.15886252911665, 'gamma_rbf': 0.0011647091037171465}. Best is trial 6 with value: 2.972978989649277.\n"
     ]
    },
    {
     "name": "stdout",
     "output_type": "stream",
     "text": [
      "🏃 View run dapper-bear-33 at: https://dagshub.com/vinayak910/swiggy-delivery-time-prediction.mlflow/#/experiments/2/runs/f52079c3ef814ffc99c348df558959f2\n",
      "🧪 View experiment at: https://dagshub.com/vinayak910/swiggy-delivery-time-prediction.mlflow/#/experiments/2\n"
     ]
    },
    {
     "name": "stderr",
     "output_type": "stream",
     "text": [
      "[I 2025-07-12 11:54:42,965] Trial 22 finished with value: 3.05675215418449 and parameters: {'model': 'LGBM', 'n_estimators_lgbm': 300, 'learning_rate_lgbm': 0.014580685054811447, 'max_depth_lgbm': 6, 'num_leaves': 98}. Best is trial 6 with value: 2.972978989649277.\n"
     ]
    },
    {
     "name": "stdout",
     "output_type": "stream",
     "text": [
      "🏃 View run enthused-foal-24 at: https://dagshub.com/vinayak910/swiggy-delivery-time-prediction.mlflow/#/experiments/2/runs/ae138f21ef1b4f7bb0ef747170812ddc\n",
      "🧪 View experiment at: https://dagshub.com/vinayak910/swiggy-delivery-time-prediction.mlflow/#/experiments/2\n"
     ]
    },
    {
     "name": "stderr",
     "output_type": "stream",
     "text": [
      "[I 2025-07-12 11:54:53,203] Trial 23 finished with value: 3.0545280295210104 and parameters: {'model': 'LGBM', 'n_estimators_lgbm': 270, 'learning_rate_lgbm': 0.014822187379756128, 'max_depth_lgbm': 6, 'num_leaves': 98}. Best is trial 6 with value: 2.972978989649277.\n"
     ]
    },
    {
     "name": "stdout",
     "output_type": "stream",
     "text": [
      "🏃 View run vaunted-bee-330 at: https://dagshub.com/vinayak910/swiggy-delivery-time-prediction.mlflow/#/experiments/2/runs/101dd6452e0c4cf0b43384cee2d14c86\n",
      "🧪 View experiment at: https://dagshub.com/vinayak910/swiggy-delivery-time-prediction.mlflow/#/experiments/2\n"
     ]
    },
    {
     "name": "stderr",
     "output_type": "stream",
     "text": [
      "[I 2025-07-12 11:55:00,895] Trial 24 finished with value: 2.972163077996169 and parameters: {'model': 'LGBM', 'n_estimators_lgbm': 290, 'learning_rate_lgbm': 0.02309582511580382, 'max_depth_lgbm': 8, 'num_leaves': 97}. Best is trial 24 with value: 2.972163077996169.\n"
     ]
    },
    {
     "name": "stdout",
     "output_type": "stream",
     "text": [
      "🏃 View run intrigued-mule-490 at: https://dagshub.com/vinayak910/swiggy-delivery-time-prediction.mlflow/#/experiments/2/runs/e4d463ca50ce4516846d7f10bcd9cd23\n",
      "🧪 View experiment at: https://dagshub.com/vinayak910/swiggy-delivery-time-prediction.mlflow/#/experiments/2\n"
     ]
    },
    {
     "name": "stderr",
     "output_type": "stream",
     "text": [
      "[I 2025-07-12 11:55:12,249] Trial 25 finished with value: 3.3632075786590576 and parameters: {'model': 'XGB', 'n_estimators_xgb': 50, 'learning_rate_xgb': 0.26084881669534254, 'max_depth_xgb': 15, 'subsample_xgb': 0.9764710402248902, 'colsample_bytree_xgb': 0.6285840542740292}. Best is trial 24 with value: 2.972163077996169.\n"
     ]
    },
    {
     "name": "stdout",
     "output_type": "stream",
     "text": [
      "🏃 View run mercurial-seal-509 at: https://dagshub.com/vinayak910/swiggy-delivery-time-prediction.mlflow/#/experiments/2/runs/279095f92b50437aafefc9f35c66b374\n",
      "🧪 View experiment at: https://dagshub.com/vinayak910/swiggy-delivery-time-prediction.mlflow/#/experiments/2\n"
     ]
    },
    {
     "name": "stderr",
     "output_type": "stream",
     "text": [
      "[I 2025-07-12 11:55:24,824] Trial 26 finished with value: 3.4666717052459717 and parameters: {'model': 'XGB', 'n_estimators_xgb': 70, 'learning_rate_xgb': 0.29142688933794386, 'max_depth_xgb': 15, 'subsample_xgb': 0.9858266372734618, 'colsample_bytree_xgb': 0.6100481556705324}. Best is trial 24 with value: 2.972163077996169.\n"
     ]
    },
    {
     "name": "stdout",
     "output_type": "stream",
     "text": [
      "🏃 View run glamorous-zebra-555 at: https://dagshub.com/vinayak910/swiggy-delivery-time-prediction.mlflow/#/experiments/2/runs/b8dedfd640124ab8b4615de024d87a48\n",
      "🧪 View experiment at: https://dagshub.com/vinayak910/swiggy-delivery-time-prediction.mlflow/#/experiments/2\n"
     ]
    },
    {
     "name": "stderr",
     "output_type": "stream",
     "text": [
      "[I 2025-07-12 11:55:30,861] Trial 27 finished with value: 2.962967016054149 and parameters: {'model': 'LGBM', 'n_estimators_lgbm': 200, 'learning_rate_lgbm': 0.03198516726634783, 'max_depth_lgbm': 15, 'num_leaves': 81}. Best is trial 27 with value: 2.962967016054149.\n"
     ]
    },
    {
     "name": "stdout",
     "output_type": "stream",
     "text": [
      "🏃 View run loud-mule-292 at: https://dagshub.com/vinayak910/swiggy-delivery-time-prediction.mlflow/#/experiments/2/runs/73401cb4b3f649a7b3c6c42f72ee6222\n",
      "🧪 View experiment at: https://dagshub.com/vinayak910/swiggy-delivery-time-prediction.mlflow/#/experiments/2\n"
     ]
    },
    {
     "name": "stderr",
     "output_type": "stream",
     "text": [
      "[I 2025-07-12 11:55:40,082] Trial 28 finished with value: 2.9825806244815087 and parameters: {'model': 'LGBM', 'n_estimators_lgbm': 300, 'learning_rate_lgbm': 0.03644866715595504, 'max_depth_lgbm': 9, 'num_leaves': 81}. Best is trial 27 with value: 2.962967016054149.\n"
     ]
    },
    {
     "name": "stdout",
     "output_type": "stream",
     "text": [
      "🏃 View run secretive-shark-485 at: https://dagshub.com/vinayak910/swiggy-delivery-time-prediction.mlflow/#/experiments/2/runs/4b2719a4510d460ab72a76939630986b\n",
      "🧪 View experiment at: https://dagshub.com/vinayak910/swiggy-delivery-time-prediction.mlflow/#/experiments/2\n"
     ]
    },
    {
     "name": "stderr",
     "output_type": "stream",
     "text": [
      "[I 2025-07-12 11:55:46,493] Trial 29 finished with value: 2.9626465468155394 and parameters: {'model': 'LGBM', 'n_estimators_lgbm': 200, 'learning_rate_lgbm': 0.03195558234416709, 'max_depth_lgbm': 15, 'num_leaves': 84}. Best is trial 29 with value: 2.9626465468155394.\n"
     ]
    },
    {
     "name": "stdout",
     "output_type": "stream",
     "text": [
      "🏃 View run invincible-quail-545 at: https://dagshub.com/vinayak910/swiggy-delivery-time-prediction.mlflow/#/experiments/2/runs/2e52e87edd374ff0b90bd3e538cd1fc1\n",
      "🧪 View experiment at: https://dagshub.com/vinayak910/swiggy-delivery-time-prediction.mlflow/#/experiments/2\n"
     ]
    },
    {
     "name": "stderr",
     "output_type": "stream",
     "text": [
      "[I 2025-07-12 11:56:09,425] Trial 20 finished with value: 4.675390012764835 and parameters: {'model': 'SVM', 'kernel_svm': 'linear', 'c_linear': 0.4962464181702757}. Best is trial 29 with value: 2.9626465468155394.\n"
     ]
    },
    {
     "name": "stdout",
     "output_type": "stream",
     "text": [
      "🏃 View run handsome-shrimp-659 at: https://dagshub.com/vinayak910/swiggy-delivery-time-prediction.mlflow/#/experiments/2/runs/b3f7358a079049dd8c65eb0b830e42c2\n",
      "🧪 View experiment at: https://dagshub.com/vinayak910/swiggy-delivery-time-prediction.mlflow/#/experiments/2\n"
     ]
    },
    {
     "name": "stderr",
     "output_type": "stream",
     "text": [
      "[I 2025-07-12 11:56:54,641] Trial 19 finished with value: 4.144044863858972 and parameters: {'model': 'SVM', 'kernel_svm': 'rbf', 'c_rbf': 0.8027875285687234, 'gamma_rbf': 0.007633731755588096}. Best is trial 29 with value: 2.9626465468155394.\n"
     ]
    },
    {
     "name": "stdout",
     "output_type": "stream",
     "text": [
      "🏃 View run unique-kit-553 at: https://dagshub.com/vinayak910/swiggy-delivery-time-prediction.mlflow/#/experiments/2/runs/3ac278b546594b1ba3c6b8e51436a65d\n",
      "🧪 View experiment at: https://dagshub.com/vinayak910/swiggy-delivery-time-prediction.mlflow/#/experiments/2\n"
     ]
    },
    {
     "name": "stderr",
     "output_type": "stream",
     "text": [
      "[I 2025-07-12 11:58:15,331] Trial 21 finished with value: 3.9188328681065734 and parameters: {'model': 'SVM', 'kernel_svm': 'poly', 'c_poly': 5.870915132083519, 'degree_poly': 2}. Best is trial 29 with value: 2.9626465468155394.\n"
     ]
    },
    {
     "name": "stdout",
     "output_type": "stream",
     "text": [
      "🏃 View run lyrical-turtle-942 at: https://dagshub.com/vinayak910/swiggy-delivery-time-prediction.mlflow/#/experiments/2/runs/da2086c4c3674030bbb55ca890921187\n",
      "🧪 View experiment at: https://dagshub.com/vinayak910/swiggy-delivery-time-prediction.mlflow/#/experiments/2\n"
     ]
    },
    {
     "name": "stderr",
     "output_type": "stream",
     "text": [
      "[I 2025-07-12 12:20:01,184] Trial 10 finished with value: 3.802061772688303 and parameters: {'model': 'SVM', 'kernel_svm': 'rbf', 'c_rbf': 10.558868548456417, 'gamma_rbf': 0.21229070926340704}. Best is trial 29 with value: 2.9626465468155394.\n"
     ]
    },
    {
     "name": "stdout",
     "output_type": "stream",
     "text": [
      "🏃 View run trusting-fowl-941 at: https://dagshub.com/vinayak910/swiggy-delivery-time-prediction.mlflow/#/experiments/2/runs/a7b2fb5b6e574536a05e56b46d02331b\n",
      "🧪 View experiment at: https://dagshub.com/vinayak910/swiggy-delivery-time-prediction.mlflow/#/experiments/2\n"
     ]
    },
    {
     "name": "stderr",
     "output_type": "stream",
     "text": [
      "[I 2025-07-12 13:07:48,036] Trial 12 finished with value: 4.052919028790522 and parameters: {'model': 'SVM', 'kernel_svm': 'rbf', 'c_rbf': 35.950117590324204, 'gamma_rbf': 0.1949212122679456}. Best is trial 29 with value: 2.9626465468155394.\n"
     ]
    },
    {
     "name": "stdout",
     "output_type": "stream",
     "text": [
      "🏃 View run debonair-stag-775 at: https://dagshub.com/vinayak910/swiggy-delivery-time-prediction.mlflow/#/experiments/2/runs/f774bca89a0d49bab1a4e43d479fe532\n",
      "🧪 View experiment at: https://dagshub.com/vinayak910/swiggy-delivery-time-prediction.mlflow/#/experiments/2\n"
     ]
    },
    {
     "name": "stderr",
     "output_type": "stream",
     "text": [
      "[I 2025-07-12 13:09:26,335] Trial 8 finished with value: 4.223655322760632 and parameters: {'model': 'SVM', 'kernel_svm': 'rbf', 'c_rbf': 40.45533477588705, 'gamma_rbf': 0.22946656015571157}. Best is trial 29 with value: 2.9626465468155394.\n"
     ]
    },
    {
     "name": "stdout",
     "output_type": "stream",
     "text": [
      "🏃 View run Best Model at: https://dagshub.com/vinayak910/swiggy-delivery-time-prediction.mlflow/#/experiments/2/runs/905a33b2c2634bde94e7c00c6ff41fc7\n",
      "🧪 View experiment at: https://dagshub.com/vinayak910/swiggy-delivery-time-prediction.mlflow/#/experiments/2\n"
     ]
    }
   ],
   "source": [
    "study = optuna.create_study(direction=\"minimize\",study_name=\"model_selection\")\n",
    "\n",
    "with mlflow.start_run(run_name=\"Best Model\") as parent:\n",
    "    # optimize the objective function\n",
    "    study.optimize(objective,n_trials=30,n_jobs=-1)\n",
    "\n",
    "    # log the best parameters\n",
    "    mlflow.log_params(study.best_params)\n",
    "\n",
    "    # log the best score\n",
    "    mlflow.log_metric(\"best_score\",study.best_value)"
   ]
  },
  {
   "cell_type": "code",
   "execution_count": 37,
   "id": "4be31e65",
   "metadata": {},
   "outputs": [
    {
     "data": {
      "text/plain": [
       "{'model': 'LGBM',\n",
       " 'n_estimators_lgbm': 200,\n",
       " 'learning_rate_lgbm': 0.03195558234416709,\n",
       " 'max_depth_lgbm': 15,\n",
       " 'num_leaves': 84}"
      ]
     },
     "execution_count": 37,
     "metadata": {},
     "output_type": "execute_result"
    }
   ],
   "source": [
    "study.best_params"
   ]
  },
  {
   "cell_type": "code",
   "execution_count": 42,
   "id": "a7b7a3a7",
   "metadata": {},
   "outputs": [],
   "source": [
    "lgbm_params = {'n_estimators': 200,\n",
    " 'learning_rate': 0.03195558234416709,\n",
    " 'max_depth': 15,\n",
    " 'num_leaves': 84}"
   ]
  },
  {
   "cell_type": "code",
   "execution_count": 44,
   "id": "c0a646d4",
   "metadata": {},
   "outputs": [
    {
     "name": "stdout",
     "output_type": "stream",
     "text": [
      "[LightGBM] [Info] Auto-choosing col-wise multi-threading, the overhead of testing was 0.005711 seconds.\n",
      "You can set `force_col_wise=true` to remove the overhead.\n",
      "[LightGBM] [Info] Total Bins 366\n",
      "[LightGBM] [Info] Number of data points in the train set: 30156, number of used features: 32\n",
      "[LightGBM] [Info] Start training from score -0.000000\n"
     ]
    },
    {
     "data": {
      "text/html": [
       "<style>#sk-container-id-4 {\n",
       "  /* Definition of color scheme common for light and dark mode */\n",
       "  --sklearn-color-text: #000;\n",
       "  --sklearn-color-text-muted: #666;\n",
       "  --sklearn-color-line: gray;\n",
       "  /* Definition of color scheme for unfitted estimators */\n",
       "  --sklearn-color-unfitted-level-0: #fff5e6;\n",
       "  --sklearn-color-unfitted-level-1: #f6e4d2;\n",
       "  --sklearn-color-unfitted-level-2: #ffe0b3;\n",
       "  --sklearn-color-unfitted-level-3: chocolate;\n",
       "  /* Definition of color scheme for fitted estimators */\n",
       "  --sklearn-color-fitted-level-0: #f0f8ff;\n",
       "  --sklearn-color-fitted-level-1: #d4ebff;\n",
       "  --sklearn-color-fitted-level-2: #b3dbfd;\n",
       "  --sklearn-color-fitted-level-3: cornflowerblue;\n",
       "\n",
       "  /* Specific color for light theme */\n",
       "  --sklearn-color-text-on-default-background: var(--sg-text-color, var(--theme-code-foreground, var(--jp-content-font-color1, black)));\n",
       "  --sklearn-color-background: var(--sg-background-color, var(--theme-background, var(--jp-layout-color0, white)));\n",
       "  --sklearn-color-border-box: var(--sg-text-color, var(--theme-code-foreground, var(--jp-content-font-color1, black)));\n",
       "  --sklearn-color-icon: #696969;\n",
       "\n",
       "  @media (prefers-color-scheme: dark) {\n",
       "    /* Redefinition of color scheme for dark theme */\n",
       "    --sklearn-color-text-on-default-background: var(--sg-text-color, var(--theme-code-foreground, var(--jp-content-font-color1, white)));\n",
       "    --sklearn-color-background: var(--sg-background-color, var(--theme-background, var(--jp-layout-color0, #111)));\n",
       "    --sklearn-color-border-box: var(--sg-text-color, var(--theme-code-foreground, var(--jp-content-font-color1, white)));\n",
       "    --sklearn-color-icon: #878787;\n",
       "  }\n",
       "}\n",
       "\n",
       "#sk-container-id-4 {\n",
       "  color: var(--sklearn-color-text);\n",
       "}\n",
       "\n",
       "#sk-container-id-4 pre {\n",
       "  padding: 0;\n",
       "}\n",
       "\n",
       "#sk-container-id-4 input.sk-hidden--visually {\n",
       "  border: 0;\n",
       "  clip: rect(1px 1px 1px 1px);\n",
       "  clip: rect(1px, 1px, 1px, 1px);\n",
       "  height: 1px;\n",
       "  margin: -1px;\n",
       "  overflow: hidden;\n",
       "  padding: 0;\n",
       "  position: absolute;\n",
       "  width: 1px;\n",
       "}\n",
       "\n",
       "#sk-container-id-4 div.sk-dashed-wrapped {\n",
       "  border: 1px dashed var(--sklearn-color-line);\n",
       "  margin: 0 0.4em 0.5em 0.4em;\n",
       "  box-sizing: border-box;\n",
       "  padding-bottom: 0.4em;\n",
       "  background-color: var(--sklearn-color-background);\n",
       "}\n",
       "\n",
       "#sk-container-id-4 div.sk-container {\n",
       "  /* jupyter's `normalize.less` sets `[hidden] { display: none; }`\n",
       "     but bootstrap.min.css set `[hidden] { display: none !important; }`\n",
       "     so we also need the `!important` here to be able to override the\n",
       "     default hidden behavior on the sphinx rendered scikit-learn.org.\n",
       "     See: https://github.com/scikit-learn/scikit-learn/issues/21755 */\n",
       "  display: inline-block !important;\n",
       "  position: relative;\n",
       "}\n",
       "\n",
       "#sk-container-id-4 div.sk-text-repr-fallback {\n",
       "  display: none;\n",
       "}\n",
       "\n",
       "div.sk-parallel-item,\n",
       "div.sk-serial,\n",
       "div.sk-item {\n",
       "  /* draw centered vertical line to link estimators */\n",
       "  background-image: linear-gradient(var(--sklearn-color-text-on-default-background), var(--sklearn-color-text-on-default-background));\n",
       "  background-size: 2px 100%;\n",
       "  background-repeat: no-repeat;\n",
       "  background-position: center center;\n",
       "}\n",
       "\n",
       "/* Parallel-specific style estimator block */\n",
       "\n",
       "#sk-container-id-4 div.sk-parallel-item::after {\n",
       "  content: \"\";\n",
       "  width: 100%;\n",
       "  border-bottom: 2px solid var(--sklearn-color-text-on-default-background);\n",
       "  flex-grow: 1;\n",
       "}\n",
       "\n",
       "#sk-container-id-4 div.sk-parallel {\n",
       "  display: flex;\n",
       "  align-items: stretch;\n",
       "  justify-content: center;\n",
       "  background-color: var(--sklearn-color-background);\n",
       "  position: relative;\n",
       "}\n",
       "\n",
       "#sk-container-id-4 div.sk-parallel-item {\n",
       "  display: flex;\n",
       "  flex-direction: column;\n",
       "}\n",
       "\n",
       "#sk-container-id-4 div.sk-parallel-item:first-child::after {\n",
       "  align-self: flex-end;\n",
       "  width: 50%;\n",
       "}\n",
       "\n",
       "#sk-container-id-4 div.sk-parallel-item:last-child::after {\n",
       "  align-self: flex-start;\n",
       "  width: 50%;\n",
       "}\n",
       "\n",
       "#sk-container-id-4 div.sk-parallel-item:only-child::after {\n",
       "  width: 0;\n",
       "}\n",
       "\n",
       "/* Serial-specific style estimator block */\n",
       "\n",
       "#sk-container-id-4 div.sk-serial {\n",
       "  display: flex;\n",
       "  flex-direction: column;\n",
       "  align-items: center;\n",
       "  background-color: var(--sklearn-color-background);\n",
       "  padding-right: 1em;\n",
       "  padding-left: 1em;\n",
       "}\n",
       "\n",
       "\n",
       "/* Toggleable style: style used for estimator/Pipeline/ColumnTransformer box that is\n",
       "clickable and can be expanded/collapsed.\n",
       "- Pipeline and ColumnTransformer use this feature and define the default style\n",
       "- Estimators will overwrite some part of the style using the `sk-estimator` class\n",
       "*/\n",
       "\n",
       "/* Pipeline and ColumnTransformer style (default) */\n",
       "\n",
       "#sk-container-id-4 div.sk-toggleable {\n",
       "  /* Default theme specific background. It is overwritten whether we have a\n",
       "  specific estimator or a Pipeline/ColumnTransformer */\n",
       "  background-color: var(--sklearn-color-background);\n",
       "}\n",
       "\n",
       "/* Toggleable label */\n",
       "#sk-container-id-4 label.sk-toggleable__label {\n",
       "  cursor: pointer;\n",
       "  display: flex;\n",
       "  width: 100%;\n",
       "  margin-bottom: 0;\n",
       "  padding: 0.5em;\n",
       "  box-sizing: border-box;\n",
       "  text-align: center;\n",
       "  align-items: start;\n",
       "  justify-content: space-between;\n",
       "  gap: 0.5em;\n",
       "}\n",
       "\n",
       "#sk-container-id-4 label.sk-toggleable__label .caption {\n",
       "  font-size: 0.6rem;\n",
       "  font-weight: lighter;\n",
       "  color: var(--sklearn-color-text-muted);\n",
       "}\n",
       "\n",
       "#sk-container-id-4 label.sk-toggleable__label-arrow:before {\n",
       "  /* Arrow on the left of the label */\n",
       "  content: \"▸\";\n",
       "  float: left;\n",
       "  margin-right: 0.25em;\n",
       "  color: var(--sklearn-color-icon);\n",
       "}\n",
       "\n",
       "#sk-container-id-4 label.sk-toggleable__label-arrow:hover:before {\n",
       "  color: var(--sklearn-color-text);\n",
       "}\n",
       "\n",
       "/* Toggleable content - dropdown */\n",
       "\n",
       "#sk-container-id-4 div.sk-toggleable__content {\n",
       "  max-height: 0;\n",
       "  max-width: 0;\n",
       "  overflow: hidden;\n",
       "  text-align: left;\n",
       "  /* unfitted */\n",
       "  background-color: var(--sklearn-color-unfitted-level-0);\n",
       "}\n",
       "\n",
       "#sk-container-id-4 div.sk-toggleable__content.fitted {\n",
       "  /* fitted */\n",
       "  background-color: var(--sklearn-color-fitted-level-0);\n",
       "}\n",
       "\n",
       "#sk-container-id-4 div.sk-toggleable__content pre {\n",
       "  margin: 0.2em;\n",
       "  border-radius: 0.25em;\n",
       "  color: var(--sklearn-color-text);\n",
       "  /* unfitted */\n",
       "  background-color: var(--sklearn-color-unfitted-level-0);\n",
       "}\n",
       "\n",
       "#sk-container-id-4 div.sk-toggleable__content.fitted pre {\n",
       "  /* unfitted */\n",
       "  background-color: var(--sklearn-color-fitted-level-0);\n",
       "}\n",
       "\n",
       "#sk-container-id-4 input.sk-toggleable__control:checked~div.sk-toggleable__content {\n",
       "  /* Expand drop-down */\n",
       "  max-height: 200px;\n",
       "  max-width: 100%;\n",
       "  overflow: auto;\n",
       "}\n",
       "\n",
       "#sk-container-id-4 input.sk-toggleable__control:checked~label.sk-toggleable__label-arrow:before {\n",
       "  content: \"▾\";\n",
       "}\n",
       "\n",
       "/* Pipeline/ColumnTransformer-specific style */\n",
       "\n",
       "#sk-container-id-4 div.sk-label input.sk-toggleable__control:checked~label.sk-toggleable__label {\n",
       "  color: var(--sklearn-color-text);\n",
       "  background-color: var(--sklearn-color-unfitted-level-2);\n",
       "}\n",
       "\n",
       "#sk-container-id-4 div.sk-label.fitted input.sk-toggleable__control:checked~label.sk-toggleable__label {\n",
       "  background-color: var(--sklearn-color-fitted-level-2);\n",
       "}\n",
       "\n",
       "/* Estimator-specific style */\n",
       "\n",
       "/* Colorize estimator box */\n",
       "#sk-container-id-4 div.sk-estimator input.sk-toggleable__control:checked~label.sk-toggleable__label {\n",
       "  /* unfitted */\n",
       "  background-color: var(--sklearn-color-unfitted-level-2);\n",
       "}\n",
       "\n",
       "#sk-container-id-4 div.sk-estimator.fitted input.sk-toggleable__control:checked~label.sk-toggleable__label {\n",
       "  /* fitted */\n",
       "  background-color: var(--sklearn-color-fitted-level-2);\n",
       "}\n",
       "\n",
       "#sk-container-id-4 div.sk-label label.sk-toggleable__label,\n",
       "#sk-container-id-4 div.sk-label label {\n",
       "  /* The background is the default theme color */\n",
       "  color: var(--sklearn-color-text-on-default-background);\n",
       "}\n",
       "\n",
       "/* On hover, darken the color of the background */\n",
       "#sk-container-id-4 div.sk-label:hover label.sk-toggleable__label {\n",
       "  color: var(--sklearn-color-text);\n",
       "  background-color: var(--sklearn-color-unfitted-level-2);\n",
       "}\n",
       "\n",
       "/* Label box, darken color on hover, fitted */\n",
       "#sk-container-id-4 div.sk-label.fitted:hover label.sk-toggleable__label.fitted {\n",
       "  color: var(--sklearn-color-text);\n",
       "  background-color: var(--sklearn-color-fitted-level-2);\n",
       "}\n",
       "\n",
       "/* Estimator label */\n",
       "\n",
       "#sk-container-id-4 div.sk-label label {\n",
       "  font-family: monospace;\n",
       "  font-weight: bold;\n",
       "  display: inline-block;\n",
       "  line-height: 1.2em;\n",
       "}\n",
       "\n",
       "#sk-container-id-4 div.sk-label-container {\n",
       "  text-align: center;\n",
       "}\n",
       "\n",
       "/* Estimator-specific */\n",
       "#sk-container-id-4 div.sk-estimator {\n",
       "  font-family: monospace;\n",
       "  border: 1px dotted var(--sklearn-color-border-box);\n",
       "  border-radius: 0.25em;\n",
       "  box-sizing: border-box;\n",
       "  margin-bottom: 0.5em;\n",
       "  /* unfitted */\n",
       "  background-color: var(--sklearn-color-unfitted-level-0);\n",
       "}\n",
       "\n",
       "#sk-container-id-4 div.sk-estimator.fitted {\n",
       "  /* fitted */\n",
       "  background-color: var(--sklearn-color-fitted-level-0);\n",
       "}\n",
       "\n",
       "/* on hover */\n",
       "#sk-container-id-4 div.sk-estimator:hover {\n",
       "  /* unfitted */\n",
       "  background-color: var(--sklearn-color-unfitted-level-2);\n",
       "}\n",
       "\n",
       "#sk-container-id-4 div.sk-estimator.fitted:hover {\n",
       "  /* fitted */\n",
       "  background-color: var(--sklearn-color-fitted-level-2);\n",
       "}\n",
       "\n",
       "/* Specification for estimator info (e.g. \"i\" and \"?\") */\n",
       "\n",
       "/* Common style for \"i\" and \"?\" */\n",
       "\n",
       ".sk-estimator-doc-link,\n",
       "a:link.sk-estimator-doc-link,\n",
       "a:visited.sk-estimator-doc-link {\n",
       "  float: right;\n",
       "  font-size: smaller;\n",
       "  line-height: 1em;\n",
       "  font-family: monospace;\n",
       "  background-color: var(--sklearn-color-background);\n",
       "  border-radius: 1em;\n",
       "  height: 1em;\n",
       "  width: 1em;\n",
       "  text-decoration: none !important;\n",
       "  margin-left: 0.5em;\n",
       "  text-align: center;\n",
       "  /* unfitted */\n",
       "  border: var(--sklearn-color-unfitted-level-1) 1pt solid;\n",
       "  color: var(--sklearn-color-unfitted-level-1);\n",
       "}\n",
       "\n",
       ".sk-estimator-doc-link.fitted,\n",
       "a:link.sk-estimator-doc-link.fitted,\n",
       "a:visited.sk-estimator-doc-link.fitted {\n",
       "  /* fitted */\n",
       "  border: var(--sklearn-color-fitted-level-1) 1pt solid;\n",
       "  color: var(--sklearn-color-fitted-level-1);\n",
       "}\n",
       "\n",
       "/* On hover */\n",
       "div.sk-estimator:hover .sk-estimator-doc-link:hover,\n",
       ".sk-estimator-doc-link:hover,\n",
       "div.sk-label-container:hover .sk-estimator-doc-link:hover,\n",
       ".sk-estimator-doc-link:hover {\n",
       "  /* unfitted */\n",
       "  background-color: var(--sklearn-color-unfitted-level-3);\n",
       "  color: var(--sklearn-color-background);\n",
       "  text-decoration: none;\n",
       "}\n",
       "\n",
       "div.sk-estimator.fitted:hover .sk-estimator-doc-link.fitted:hover,\n",
       ".sk-estimator-doc-link.fitted:hover,\n",
       "div.sk-label-container:hover .sk-estimator-doc-link.fitted:hover,\n",
       ".sk-estimator-doc-link.fitted:hover {\n",
       "  /* fitted */\n",
       "  background-color: var(--sklearn-color-fitted-level-3);\n",
       "  color: var(--sklearn-color-background);\n",
       "  text-decoration: none;\n",
       "}\n",
       "\n",
       "/* Span, style for the box shown on hovering the info icon */\n",
       ".sk-estimator-doc-link span {\n",
       "  display: none;\n",
       "  z-index: 9999;\n",
       "  position: relative;\n",
       "  font-weight: normal;\n",
       "  right: .2ex;\n",
       "  padding: .5ex;\n",
       "  margin: .5ex;\n",
       "  width: min-content;\n",
       "  min-width: 20ex;\n",
       "  max-width: 50ex;\n",
       "  color: var(--sklearn-color-text);\n",
       "  box-shadow: 2pt 2pt 4pt #999;\n",
       "  /* unfitted */\n",
       "  background: var(--sklearn-color-unfitted-level-0);\n",
       "  border: .5pt solid var(--sklearn-color-unfitted-level-3);\n",
       "}\n",
       "\n",
       ".sk-estimator-doc-link.fitted span {\n",
       "  /* fitted */\n",
       "  background: var(--sklearn-color-fitted-level-0);\n",
       "  border: var(--sklearn-color-fitted-level-3);\n",
       "}\n",
       "\n",
       ".sk-estimator-doc-link:hover span {\n",
       "  display: block;\n",
       "}\n",
       "\n",
       "/* \"?\"-specific style due to the `<a>` HTML tag */\n",
       "\n",
       "#sk-container-id-4 a.estimator_doc_link {\n",
       "  float: right;\n",
       "  font-size: 1rem;\n",
       "  line-height: 1em;\n",
       "  font-family: monospace;\n",
       "  background-color: var(--sklearn-color-background);\n",
       "  border-radius: 1rem;\n",
       "  height: 1rem;\n",
       "  width: 1rem;\n",
       "  text-decoration: none;\n",
       "  /* unfitted */\n",
       "  color: var(--sklearn-color-unfitted-level-1);\n",
       "  border: var(--sklearn-color-unfitted-level-1) 1pt solid;\n",
       "}\n",
       "\n",
       "#sk-container-id-4 a.estimator_doc_link.fitted {\n",
       "  /* fitted */\n",
       "  border: var(--sklearn-color-fitted-level-1) 1pt solid;\n",
       "  color: var(--sklearn-color-fitted-level-1);\n",
       "}\n",
       "\n",
       "/* On hover */\n",
       "#sk-container-id-4 a.estimator_doc_link:hover {\n",
       "  /* unfitted */\n",
       "  background-color: var(--sklearn-color-unfitted-level-3);\n",
       "  color: var(--sklearn-color-background);\n",
       "  text-decoration: none;\n",
       "}\n",
       "\n",
       "#sk-container-id-4 a.estimator_doc_link.fitted:hover {\n",
       "  /* fitted */\n",
       "  background-color: var(--sklearn-color-fitted-level-3);\n",
       "}\n",
       "</style><div id=\"sk-container-id-4\" class=\"sk-top-container\"><div class=\"sk-text-repr-fallback\"><pre>LGBMRegressor(learning_rate=0.03195558234416709, max_depth=15, n_estimators=200,\n",
       "              num_leaves=84)</pre><b>In a Jupyter environment, please rerun this cell to show the HTML representation or trust the notebook. <br />On GitHub, the HTML representation is unable to render, please try loading this page with nbviewer.org.</b></div><div class=\"sk-container\" hidden><div class=\"sk-item\"><div class=\"sk-estimator fitted sk-toggleable\"><input class=\"sk-toggleable__control sk-hidden--visually\" id=\"sk-estimator-id-12\" type=\"checkbox\" checked><label for=\"sk-estimator-id-12\" class=\"sk-toggleable__label fitted sk-toggleable__label-arrow\"><div><div>LGBMRegressor</div></div><div><span class=\"sk-estimator-doc-link fitted\">i<span>Fitted</span></span></div></label><div class=\"sk-toggleable__content fitted\"><pre>LGBMRegressor(learning_rate=0.03195558234416709, max_depth=15, n_estimators=200,\n",
       "              num_leaves=84)</pre></div> </div></div></div></div>"
      ],
      "text/plain": [
       "LGBMRegressor(learning_rate=0.03195558234416709, max_depth=15, n_estimators=200,\n",
       "              num_leaves=84)"
      ]
     },
     "execution_count": 44,
     "metadata": {},
     "output_type": "execute_result"
    }
   ],
   "source": [
    "lgbm = LGBMRegressor(**lgbm_params)\n",
    "\n",
    "lgbm.fit(X_train_processed,y_train_pt.values.ravel())"
   ]
  },
  {
   "cell_type": "code",
   "execution_count": 45,
   "id": "ffa047c0",
   "metadata": {},
   "outputs": [],
   "source": [
    "\n",
    "\n",
    "# get the predictions\n",
    "y_pred_train = lgbm.predict(X_train_processed)\n",
    "y_pred_test = lgbm.predict(X_test_processed)"
   ]
  },
  {
   "cell_type": "code",
   "execution_count": 46,
   "id": "5383ad2a",
   "metadata": {},
   "outputs": [],
   "source": [
    "y_pred_train_org = pt.inverse_transform(y_pred_train.reshape(-1,1))\n",
    "y_pred_test_org = pt.inverse_transform(y_pred_test.reshape(-1,1))"
   ]
  },
  {
   "cell_type": "code",
   "execution_count": 47,
   "id": "de2e0bb7",
   "metadata": {},
   "outputs": [
    {
     "name": "stdout",
     "output_type": "stream",
     "text": [
      "The train error is 2.81 minutes\n",
      "The test error is 2.96 minutes\n"
     ]
    }
   ],
   "source": [
    "from sklearn.metrics import mean_absolute_error, r2_score\n",
    "\n",
    "print(f\"The train error is {mean_absolute_error(y_train,y_pred_train_org):.2f} minutes\")\n",
    "print(f\"The test error is {mean_absolute_error(y_test,y_pred_test_org):.2f} minutes\")"
   ]
  },
  {
   "cell_type": "code",
   "execution_count": 49,
   "id": "fedc7166",
   "metadata": {},
   "outputs": [
    {
     "name": "stdout",
     "output_type": "stream",
     "text": [
      "The train r2 score is 0.86\n",
      "The test r2 score is 0.8433906328750047\n"
     ]
    }
   ],
   "source": [
    "print(f\"The train r2 score is {r2_score(y_train,y_pred_train_org):.2f}\")\n",
    "print(f\"The test r2 score is {r2_score(y_test,y_pred_test_org)}\")"
   ]
  },
  {
   "cell_type": "code",
   "execution_count": 50,
   "id": "3da8cc7e",
   "metadata": {},
   "outputs": [
    {
     "data": {
      "text/html": [
       "<div>\n",
       "<style scoped>\n",
       "    .dataframe tbody tr th:only-of-type {\n",
       "        vertical-align: middle;\n",
       "    }\n",
       "\n",
       "    .dataframe tbody tr th {\n",
       "        vertical-align: top;\n",
       "    }\n",
       "\n",
       "    .dataframe thead th {\n",
       "        text-align: right;\n",
       "    }\n",
       "</style>\n",
       "<table border=\"1\" class=\"dataframe\">\n",
       "  <thead>\n",
       "    <tr style=\"text-align: right;\">\n",
       "      <th></th>\n",
       "      <th>number</th>\n",
       "      <th>value</th>\n",
       "      <th>datetime_start</th>\n",
       "      <th>datetime_complete</th>\n",
       "      <th>duration</th>\n",
       "      <th>params_c_linear</th>\n",
       "      <th>params_c_poly</th>\n",
       "      <th>params_c_rbf</th>\n",
       "      <th>params_colsample_bytree_xgb</th>\n",
       "      <th>params_degree_poly</th>\n",
       "      <th>...</th>\n",
       "      <th>params_model</th>\n",
       "      <th>params_n_estimators_gb</th>\n",
       "      <th>params_n_estimators_lgbm</th>\n",
       "      <th>params_n_estimators_rf</th>\n",
       "      <th>params_n_estimators_xgb</th>\n",
       "      <th>params_n_neighbors_knn</th>\n",
       "      <th>params_num_leaves</th>\n",
       "      <th>params_subsample_xgb</th>\n",
       "      <th>params_weights_knn</th>\n",
       "      <th>state</th>\n",
       "    </tr>\n",
       "  </thead>\n",
       "  <tbody>\n",
       "    <tr>\n",
       "      <th>0</th>\n",
       "      <td>0</td>\n",
       "      <td>3.780141</td>\n",
       "      <td>2025-07-12 11:49:03.706803</td>\n",
       "      <td>2025-07-12 11:49:59.841720</td>\n",
       "      <td>0 days 00:00:56.134917</td>\n",
       "      <td>NaN</td>\n",
       "      <td>NaN</td>\n",
       "      <td>NaN</td>\n",
       "      <td>0.913132</td>\n",
       "      <td>NaN</td>\n",
       "      <td>...</td>\n",
       "      <td>XGB</td>\n",
       "      <td>NaN</td>\n",
       "      <td>NaN</td>\n",
       "      <td>NaN</td>\n",
       "      <td>260.0</td>\n",
       "      <td>NaN</td>\n",
       "      <td>NaN</td>\n",
       "      <td>0.758471</td>\n",
       "      <td>NaN</td>\n",
       "      <td>COMPLETE</td>\n",
       "    </tr>\n",
       "    <tr>\n",
       "      <th>1</th>\n",
       "      <td>1</td>\n",
       "      <td>3.019665</td>\n",
       "      <td>2025-07-12 11:49:03.708506</td>\n",
       "      <td>2025-07-12 11:50:02.904078</td>\n",
       "      <td>0 days 00:00:59.195572</td>\n",
       "      <td>NaN</td>\n",
       "      <td>NaN</td>\n",
       "      <td>NaN</td>\n",
       "      <td>NaN</td>\n",
       "      <td>NaN</td>\n",
       "      <td>...</td>\n",
       "      <td>LGBM</td>\n",
       "      <td>NaN</td>\n",
       "      <td>100.0</td>\n",
       "      <td>NaN</td>\n",
       "      <td>NaN</td>\n",
       "      <td>NaN</td>\n",
       "      <td>56.0</td>\n",
       "      <td>NaN</td>\n",
       "      <td>NaN</td>\n",
       "      <td>COMPLETE</td>\n",
       "    </tr>\n",
       "    <tr>\n",
       "      <th>2</th>\n",
       "      <td>2</td>\n",
       "      <td>4.166238</td>\n",
       "      <td>2025-07-12 11:49:03.709924</td>\n",
       "      <td>2025-07-12 11:54:40.162352</td>\n",
       "      <td>0 days 00:05:36.452428</td>\n",
       "      <td>NaN</td>\n",
       "      <td>NaN</td>\n",
       "      <td>29.158863</td>\n",
       "      <td>NaN</td>\n",
       "      <td>NaN</td>\n",
       "      <td>...</td>\n",
       "      <td>SVM</td>\n",
       "      <td>NaN</td>\n",
       "      <td>NaN</td>\n",
       "      <td>NaN</td>\n",
       "      <td>NaN</td>\n",
       "      <td>NaN</td>\n",
       "      <td>NaN</td>\n",
       "      <td>NaN</td>\n",
       "      <td>NaN</td>\n",
       "      <td>COMPLETE</td>\n",
       "    </tr>\n",
       "    <tr>\n",
       "      <th>3</th>\n",
       "      <td>3</td>\n",
       "      <td>3.046849</td>\n",
       "      <td>2025-07-12 11:49:03.711599</td>\n",
       "      <td>2025-07-12 11:49:46.030506</td>\n",
       "      <td>0 days 00:00:42.318907</td>\n",
       "      <td>NaN</td>\n",
       "      <td>NaN</td>\n",
       "      <td>NaN</td>\n",
       "      <td>NaN</td>\n",
       "      <td>NaN</td>\n",
       "      <td>...</td>\n",
       "      <td>RF</td>\n",
       "      <td>NaN</td>\n",
       "      <td>NaN</td>\n",
       "      <td>160.0</td>\n",
       "      <td>NaN</td>\n",
       "      <td>NaN</td>\n",
       "      <td>NaN</td>\n",
       "      <td>NaN</td>\n",
       "      <td>NaN</td>\n",
       "      <td>COMPLETE</td>\n",
       "    </tr>\n",
       "    <tr>\n",
       "      <th>4</th>\n",
       "      <td>4</td>\n",
       "      <td>3.006601</td>\n",
       "      <td>2025-07-12 11:49:03.713086</td>\n",
       "      <td>2025-07-12 11:49:44.899552</td>\n",
       "      <td>0 days 00:00:41.186466</td>\n",
       "      <td>NaN</td>\n",
       "      <td>NaN</td>\n",
       "      <td>NaN</td>\n",
       "      <td>NaN</td>\n",
       "      <td>NaN</td>\n",
       "      <td>...</td>\n",
       "      <td>RF</td>\n",
       "      <td>NaN</td>\n",
       "      <td>NaN</td>\n",
       "      <td>230.0</td>\n",
       "      <td>NaN</td>\n",
       "      <td>NaN</td>\n",
       "      <td>NaN</td>\n",
       "      <td>NaN</td>\n",
       "      <td>NaN</td>\n",
       "      <td>COMPLETE</td>\n",
       "    </tr>\n",
       "    <tr>\n",
       "      <th>5</th>\n",
       "      <td>5</td>\n",
       "      <td>2.990515</td>\n",
       "      <td>2025-07-12 11:49:03.714677</td>\n",
       "      <td>2025-07-12 11:50:08.892297</td>\n",
       "      <td>0 days 00:01:05.177620</td>\n",
       "      <td>NaN</td>\n",
       "      <td>NaN</td>\n",
       "      <td>NaN</td>\n",
       "      <td>NaN</td>\n",
       "      <td>NaN</td>\n",
       "      <td>...</td>\n",
       "      <td>LGBM</td>\n",
       "      <td>NaN</td>\n",
       "      <td>260.0</td>\n",
       "      <td>NaN</td>\n",
       "      <td>NaN</td>\n",
       "      <td>NaN</td>\n",
       "      <td>62.0</td>\n",
       "      <td>NaN</td>\n",
       "      <td>NaN</td>\n",
       "      <td>COMPLETE</td>\n",
       "    </tr>\n",
       "    <tr>\n",
       "      <th>6</th>\n",
       "      <td>6</td>\n",
       "      <td>2.972979</td>\n",
       "      <td>2025-07-12 11:49:03.716009</td>\n",
       "      <td>2025-07-12 11:50:09.890850</td>\n",
       "      <td>0 days 00:01:06.174841</td>\n",
       "      <td>NaN</td>\n",
       "      <td>NaN</td>\n",
       "      <td>NaN</td>\n",
       "      <td>NaN</td>\n",
       "      <td>NaN</td>\n",
       "      <td>...</td>\n",
       "      <td>LGBM</td>\n",
       "      <td>NaN</td>\n",
       "      <td>280.0</td>\n",
       "      <td>NaN</td>\n",
       "      <td>NaN</td>\n",
       "      <td>NaN</td>\n",
       "      <td>96.0</td>\n",
       "      <td>NaN</td>\n",
       "      <td>NaN</td>\n",
       "      <td>COMPLETE</td>\n",
       "    </tr>\n",
       "    <tr>\n",
       "      <th>7</th>\n",
       "      <td>7</td>\n",
       "      <td>4.442416</td>\n",
       "      <td>2025-07-12 11:49:03.717622</td>\n",
       "      <td>2025-07-12 11:49:20.253352</td>\n",
       "      <td>0 days 00:00:16.535730</td>\n",
       "      <td>NaN</td>\n",
       "      <td>NaN</td>\n",
       "      <td>NaN</td>\n",
       "      <td>NaN</td>\n",
       "      <td>NaN</td>\n",
       "      <td>...</td>\n",
       "      <td>KNN</td>\n",
       "      <td>NaN</td>\n",
       "      <td>NaN</td>\n",
       "      <td>NaN</td>\n",
       "      <td>NaN</td>\n",
       "      <td>17.0</td>\n",
       "      <td>NaN</td>\n",
       "      <td>NaN</td>\n",
       "      <td>uniform</td>\n",
       "      <td>COMPLETE</td>\n",
       "    </tr>\n",
       "    <tr>\n",
       "      <th>8</th>\n",
       "      <td>8</td>\n",
       "      <td>4.223655</td>\n",
       "      <td>2025-07-12 11:49:20.261054</td>\n",
       "      <td>2025-07-12 13:09:26.335777</td>\n",
       "      <td>0 days 01:20:06.074723</td>\n",
       "      <td>NaN</td>\n",
       "      <td>NaN</td>\n",
       "      <td>40.455335</td>\n",
       "      <td>NaN</td>\n",
       "      <td>NaN</td>\n",
       "      <td>...</td>\n",
       "      <td>SVM</td>\n",
       "      <td>NaN</td>\n",
       "      <td>NaN</td>\n",
       "      <td>NaN</td>\n",
       "      <td>NaN</td>\n",
       "      <td>NaN</td>\n",
       "      <td>NaN</td>\n",
       "      <td>NaN</td>\n",
       "      <td>NaN</td>\n",
       "      <td>COMPLETE</td>\n",
       "    </tr>\n",
       "    <tr>\n",
       "      <th>9</th>\n",
       "      <td>9</td>\n",
       "      <td>3.035080</td>\n",
       "      <td>2025-07-12 11:49:44.902589</td>\n",
       "      <td>2025-07-12 11:50:17.047968</td>\n",
       "      <td>0 days 00:00:32.145379</td>\n",
       "      <td>NaN</td>\n",
       "      <td>NaN</td>\n",
       "      <td>NaN</td>\n",
       "      <td>NaN</td>\n",
       "      <td>NaN</td>\n",
       "      <td>...</td>\n",
       "      <td>LGBM</td>\n",
       "      <td>NaN</td>\n",
       "      <td>180.0</td>\n",
       "      <td>NaN</td>\n",
       "      <td>NaN</td>\n",
       "      <td>NaN</td>\n",
       "      <td>57.0</td>\n",
       "      <td>NaN</td>\n",
       "      <td>NaN</td>\n",
       "      <td>COMPLETE</td>\n",
       "    </tr>\n",
       "    <tr>\n",
       "      <th>10</th>\n",
       "      <td>10</td>\n",
       "      <td>3.802062</td>\n",
       "      <td>2025-07-12 11:49:46.033840</td>\n",
       "      <td>2025-07-12 12:20:01.184648</td>\n",
       "      <td>0 days 00:30:15.150808</td>\n",
       "      <td>NaN</td>\n",
       "      <td>NaN</td>\n",
       "      <td>10.558869</td>\n",
       "      <td>NaN</td>\n",
       "      <td>NaN</td>\n",
       "      <td>...</td>\n",
       "      <td>SVM</td>\n",
       "      <td>NaN</td>\n",
       "      <td>NaN</td>\n",
       "      <td>NaN</td>\n",
       "      <td>NaN</td>\n",
       "      <td>NaN</td>\n",
       "      <td>NaN</td>\n",
       "      <td>NaN</td>\n",
       "      <td>NaN</td>\n",
       "      <td>COMPLETE</td>\n",
       "    </tr>\n",
       "    <tr>\n",
       "      <th>11</th>\n",
       "      <td>11</td>\n",
       "      <td>3.070884</td>\n",
       "      <td>2025-07-12 11:49:59.844827</td>\n",
       "      <td>2025-07-12 11:52:04.090591</td>\n",
       "      <td>0 days 00:02:04.245764</td>\n",
       "      <td>NaN</td>\n",
       "      <td>NaN</td>\n",
       "      <td>NaN</td>\n",
       "      <td>NaN</td>\n",
       "      <td>NaN</td>\n",
       "      <td>...</td>\n",
       "      <td>GB</td>\n",
       "      <td>250.0</td>\n",
       "      <td>NaN</td>\n",
       "      <td>NaN</td>\n",
       "      <td>NaN</td>\n",
       "      <td>NaN</td>\n",
       "      <td>NaN</td>\n",
       "      <td>NaN</td>\n",
       "      <td>NaN</td>\n",
       "      <td>COMPLETE</td>\n",
       "    </tr>\n",
       "    <tr>\n",
       "      <th>12</th>\n",
       "      <td>12</td>\n",
       "      <td>4.052919</td>\n",
       "      <td>2025-07-12 11:50:02.906744</td>\n",
       "      <td>2025-07-12 13:07:48.035362</td>\n",
       "      <td>0 days 01:17:45.128618</td>\n",
       "      <td>NaN</td>\n",
       "      <td>NaN</td>\n",
       "      <td>35.950118</td>\n",
       "      <td>NaN</td>\n",
       "      <td>NaN</td>\n",
       "      <td>...</td>\n",
       "      <td>SVM</td>\n",
       "      <td>NaN</td>\n",
       "      <td>NaN</td>\n",
       "      <td>NaN</td>\n",
       "      <td>NaN</td>\n",
       "      <td>NaN</td>\n",
       "      <td>NaN</td>\n",
       "      <td>NaN</td>\n",
       "      <td>NaN</td>\n",
       "      <td>COMPLETE</td>\n",
       "    </tr>\n",
       "    <tr>\n",
       "      <th>13</th>\n",
       "      <td>13</td>\n",
       "      <td>3.042097</td>\n",
       "      <td>2025-07-12 11:50:08.897360</td>\n",
       "      <td>2025-07-12 11:50:39.609130</td>\n",
       "      <td>0 days 00:00:30.711770</td>\n",
       "      <td>NaN</td>\n",
       "      <td>NaN</td>\n",
       "      <td>NaN</td>\n",
       "      <td>NaN</td>\n",
       "      <td>NaN</td>\n",
       "      <td>...</td>\n",
       "      <td>LGBM</td>\n",
       "      <td>NaN</td>\n",
       "      <td>240.0</td>\n",
       "      <td>NaN</td>\n",
       "      <td>NaN</td>\n",
       "      <td>NaN</td>\n",
       "      <td>28.0</td>\n",
       "      <td>NaN</td>\n",
       "      <td>NaN</td>\n",
       "      <td>COMPLETE</td>\n",
       "    </tr>\n",
       "    <tr>\n",
       "      <th>14</th>\n",
       "      <td>14</td>\n",
       "      <td>3.034773</td>\n",
       "      <td>2025-07-12 11:50:09.897266</td>\n",
       "      <td>2025-07-12 11:50:36.796560</td>\n",
       "      <td>0 days 00:00:26.899294</td>\n",
       "      <td>NaN</td>\n",
       "      <td>NaN</td>\n",
       "      <td>NaN</td>\n",
       "      <td>NaN</td>\n",
       "      <td>NaN</td>\n",
       "      <td>...</td>\n",
       "      <td>RF</td>\n",
       "      <td>NaN</td>\n",
       "      <td>NaN</td>\n",
       "      <td>240.0</td>\n",
       "      <td>NaN</td>\n",
       "      <td>NaN</td>\n",
       "      <td>NaN</td>\n",
       "      <td>NaN</td>\n",
       "      <td>NaN</td>\n",
       "      <td>COMPLETE</td>\n",
       "    </tr>\n",
       "    <tr>\n",
       "      <th>15</th>\n",
       "      <td>15</td>\n",
       "      <td>3.930767</td>\n",
       "      <td>2025-07-12 11:50:17.053059</td>\n",
       "      <td>2025-07-12 11:54:24.186821</td>\n",
       "      <td>0 days 00:04:07.133762</td>\n",
       "      <td>NaN</td>\n",
       "      <td>1.197366</td>\n",
       "      <td>NaN</td>\n",
       "      <td>NaN</td>\n",
       "      <td>2.0</td>\n",
       "      <td>...</td>\n",
       "      <td>SVM</td>\n",
       "      <td>NaN</td>\n",
       "      <td>NaN</td>\n",
       "      <td>NaN</td>\n",
       "      <td>NaN</td>\n",
       "      <td>NaN</td>\n",
       "      <td>NaN</td>\n",
       "      <td>NaN</td>\n",
       "      <td>NaN</td>\n",
       "      <td>COMPLETE</td>\n",
       "    </tr>\n",
       "    <tr>\n",
       "      <th>16</th>\n",
       "      <td>16</td>\n",
       "      <td>4.537939</td>\n",
       "      <td>2025-07-12 11:50:36.801158</td>\n",
       "      <td>2025-07-12 11:50:48.580391</td>\n",
       "      <td>0 days 00:00:11.779233</td>\n",
       "      <td>NaN</td>\n",
       "      <td>NaN</td>\n",
       "      <td>NaN</td>\n",
       "      <td>NaN</td>\n",
       "      <td>NaN</td>\n",
       "      <td>...</td>\n",
       "      <td>KNN</td>\n",
       "      <td>NaN</td>\n",
       "      <td>NaN</td>\n",
       "      <td>NaN</td>\n",
       "      <td>NaN</td>\n",
       "      <td>4.0</td>\n",
       "      <td>NaN</td>\n",
       "      <td>NaN</td>\n",
       "      <td>distance</td>\n",
       "      <td>COMPLETE</td>\n",
       "    </tr>\n",
       "    <tr>\n",
       "      <th>17</th>\n",
       "      <td>17</td>\n",
       "      <td>4.618094</td>\n",
       "      <td>2025-07-12 11:50:39.613656</td>\n",
       "      <td>2025-07-12 11:50:57.612430</td>\n",
       "      <td>0 days 00:00:17.998774</td>\n",
       "      <td>NaN</td>\n",
       "      <td>NaN</td>\n",
       "      <td>NaN</td>\n",
       "      <td>NaN</td>\n",
       "      <td>NaN</td>\n",
       "      <td>...</td>\n",
       "      <td>GB</td>\n",
       "      <td>70.0</td>\n",
       "      <td>NaN</td>\n",
       "      <td>NaN</td>\n",
       "      <td>NaN</td>\n",
       "      <td>NaN</td>\n",
       "      <td>NaN</td>\n",
       "      <td>NaN</td>\n",
       "      <td>NaN</td>\n",
       "      <td>COMPLETE</td>\n",
       "    </tr>\n",
       "    <tr>\n",
       "      <th>18</th>\n",
       "      <td>18</td>\n",
       "      <td>3.252366</td>\n",
       "      <td>2025-07-12 11:50:48.589177</td>\n",
       "      <td>2025-07-12 11:53:08.579177</td>\n",
       "      <td>0 days 00:02:19.990000</td>\n",
       "      <td>NaN</td>\n",
       "      <td>NaN</td>\n",
       "      <td>NaN</td>\n",
       "      <td>NaN</td>\n",
       "      <td>NaN</td>\n",
       "      <td>...</td>\n",
       "      <td>GB</td>\n",
       "      <td>210.0</td>\n",
       "      <td>NaN</td>\n",
       "      <td>NaN</td>\n",
       "      <td>NaN</td>\n",
       "      <td>NaN</td>\n",
       "      <td>NaN</td>\n",
       "      <td>NaN</td>\n",
       "      <td>NaN</td>\n",
       "      <td>COMPLETE</td>\n",
       "    </tr>\n",
       "    <tr>\n",
       "      <th>19</th>\n",
       "      <td>19</td>\n",
       "      <td>4.144045</td>\n",
       "      <td>2025-07-12 11:50:57.618097</td>\n",
       "      <td>2025-07-12 11:56:54.641506</td>\n",
       "      <td>0 days 00:05:57.023409</td>\n",
       "      <td>NaN</td>\n",
       "      <td>NaN</td>\n",
       "      <td>0.802788</td>\n",
       "      <td>NaN</td>\n",
       "      <td>NaN</td>\n",
       "      <td>...</td>\n",
       "      <td>SVM</td>\n",
       "      <td>NaN</td>\n",
       "      <td>NaN</td>\n",
       "      <td>NaN</td>\n",
       "      <td>NaN</td>\n",
       "      <td>NaN</td>\n",
       "      <td>NaN</td>\n",
       "      <td>NaN</td>\n",
       "      <td>NaN</td>\n",
       "      <td>COMPLETE</td>\n",
       "    </tr>\n",
       "    <tr>\n",
       "      <th>20</th>\n",
       "      <td>20</td>\n",
       "      <td>4.675390</td>\n",
       "      <td>2025-07-12 11:52:04.099019</td>\n",
       "      <td>2025-07-12 11:56:09.425228</td>\n",
       "      <td>0 days 00:04:05.326209</td>\n",
       "      <td>0.496246</td>\n",
       "      <td>NaN</td>\n",
       "      <td>NaN</td>\n",
       "      <td>NaN</td>\n",
       "      <td>NaN</td>\n",
       "      <td>...</td>\n",
       "      <td>SVM</td>\n",
       "      <td>NaN</td>\n",
       "      <td>NaN</td>\n",
       "      <td>NaN</td>\n",
       "      <td>NaN</td>\n",
       "      <td>NaN</td>\n",
       "      <td>NaN</td>\n",
       "      <td>NaN</td>\n",
       "      <td>NaN</td>\n",
       "      <td>COMPLETE</td>\n",
       "    </tr>\n",
       "    <tr>\n",
       "      <th>21</th>\n",
       "      <td>21</td>\n",
       "      <td>3.918833</td>\n",
       "      <td>2025-07-12 11:53:08.586038</td>\n",
       "      <td>2025-07-12 11:58:15.331682</td>\n",
       "      <td>0 days 00:05:06.745644</td>\n",
       "      <td>NaN</td>\n",
       "      <td>5.870915</td>\n",
       "      <td>NaN</td>\n",
       "      <td>NaN</td>\n",
       "      <td>2.0</td>\n",
       "      <td>...</td>\n",
       "      <td>SVM</td>\n",
       "      <td>NaN</td>\n",
       "      <td>NaN</td>\n",
       "      <td>NaN</td>\n",
       "      <td>NaN</td>\n",
       "      <td>NaN</td>\n",
       "      <td>NaN</td>\n",
       "      <td>NaN</td>\n",
       "      <td>NaN</td>\n",
       "      <td>COMPLETE</td>\n",
       "    </tr>\n",
       "    <tr>\n",
       "      <th>22</th>\n",
       "      <td>22</td>\n",
       "      <td>3.056752</td>\n",
       "      <td>2025-07-12 11:54:24.192610</td>\n",
       "      <td>2025-07-12 11:54:42.964954</td>\n",
       "      <td>0 days 00:00:18.772344</td>\n",
       "      <td>NaN</td>\n",
       "      <td>NaN</td>\n",
       "      <td>NaN</td>\n",
       "      <td>NaN</td>\n",
       "      <td>NaN</td>\n",
       "      <td>...</td>\n",
       "      <td>LGBM</td>\n",
       "      <td>NaN</td>\n",
       "      <td>300.0</td>\n",
       "      <td>NaN</td>\n",
       "      <td>NaN</td>\n",
       "      <td>NaN</td>\n",
       "      <td>98.0</td>\n",
       "      <td>NaN</td>\n",
       "      <td>NaN</td>\n",
       "      <td>COMPLETE</td>\n",
       "    </tr>\n",
       "    <tr>\n",
       "      <th>23</th>\n",
       "      <td>23</td>\n",
       "      <td>3.054528</td>\n",
       "      <td>2025-07-12 11:54:40.167761</td>\n",
       "      <td>2025-07-12 11:54:53.203649</td>\n",
       "      <td>0 days 00:00:13.035888</td>\n",
       "      <td>NaN</td>\n",
       "      <td>NaN</td>\n",
       "      <td>NaN</td>\n",
       "      <td>NaN</td>\n",
       "      <td>NaN</td>\n",
       "      <td>...</td>\n",
       "      <td>LGBM</td>\n",
       "      <td>NaN</td>\n",
       "      <td>270.0</td>\n",
       "      <td>NaN</td>\n",
       "      <td>NaN</td>\n",
       "      <td>NaN</td>\n",
       "      <td>98.0</td>\n",
       "      <td>NaN</td>\n",
       "      <td>NaN</td>\n",
       "      <td>COMPLETE</td>\n",
       "    </tr>\n",
       "    <tr>\n",
       "      <th>24</th>\n",
       "      <td>24</td>\n",
       "      <td>2.972163</td>\n",
       "      <td>2025-07-12 11:54:42.970078</td>\n",
       "      <td>2025-07-12 11:55:00.895147</td>\n",
       "      <td>0 days 00:00:17.925069</td>\n",
       "      <td>NaN</td>\n",
       "      <td>NaN</td>\n",
       "      <td>NaN</td>\n",
       "      <td>NaN</td>\n",
       "      <td>NaN</td>\n",
       "      <td>...</td>\n",
       "      <td>LGBM</td>\n",
       "      <td>NaN</td>\n",
       "      <td>290.0</td>\n",
       "      <td>NaN</td>\n",
       "      <td>NaN</td>\n",
       "      <td>NaN</td>\n",
       "      <td>97.0</td>\n",
       "      <td>NaN</td>\n",
       "      <td>NaN</td>\n",
       "      <td>COMPLETE</td>\n",
       "    </tr>\n",
       "    <tr>\n",
       "      <th>25</th>\n",
       "      <td>25</td>\n",
       "      <td>3.363208</td>\n",
       "      <td>2025-07-12 11:54:53.209291</td>\n",
       "      <td>2025-07-12 11:55:12.248866</td>\n",
       "      <td>0 days 00:00:19.039575</td>\n",
       "      <td>NaN</td>\n",
       "      <td>NaN</td>\n",
       "      <td>NaN</td>\n",
       "      <td>0.628584</td>\n",
       "      <td>NaN</td>\n",
       "      <td>...</td>\n",
       "      <td>XGB</td>\n",
       "      <td>NaN</td>\n",
       "      <td>NaN</td>\n",
       "      <td>NaN</td>\n",
       "      <td>50.0</td>\n",
       "      <td>NaN</td>\n",
       "      <td>NaN</td>\n",
       "      <td>0.976471</td>\n",
       "      <td>NaN</td>\n",
       "      <td>COMPLETE</td>\n",
       "    </tr>\n",
       "    <tr>\n",
       "      <th>26</th>\n",
       "      <td>26</td>\n",
       "      <td>3.466672</td>\n",
       "      <td>2025-07-12 11:55:00.900447</td>\n",
       "      <td>2025-07-12 11:55:24.824132</td>\n",
       "      <td>0 days 00:00:23.923685</td>\n",
       "      <td>NaN</td>\n",
       "      <td>NaN</td>\n",
       "      <td>NaN</td>\n",
       "      <td>0.610048</td>\n",
       "      <td>NaN</td>\n",
       "      <td>...</td>\n",
       "      <td>XGB</td>\n",
       "      <td>NaN</td>\n",
       "      <td>NaN</td>\n",
       "      <td>NaN</td>\n",
       "      <td>70.0</td>\n",
       "      <td>NaN</td>\n",
       "      <td>NaN</td>\n",
       "      <td>0.985827</td>\n",
       "      <td>NaN</td>\n",
       "      <td>COMPLETE</td>\n",
       "    </tr>\n",
       "    <tr>\n",
       "      <th>27</th>\n",
       "      <td>27</td>\n",
       "      <td>2.962967</td>\n",
       "      <td>2025-07-12 11:55:12.267568</td>\n",
       "      <td>2025-07-12 11:55:30.861153</td>\n",
       "      <td>0 days 00:00:18.593585</td>\n",
       "      <td>NaN</td>\n",
       "      <td>NaN</td>\n",
       "      <td>NaN</td>\n",
       "      <td>NaN</td>\n",
       "      <td>NaN</td>\n",
       "      <td>...</td>\n",
       "      <td>LGBM</td>\n",
       "      <td>NaN</td>\n",
       "      <td>200.0</td>\n",
       "      <td>NaN</td>\n",
       "      <td>NaN</td>\n",
       "      <td>NaN</td>\n",
       "      <td>81.0</td>\n",
       "      <td>NaN</td>\n",
       "      <td>NaN</td>\n",
       "      <td>COMPLETE</td>\n",
       "    </tr>\n",
       "    <tr>\n",
       "      <th>28</th>\n",
       "      <td>28</td>\n",
       "      <td>2.982581</td>\n",
       "      <td>2025-07-12 11:55:24.829733</td>\n",
       "      <td>2025-07-12 11:55:40.082808</td>\n",
       "      <td>0 days 00:00:15.253075</td>\n",
       "      <td>NaN</td>\n",
       "      <td>NaN</td>\n",
       "      <td>NaN</td>\n",
       "      <td>NaN</td>\n",
       "      <td>NaN</td>\n",
       "      <td>...</td>\n",
       "      <td>LGBM</td>\n",
       "      <td>NaN</td>\n",
       "      <td>300.0</td>\n",
       "      <td>NaN</td>\n",
       "      <td>NaN</td>\n",
       "      <td>NaN</td>\n",
       "      <td>81.0</td>\n",
       "      <td>NaN</td>\n",
       "      <td>NaN</td>\n",
       "      <td>COMPLETE</td>\n",
       "    </tr>\n",
       "    <tr>\n",
       "      <th>29</th>\n",
       "      <td>29</td>\n",
       "      <td>2.962647</td>\n",
       "      <td>2025-07-12 11:55:30.866584</td>\n",
       "      <td>2025-07-12 11:55:46.493165</td>\n",
       "      <td>0 days 00:00:15.626581</td>\n",
       "      <td>NaN</td>\n",
       "      <td>NaN</td>\n",
       "      <td>NaN</td>\n",
       "      <td>NaN</td>\n",
       "      <td>NaN</td>\n",
       "      <td>...</td>\n",
       "      <td>LGBM</td>\n",
       "      <td>NaN</td>\n",
       "      <td>200.0</td>\n",
       "      <td>NaN</td>\n",
       "      <td>NaN</td>\n",
       "      <td>NaN</td>\n",
       "      <td>84.0</td>\n",
       "      <td>NaN</td>\n",
       "      <td>NaN</td>\n",
       "      <td>COMPLETE</td>\n",
       "    </tr>\n",
       "  </tbody>\n",
       "</table>\n",
       "<p>30 rows × 30 columns</p>\n",
       "</div>"
      ],
      "text/plain": [
       "    number     value             datetime_start          datetime_complete  \\\n",
       "0        0  3.780141 2025-07-12 11:49:03.706803 2025-07-12 11:49:59.841720   \n",
       "1        1  3.019665 2025-07-12 11:49:03.708506 2025-07-12 11:50:02.904078   \n",
       "2        2  4.166238 2025-07-12 11:49:03.709924 2025-07-12 11:54:40.162352   \n",
       "3        3  3.046849 2025-07-12 11:49:03.711599 2025-07-12 11:49:46.030506   \n",
       "4        4  3.006601 2025-07-12 11:49:03.713086 2025-07-12 11:49:44.899552   \n",
       "5        5  2.990515 2025-07-12 11:49:03.714677 2025-07-12 11:50:08.892297   \n",
       "6        6  2.972979 2025-07-12 11:49:03.716009 2025-07-12 11:50:09.890850   \n",
       "7        7  4.442416 2025-07-12 11:49:03.717622 2025-07-12 11:49:20.253352   \n",
       "8        8  4.223655 2025-07-12 11:49:20.261054 2025-07-12 13:09:26.335777   \n",
       "9        9  3.035080 2025-07-12 11:49:44.902589 2025-07-12 11:50:17.047968   \n",
       "10      10  3.802062 2025-07-12 11:49:46.033840 2025-07-12 12:20:01.184648   \n",
       "11      11  3.070884 2025-07-12 11:49:59.844827 2025-07-12 11:52:04.090591   \n",
       "12      12  4.052919 2025-07-12 11:50:02.906744 2025-07-12 13:07:48.035362   \n",
       "13      13  3.042097 2025-07-12 11:50:08.897360 2025-07-12 11:50:39.609130   \n",
       "14      14  3.034773 2025-07-12 11:50:09.897266 2025-07-12 11:50:36.796560   \n",
       "15      15  3.930767 2025-07-12 11:50:17.053059 2025-07-12 11:54:24.186821   \n",
       "16      16  4.537939 2025-07-12 11:50:36.801158 2025-07-12 11:50:48.580391   \n",
       "17      17  4.618094 2025-07-12 11:50:39.613656 2025-07-12 11:50:57.612430   \n",
       "18      18  3.252366 2025-07-12 11:50:48.589177 2025-07-12 11:53:08.579177   \n",
       "19      19  4.144045 2025-07-12 11:50:57.618097 2025-07-12 11:56:54.641506   \n",
       "20      20  4.675390 2025-07-12 11:52:04.099019 2025-07-12 11:56:09.425228   \n",
       "21      21  3.918833 2025-07-12 11:53:08.586038 2025-07-12 11:58:15.331682   \n",
       "22      22  3.056752 2025-07-12 11:54:24.192610 2025-07-12 11:54:42.964954   \n",
       "23      23  3.054528 2025-07-12 11:54:40.167761 2025-07-12 11:54:53.203649   \n",
       "24      24  2.972163 2025-07-12 11:54:42.970078 2025-07-12 11:55:00.895147   \n",
       "25      25  3.363208 2025-07-12 11:54:53.209291 2025-07-12 11:55:12.248866   \n",
       "26      26  3.466672 2025-07-12 11:55:00.900447 2025-07-12 11:55:24.824132   \n",
       "27      27  2.962967 2025-07-12 11:55:12.267568 2025-07-12 11:55:30.861153   \n",
       "28      28  2.982581 2025-07-12 11:55:24.829733 2025-07-12 11:55:40.082808   \n",
       "29      29  2.962647 2025-07-12 11:55:30.866584 2025-07-12 11:55:46.493165   \n",
       "\n",
       "                 duration  params_c_linear  params_c_poly  params_c_rbf  \\\n",
       "0  0 days 00:00:56.134917              NaN            NaN           NaN   \n",
       "1  0 days 00:00:59.195572              NaN            NaN           NaN   \n",
       "2  0 days 00:05:36.452428              NaN            NaN     29.158863   \n",
       "3  0 days 00:00:42.318907              NaN            NaN           NaN   \n",
       "4  0 days 00:00:41.186466              NaN            NaN           NaN   \n",
       "5  0 days 00:01:05.177620              NaN            NaN           NaN   \n",
       "6  0 days 00:01:06.174841              NaN            NaN           NaN   \n",
       "7  0 days 00:00:16.535730              NaN            NaN           NaN   \n",
       "8  0 days 01:20:06.074723              NaN            NaN     40.455335   \n",
       "9  0 days 00:00:32.145379              NaN            NaN           NaN   \n",
       "10 0 days 00:30:15.150808              NaN            NaN     10.558869   \n",
       "11 0 days 00:02:04.245764              NaN            NaN           NaN   \n",
       "12 0 days 01:17:45.128618              NaN            NaN     35.950118   \n",
       "13 0 days 00:00:30.711770              NaN            NaN           NaN   \n",
       "14 0 days 00:00:26.899294              NaN            NaN           NaN   \n",
       "15 0 days 00:04:07.133762              NaN       1.197366           NaN   \n",
       "16 0 days 00:00:11.779233              NaN            NaN           NaN   \n",
       "17 0 days 00:00:17.998774              NaN            NaN           NaN   \n",
       "18 0 days 00:02:19.990000              NaN            NaN           NaN   \n",
       "19 0 days 00:05:57.023409              NaN            NaN      0.802788   \n",
       "20 0 days 00:04:05.326209         0.496246            NaN           NaN   \n",
       "21 0 days 00:05:06.745644              NaN       5.870915           NaN   \n",
       "22 0 days 00:00:18.772344              NaN            NaN           NaN   \n",
       "23 0 days 00:00:13.035888              NaN            NaN           NaN   \n",
       "24 0 days 00:00:17.925069              NaN            NaN           NaN   \n",
       "25 0 days 00:00:19.039575              NaN            NaN           NaN   \n",
       "26 0 days 00:00:23.923685              NaN            NaN           NaN   \n",
       "27 0 days 00:00:18.593585              NaN            NaN           NaN   \n",
       "28 0 days 00:00:15.253075              NaN            NaN           NaN   \n",
       "29 0 days 00:00:15.626581              NaN            NaN           NaN   \n",
       "\n",
       "    params_colsample_bytree_xgb  params_degree_poly  ...  params_model  \\\n",
       "0                      0.913132                 NaN  ...           XGB   \n",
       "1                           NaN                 NaN  ...          LGBM   \n",
       "2                           NaN                 NaN  ...           SVM   \n",
       "3                           NaN                 NaN  ...            RF   \n",
       "4                           NaN                 NaN  ...            RF   \n",
       "5                           NaN                 NaN  ...          LGBM   \n",
       "6                           NaN                 NaN  ...          LGBM   \n",
       "7                           NaN                 NaN  ...           KNN   \n",
       "8                           NaN                 NaN  ...           SVM   \n",
       "9                           NaN                 NaN  ...          LGBM   \n",
       "10                          NaN                 NaN  ...           SVM   \n",
       "11                          NaN                 NaN  ...            GB   \n",
       "12                          NaN                 NaN  ...           SVM   \n",
       "13                          NaN                 NaN  ...          LGBM   \n",
       "14                          NaN                 NaN  ...            RF   \n",
       "15                          NaN                 2.0  ...           SVM   \n",
       "16                          NaN                 NaN  ...           KNN   \n",
       "17                          NaN                 NaN  ...            GB   \n",
       "18                          NaN                 NaN  ...            GB   \n",
       "19                          NaN                 NaN  ...           SVM   \n",
       "20                          NaN                 NaN  ...           SVM   \n",
       "21                          NaN                 2.0  ...           SVM   \n",
       "22                          NaN                 NaN  ...          LGBM   \n",
       "23                          NaN                 NaN  ...          LGBM   \n",
       "24                          NaN                 NaN  ...          LGBM   \n",
       "25                     0.628584                 NaN  ...           XGB   \n",
       "26                     0.610048                 NaN  ...           XGB   \n",
       "27                          NaN                 NaN  ...          LGBM   \n",
       "28                          NaN                 NaN  ...          LGBM   \n",
       "29                          NaN                 NaN  ...          LGBM   \n",
       "\n",
       "   params_n_estimators_gb  params_n_estimators_lgbm  params_n_estimators_rf  \\\n",
       "0                     NaN                       NaN                     NaN   \n",
       "1                     NaN                     100.0                     NaN   \n",
       "2                     NaN                       NaN                     NaN   \n",
       "3                     NaN                       NaN                   160.0   \n",
       "4                     NaN                       NaN                   230.0   \n",
       "5                     NaN                     260.0                     NaN   \n",
       "6                     NaN                     280.0                     NaN   \n",
       "7                     NaN                       NaN                     NaN   \n",
       "8                     NaN                       NaN                     NaN   \n",
       "9                     NaN                     180.0                     NaN   \n",
       "10                    NaN                       NaN                     NaN   \n",
       "11                  250.0                       NaN                     NaN   \n",
       "12                    NaN                       NaN                     NaN   \n",
       "13                    NaN                     240.0                     NaN   \n",
       "14                    NaN                       NaN                   240.0   \n",
       "15                    NaN                       NaN                     NaN   \n",
       "16                    NaN                       NaN                     NaN   \n",
       "17                   70.0                       NaN                     NaN   \n",
       "18                  210.0                       NaN                     NaN   \n",
       "19                    NaN                       NaN                     NaN   \n",
       "20                    NaN                       NaN                     NaN   \n",
       "21                    NaN                       NaN                     NaN   \n",
       "22                    NaN                     300.0                     NaN   \n",
       "23                    NaN                     270.0                     NaN   \n",
       "24                    NaN                     290.0                     NaN   \n",
       "25                    NaN                       NaN                     NaN   \n",
       "26                    NaN                       NaN                     NaN   \n",
       "27                    NaN                     200.0                     NaN   \n",
       "28                    NaN                     300.0                     NaN   \n",
       "29                    NaN                     200.0                     NaN   \n",
       "\n",
       "    params_n_estimators_xgb  params_n_neighbors_knn  params_num_leaves  \\\n",
       "0                     260.0                     NaN                NaN   \n",
       "1                       NaN                     NaN               56.0   \n",
       "2                       NaN                     NaN                NaN   \n",
       "3                       NaN                     NaN                NaN   \n",
       "4                       NaN                     NaN                NaN   \n",
       "5                       NaN                     NaN               62.0   \n",
       "6                       NaN                     NaN               96.0   \n",
       "7                       NaN                    17.0                NaN   \n",
       "8                       NaN                     NaN                NaN   \n",
       "9                       NaN                     NaN               57.0   \n",
       "10                      NaN                     NaN                NaN   \n",
       "11                      NaN                     NaN                NaN   \n",
       "12                      NaN                     NaN                NaN   \n",
       "13                      NaN                     NaN               28.0   \n",
       "14                      NaN                     NaN                NaN   \n",
       "15                      NaN                     NaN                NaN   \n",
       "16                      NaN                     4.0                NaN   \n",
       "17                      NaN                     NaN                NaN   \n",
       "18                      NaN                     NaN                NaN   \n",
       "19                      NaN                     NaN                NaN   \n",
       "20                      NaN                     NaN                NaN   \n",
       "21                      NaN                     NaN                NaN   \n",
       "22                      NaN                     NaN               98.0   \n",
       "23                      NaN                     NaN               98.0   \n",
       "24                      NaN                     NaN               97.0   \n",
       "25                     50.0                     NaN                NaN   \n",
       "26                     70.0                     NaN                NaN   \n",
       "27                      NaN                     NaN               81.0   \n",
       "28                      NaN                     NaN               81.0   \n",
       "29                      NaN                     NaN               84.0   \n",
       "\n",
       "    params_subsample_xgb  params_weights_knn     state  \n",
       "0               0.758471                 NaN  COMPLETE  \n",
       "1                    NaN                 NaN  COMPLETE  \n",
       "2                    NaN                 NaN  COMPLETE  \n",
       "3                    NaN                 NaN  COMPLETE  \n",
       "4                    NaN                 NaN  COMPLETE  \n",
       "5                    NaN                 NaN  COMPLETE  \n",
       "6                    NaN                 NaN  COMPLETE  \n",
       "7                    NaN             uniform  COMPLETE  \n",
       "8                    NaN                 NaN  COMPLETE  \n",
       "9                    NaN                 NaN  COMPLETE  \n",
       "10                   NaN                 NaN  COMPLETE  \n",
       "11                   NaN                 NaN  COMPLETE  \n",
       "12                   NaN                 NaN  COMPLETE  \n",
       "13                   NaN                 NaN  COMPLETE  \n",
       "14                   NaN                 NaN  COMPLETE  \n",
       "15                   NaN                 NaN  COMPLETE  \n",
       "16                   NaN            distance  COMPLETE  \n",
       "17                   NaN                 NaN  COMPLETE  \n",
       "18                   NaN                 NaN  COMPLETE  \n",
       "19                   NaN                 NaN  COMPLETE  \n",
       "20                   NaN                 NaN  COMPLETE  \n",
       "21                   NaN                 NaN  COMPLETE  \n",
       "22                   NaN                 NaN  COMPLETE  \n",
       "23                   NaN                 NaN  COMPLETE  \n",
       "24                   NaN                 NaN  COMPLETE  \n",
       "25              0.976471                 NaN  COMPLETE  \n",
       "26              0.985827                 NaN  COMPLETE  \n",
       "27                   NaN                 NaN  COMPLETE  \n",
       "28                   NaN                 NaN  COMPLETE  \n",
       "29                   NaN                 NaN  COMPLETE  \n",
       "\n",
       "[30 rows x 30 columns]"
      ]
     },
     "execution_count": 50,
     "metadata": {},
     "output_type": "execute_result"
    }
   ],
   "source": [
    "study.trials_dataframe()\n"
   ]
  },
  {
   "cell_type": "code",
   "execution_count": 51,
   "id": "825fe1b3",
   "metadata": {},
   "outputs": [
    {
     "data": {
      "text/plain": [
       "params_model\n",
       "LGBM    11\n",
       "SVM      8\n",
       "XGB      3\n",
       "RF       3\n",
       "GB       3\n",
       "KNN      2\n",
       "Name: count, dtype: int64"
      ]
     },
     "execution_count": 51,
     "metadata": {},
     "output_type": "execute_result"
    }
   ],
   "source": [
    "study.trials_dataframe()['params_model'].value_counts()\n"
   ]
  },
  {
   "cell_type": "code",
   "execution_count": 52,
   "id": "6a6b1fcb",
   "metadata": {},
   "outputs": [
    {
     "data": {
      "text/plain": [
       "params_model\n",
       "LGBM    3.004725\n",
       "RF      3.029407\n",
       "XGB     3.536673\n",
       "GB      3.647115\n",
       "SVM     4.114239\n",
       "KNN     4.490178\n",
       "Name: value, dtype: float64"
      ]
     },
     "execution_count": 52,
     "metadata": {},
     "output_type": "execute_result"
    }
   ],
   "source": [
    "study.trials_dataframe().groupby(\"params_model\")['value'].mean().sort_values()\n"
   ]
  },
  {
   "cell_type": "code",
   "execution_count": 53,
   "id": "c81707f5",
   "metadata": {},
   "outputs": [],
   "source": [
    "from sklearn.compose import TransformedTargetRegressor\n",
    "\n",
    "model = TransformedTargetRegressor(regressor=lgbm,\n",
    "                                    transformer=pt)\n",
    "     "
   ]
  },
  {
   "cell_type": "code",
   "execution_count": 55,
   "id": "872f04c7",
   "metadata": {},
   "outputs": [
    {
     "data": {
      "text/plain": [
       "array([-3.02893811, -2.99902077, -2.98214722, -2.99944664, -2.98452171])"
      ]
     },
     "execution_count": 55,
     "metadata": {},
     "output_type": "execute_result"
    }
   ],
   "source": [
    "from sklearn.model_selection import cross_val_score\n",
    "\n",
    "scores = cross_val_score(model,\n",
    "                         X_train_processed,\n",
    "                         y_train,\n",
    "                         scoring=\"neg_mean_absolute_error\",\n",
    "                         cv=5,n_jobs=-1)\n",
    "\n",
    "scores"
   ]
  },
  {
   "cell_type": "code",
   "execution_count": 56,
   "id": "ee072e45",
   "metadata": {},
   "outputs": [
    {
     "data": {
      "text/plain": [
       "np.float64(2.9988148920504374)"
      ]
     },
     "execution_count": 56,
     "metadata": {},
     "output_type": "execute_result"
    }
   ],
   "source": [
    "- scores.mean()\n"
   ]
  },
  {
   "cell_type": "code",
   "execution_count": 57,
   "id": "5c34cc3c",
   "metadata": {},
   "outputs": [
    {
     "data": {
      "application/vnd.plotly.v1+json": {
       "config": {
        "plotlyServerURL": "https://plot.ly"
       },
       "data": [
        {
         "dimensions": [
          {
           "label": "Objective Value",
           "range": [
            2.9626465468155394,
            4.675390012764835
           ],
           "values": [
            3.7801411151885986,
            3.0196645405005773,
            4.166237934379796,
            3.046848638123444,
            3.0066005650264143,
            2.990514781944793,
            2.972978989649277,
            4.4424163978121864,
            4.223655322760632,
            3.0350802992221544,
            3.802061772688303,
            3.0708844832980944,
            4.052919028790522,
            3.0420971248896063,
            3.0347727038661865,
            3.9307672642601164,
            4.5379390143051985,
            4.618093747928405,
            3.252366284424499,
            4.144044863858972,
            4.675390012764835,
            3.9188328681065734,
            3.05675215418449,
            3.0545280295210104,
            2.972163077996169,
            3.3632075786590576,
            3.4666717052459717,
            2.962967016054149,
            2.9825806244815087,
            2.9626465468155394
           ]
          },
          {
           "label": "model",
           "range": [
            0,
            5
           ],
           "ticktext": [
            "XGB",
            "LGBM",
            "SVM",
            "RF",
            "KNN",
            "GB"
           ],
           "tickvals": [
            0,
            1,
            2,
            3,
            4,
            5
           ],
           "values": [
            0,
            1,
            2,
            3,
            3,
            1,
            1,
            4,
            2,
            1,
            2,
            5,
            2,
            1,
            3,
            2,
            4,
            5,
            5,
            2,
            2,
            2,
            1,
            1,
            1,
            0,
            0,
            1,
            1,
            1
           ]
          }
         ],
         "labelangle": 30,
         "labelside": "bottom",
         "line": {
          "color": [
           3.7801411151885986,
           3.0196645405005773,
           4.166237934379796,
           3.046848638123444,
           3.0066005650264143,
           2.990514781944793,
           2.972978989649277,
           4.4424163978121864,
           4.223655322760632,
           3.0350802992221544,
           3.802061772688303,
           3.0708844832980944,
           4.052919028790522,
           3.0420971248896063,
           3.0347727038661865,
           3.9307672642601164,
           4.5379390143051985,
           4.618093747928405,
           3.252366284424499,
           4.144044863858972,
           4.675390012764835,
           3.9188328681065734,
           3.05675215418449,
           3.0545280295210104,
           2.972163077996169,
           3.3632075786590576,
           3.4666717052459717,
           2.962967016054149,
           2.9825806244815087,
           2.9626465468155394
          ],
          "colorbar": {
           "title": {
            "text": "Objective Value"
           }
          },
          "colorscale": [
           [
            0,
            "rgb(247,251,255)"
           ],
           [
            0.125,
            "rgb(222,235,247)"
           ],
           [
            0.25,
            "rgb(198,219,239)"
           ],
           [
            0.375,
            "rgb(158,202,225)"
           ],
           [
            0.5,
            "rgb(107,174,214)"
           ],
           [
            0.625,
            "rgb(66,146,198)"
           ],
           [
            0.75,
            "rgb(33,113,181)"
           ],
           [
            0.875,
            "rgb(8,81,156)"
           ],
           [
            1,
            "rgb(8,48,107)"
           ]
          ],
          "reversescale": true,
          "showscale": true
         },
         "type": "parcoords"
        }
       ],
       "layout": {
        "template": {
         "data": {
          "bar": [
           {
            "error_x": {
             "color": "#2a3f5f"
            },
            "error_y": {
             "color": "#2a3f5f"
            },
            "marker": {
             "line": {
              "color": "#E5ECF6",
              "width": 0.5
             },
             "pattern": {
              "fillmode": "overlay",
              "size": 10,
              "solidity": 0.2
             }
            },
            "type": "bar"
           }
          ],
          "barpolar": [
           {
            "marker": {
             "line": {
              "color": "#E5ECF6",
              "width": 0.5
             },
             "pattern": {
              "fillmode": "overlay",
              "size": 10,
              "solidity": 0.2
             }
            },
            "type": "barpolar"
           }
          ],
          "carpet": [
           {
            "aaxis": {
             "endlinecolor": "#2a3f5f",
             "gridcolor": "white",
             "linecolor": "white",
             "minorgridcolor": "white",
             "startlinecolor": "#2a3f5f"
            },
            "baxis": {
             "endlinecolor": "#2a3f5f",
             "gridcolor": "white",
             "linecolor": "white",
             "minorgridcolor": "white",
             "startlinecolor": "#2a3f5f"
            },
            "type": "carpet"
           }
          ],
          "choropleth": [
           {
            "colorbar": {
             "outlinewidth": 0,
             "ticks": ""
            },
            "type": "choropleth"
           }
          ],
          "contour": [
           {
            "colorbar": {
             "outlinewidth": 0,
             "ticks": ""
            },
            "colorscale": [
             [
              0,
              "#0d0887"
             ],
             [
              0.1111111111111111,
              "#46039f"
             ],
             [
              0.2222222222222222,
              "#7201a8"
             ],
             [
              0.3333333333333333,
              "#9c179e"
             ],
             [
              0.4444444444444444,
              "#bd3786"
             ],
             [
              0.5555555555555556,
              "#d8576b"
             ],
             [
              0.6666666666666666,
              "#ed7953"
             ],
             [
              0.7777777777777778,
              "#fb9f3a"
             ],
             [
              0.8888888888888888,
              "#fdca26"
             ],
             [
              1,
              "#f0f921"
             ]
            ],
            "type": "contour"
           }
          ],
          "contourcarpet": [
           {
            "colorbar": {
             "outlinewidth": 0,
             "ticks": ""
            },
            "type": "contourcarpet"
           }
          ],
          "heatmap": [
           {
            "colorbar": {
             "outlinewidth": 0,
             "ticks": ""
            },
            "colorscale": [
             [
              0,
              "#0d0887"
             ],
             [
              0.1111111111111111,
              "#46039f"
             ],
             [
              0.2222222222222222,
              "#7201a8"
             ],
             [
              0.3333333333333333,
              "#9c179e"
             ],
             [
              0.4444444444444444,
              "#bd3786"
             ],
             [
              0.5555555555555556,
              "#d8576b"
             ],
             [
              0.6666666666666666,
              "#ed7953"
             ],
             [
              0.7777777777777778,
              "#fb9f3a"
             ],
             [
              0.8888888888888888,
              "#fdca26"
             ],
             [
              1,
              "#f0f921"
             ]
            ],
            "type": "heatmap"
           }
          ],
          "histogram": [
           {
            "marker": {
             "pattern": {
              "fillmode": "overlay",
              "size": 10,
              "solidity": 0.2
             }
            },
            "type": "histogram"
           }
          ],
          "histogram2d": [
           {
            "colorbar": {
             "outlinewidth": 0,
             "ticks": ""
            },
            "colorscale": [
             [
              0,
              "#0d0887"
             ],
             [
              0.1111111111111111,
              "#46039f"
             ],
             [
              0.2222222222222222,
              "#7201a8"
             ],
             [
              0.3333333333333333,
              "#9c179e"
             ],
             [
              0.4444444444444444,
              "#bd3786"
             ],
             [
              0.5555555555555556,
              "#d8576b"
             ],
             [
              0.6666666666666666,
              "#ed7953"
             ],
             [
              0.7777777777777778,
              "#fb9f3a"
             ],
             [
              0.8888888888888888,
              "#fdca26"
             ],
             [
              1,
              "#f0f921"
             ]
            ],
            "type": "histogram2d"
           }
          ],
          "histogram2dcontour": [
           {
            "colorbar": {
             "outlinewidth": 0,
             "ticks": ""
            },
            "colorscale": [
             [
              0,
              "#0d0887"
             ],
             [
              0.1111111111111111,
              "#46039f"
             ],
             [
              0.2222222222222222,
              "#7201a8"
             ],
             [
              0.3333333333333333,
              "#9c179e"
             ],
             [
              0.4444444444444444,
              "#bd3786"
             ],
             [
              0.5555555555555556,
              "#d8576b"
             ],
             [
              0.6666666666666666,
              "#ed7953"
             ],
             [
              0.7777777777777778,
              "#fb9f3a"
             ],
             [
              0.8888888888888888,
              "#fdca26"
             ],
             [
              1,
              "#f0f921"
             ]
            ],
            "type": "histogram2dcontour"
           }
          ],
          "mesh3d": [
           {
            "colorbar": {
             "outlinewidth": 0,
             "ticks": ""
            },
            "type": "mesh3d"
           }
          ],
          "parcoords": [
           {
            "line": {
             "colorbar": {
              "outlinewidth": 0,
              "ticks": ""
             }
            },
            "type": "parcoords"
           }
          ],
          "pie": [
           {
            "automargin": true,
            "type": "pie"
           }
          ],
          "scatter": [
           {
            "fillpattern": {
             "fillmode": "overlay",
             "size": 10,
             "solidity": 0.2
            },
            "type": "scatter"
           }
          ],
          "scatter3d": [
           {
            "line": {
             "colorbar": {
              "outlinewidth": 0,
              "ticks": ""
             }
            },
            "marker": {
             "colorbar": {
              "outlinewidth": 0,
              "ticks": ""
             }
            },
            "type": "scatter3d"
           }
          ],
          "scattercarpet": [
           {
            "marker": {
             "colorbar": {
              "outlinewidth": 0,
              "ticks": ""
             }
            },
            "type": "scattercarpet"
           }
          ],
          "scattergeo": [
           {
            "marker": {
             "colorbar": {
              "outlinewidth": 0,
              "ticks": ""
             }
            },
            "type": "scattergeo"
           }
          ],
          "scattergl": [
           {
            "marker": {
             "colorbar": {
              "outlinewidth": 0,
              "ticks": ""
             }
            },
            "type": "scattergl"
           }
          ],
          "scattermap": [
           {
            "marker": {
             "colorbar": {
              "outlinewidth": 0,
              "ticks": ""
             }
            },
            "type": "scattermap"
           }
          ],
          "scattermapbox": [
           {
            "marker": {
             "colorbar": {
              "outlinewidth": 0,
              "ticks": ""
             }
            },
            "type": "scattermapbox"
           }
          ],
          "scatterpolar": [
           {
            "marker": {
             "colorbar": {
              "outlinewidth": 0,
              "ticks": ""
             }
            },
            "type": "scatterpolar"
           }
          ],
          "scatterpolargl": [
           {
            "marker": {
             "colorbar": {
              "outlinewidth": 0,
              "ticks": ""
             }
            },
            "type": "scatterpolargl"
           }
          ],
          "scatterternary": [
           {
            "marker": {
             "colorbar": {
              "outlinewidth": 0,
              "ticks": ""
             }
            },
            "type": "scatterternary"
           }
          ],
          "surface": [
           {
            "colorbar": {
             "outlinewidth": 0,
             "ticks": ""
            },
            "colorscale": [
             [
              0,
              "#0d0887"
             ],
             [
              0.1111111111111111,
              "#46039f"
             ],
             [
              0.2222222222222222,
              "#7201a8"
             ],
             [
              0.3333333333333333,
              "#9c179e"
             ],
             [
              0.4444444444444444,
              "#bd3786"
             ],
             [
              0.5555555555555556,
              "#d8576b"
             ],
             [
              0.6666666666666666,
              "#ed7953"
             ],
             [
              0.7777777777777778,
              "#fb9f3a"
             ],
             [
              0.8888888888888888,
              "#fdca26"
             ],
             [
              1,
              "#f0f921"
             ]
            ],
            "type": "surface"
           }
          ],
          "table": [
           {
            "cells": {
             "fill": {
              "color": "#EBF0F8"
             },
             "line": {
              "color": "white"
             }
            },
            "header": {
             "fill": {
              "color": "#C8D4E3"
             },
             "line": {
              "color": "white"
             }
            },
            "type": "table"
           }
          ]
         },
         "layout": {
          "annotationdefaults": {
           "arrowcolor": "#2a3f5f",
           "arrowhead": 0,
           "arrowwidth": 1
          },
          "autotypenumbers": "strict",
          "coloraxis": {
           "colorbar": {
            "outlinewidth": 0,
            "ticks": ""
           }
          },
          "colorscale": {
           "diverging": [
            [
             0,
             "#8e0152"
            ],
            [
             0.1,
             "#c51b7d"
            ],
            [
             0.2,
             "#de77ae"
            ],
            [
             0.3,
             "#f1b6da"
            ],
            [
             0.4,
             "#fde0ef"
            ],
            [
             0.5,
             "#f7f7f7"
            ],
            [
             0.6,
             "#e6f5d0"
            ],
            [
             0.7,
             "#b8e186"
            ],
            [
             0.8,
             "#7fbc41"
            ],
            [
             0.9,
             "#4d9221"
            ],
            [
             1,
             "#276419"
            ]
           ],
           "sequential": [
            [
             0,
             "#0d0887"
            ],
            [
             0.1111111111111111,
             "#46039f"
            ],
            [
             0.2222222222222222,
             "#7201a8"
            ],
            [
             0.3333333333333333,
             "#9c179e"
            ],
            [
             0.4444444444444444,
             "#bd3786"
            ],
            [
             0.5555555555555556,
             "#d8576b"
            ],
            [
             0.6666666666666666,
             "#ed7953"
            ],
            [
             0.7777777777777778,
             "#fb9f3a"
            ],
            [
             0.8888888888888888,
             "#fdca26"
            ],
            [
             1,
             "#f0f921"
            ]
           ],
           "sequentialminus": [
            [
             0,
             "#0d0887"
            ],
            [
             0.1111111111111111,
             "#46039f"
            ],
            [
             0.2222222222222222,
             "#7201a8"
            ],
            [
             0.3333333333333333,
             "#9c179e"
            ],
            [
             0.4444444444444444,
             "#bd3786"
            ],
            [
             0.5555555555555556,
             "#d8576b"
            ],
            [
             0.6666666666666666,
             "#ed7953"
            ],
            [
             0.7777777777777778,
             "#fb9f3a"
            ],
            [
             0.8888888888888888,
             "#fdca26"
            ],
            [
             1,
             "#f0f921"
            ]
           ]
          },
          "colorway": [
           "#636efa",
           "#EF553B",
           "#00cc96",
           "#ab63fa",
           "#FFA15A",
           "#19d3f3",
           "#FF6692",
           "#B6E880",
           "#FF97FF",
           "#FECB52"
          ],
          "font": {
           "color": "#2a3f5f"
          },
          "geo": {
           "bgcolor": "white",
           "lakecolor": "white",
           "landcolor": "#E5ECF6",
           "showlakes": true,
           "showland": true,
           "subunitcolor": "white"
          },
          "hoverlabel": {
           "align": "left"
          },
          "hovermode": "closest",
          "mapbox": {
           "style": "light"
          },
          "paper_bgcolor": "white",
          "plot_bgcolor": "#E5ECF6",
          "polar": {
           "angularaxis": {
            "gridcolor": "white",
            "linecolor": "white",
            "ticks": ""
           },
           "bgcolor": "#E5ECF6",
           "radialaxis": {
            "gridcolor": "white",
            "linecolor": "white",
            "ticks": ""
           }
          },
          "scene": {
           "xaxis": {
            "backgroundcolor": "#E5ECF6",
            "gridcolor": "white",
            "gridwidth": 2,
            "linecolor": "white",
            "showbackground": true,
            "ticks": "",
            "zerolinecolor": "white"
           },
           "yaxis": {
            "backgroundcolor": "#E5ECF6",
            "gridcolor": "white",
            "gridwidth": 2,
            "linecolor": "white",
            "showbackground": true,
            "ticks": "",
            "zerolinecolor": "white"
           },
           "zaxis": {
            "backgroundcolor": "#E5ECF6",
            "gridcolor": "white",
            "gridwidth": 2,
            "linecolor": "white",
            "showbackground": true,
            "ticks": "",
            "zerolinecolor": "white"
           }
          },
          "shapedefaults": {
           "line": {
            "color": "#2a3f5f"
           }
          },
          "ternary": {
           "aaxis": {
            "gridcolor": "white",
            "linecolor": "white",
            "ticks": ""
           },
           "baxis": {
            "gridcolor": "white",
            "linecolor": "white",
            "ticks": ""
           },
           "bgcolor": "#E5ECF6",
           "caxis": {
            "gridcolor": "white",
            "linecolor": "white",
            "ticks": ""
           }
          },
          "title": {
           "x": 0.05
          },
          "xaxis": {
           "automargin": true,
           "gridcolor": "white",
           "linecolor": "white",
           "ticks": "",
           "title": {
            "standoff": 15
           },
           "zerolinecolor": "white",
           "zerolinewidth": 2
          },
          "yaxis": {
           "automargin": true,
           "gridcolor": "white",
           "linecolor": "white",
           "ticks": "",
           "title": {
            "standoff": 15
           },
           "zerolinecolor": "white",
           "zerolinewidth": 2
          }
         }
        },
        "title": {
         "text": "Parallel Coordinate Plot"
        }
       }
      }
     },
     "metadata": {},
     "output_type": "display_data"
    }
   ],
   "source": [
    "optuna.visualization.plot_parallel_coordinate(study,params=[\"model\"])\n"
   ]
  },
  {
   "cell_type": "code",
   "execution_count": null,
   "id": "cc175aed",
   "metadata": {},
   "outputs": [],
   "source": []
  }
 ],
 "metadata": {
  "kernelspec": {
   "display_name": ".venv",
   "language": "python",
   "name": "python3"
  },
  "language_info": {
   "codemirror_mode": {
    "name": "ipython",
    "version": 3
   },
   "file_extension": ".py",
   "mimetype": "text/x-python",
   "name": "python",
   "nbconvert_exporter": "python",
   "pygments_lexer": "ipython3",
   "version": "3.13.1"
  }
 },
 "nbformat": 4,
 "nbformat_minor": 5
}
