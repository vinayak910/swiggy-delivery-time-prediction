{
 "cells": [
  {
   "cell_type": "code",
   "execution_count": 1,
   "id": "49a99457",
   "metadata": {},
   "outputs": [],
   "source": [
    "import numpy as np \n",
    "import pandas as pd \n",
    "import mlflow \n",
    "from sklearn.compose import ColumnTransformer\n",
    "from sklearn.pipeline import Pipeline \n",
    "from sklearn.model_selection import train_test_split\n",
    "from sklearn.preprocessing import MinMaxScaler, OrdinalEncoder, OneHotEncoder, PowerTransformer"
   ]
  },
  {
   "cell_type": "code",
   "execution_count": 2,
   "id": "7b8ee0bc",
   "metadata": {},
   "outputs": [],
   "source": [
    "df = pd.read_csv(\"swiggy_cleaned.csv\")"
   ]
  },
  {
   "cell_type": "code",
   "execution_count": 3,
   "id": "cde82647",
   "metadata": {},
   "outputs": [
    {
     "data": {
      "text/html": [
       "<div>\n",
       "<style scoped>\n",
       "    .dataframe tbody tr th:only-of-type {\n",
       "        vertical-align: middle;\n",
       "    }\n",
       "\n",
       "    .dataframe tbody tr th {\n",
       "        vertical-align: top;\n",
       "    }\n",
       "\n",
       "    .dataframe thead th {\n",
       "        text-align: right;\n",
       "    }\n",
       "</style>\n",
       "<table border=\"1\" class=\"dataframe\">\n",
       "  <thead>\n",
       "    <tr style=\"text-align: right;\">\n",
       "      <th></th>\n",
       "      <th>rider_id</th>\n",
       "      <th>age</th>\n",
       "      <th>ratings</th>\n",
       "      <th>restaurant_latitude</th>\n",
       "      <th>restaurant_longitude</th>\n",
       "      <th>delivery_latitude</th>\n",
       "      <th>delivery_longitude</th>\n",
       "      <th>order_date</th>\n",
       "      <th>weather</th>\n",
       "      <th>traffic</th>\n",
       "      <th>...</th>\n",
       "      <th>city_name</th>\n",
       "      <th>order_day</th>\n",
       "      <th>order_month</th>\n",
       "      <th>order_day_of_week</th>\n",
       "      <th>is_weekend</th>\n",
       "      <th>pickup_time_minutes</th>\n",
       "      <th>order_time_hour</th>\n",
       "      <th>order_time_of_day</th>\n",
       "      <th>distance</th>\n",
       "      <th>distance_type</th>\n",
       "    </tr>\n",
       "  </thead>\n",
       "  <tbody>\n",
       "    <tr>\n",
       "      <th>0</th>\n",
       "      <td>INDORES13DEL02</td>\n",
       "      <td>37.0</td>\n",
       "      <td>4.9</td>\n",
       "      <td>22.745049</td>\n",
       "      <td>75.892471</td>\n",
       "      <td>22.765049</td>\n",
       "      <td>75.912471</td>\n",
       "      <td>2022-03-19</td>\n",
       "      <td>sunny</td>\n",
       "      <td>high</td>\n",
       "      <td>...</td>\n",
       "      <td>INDO</td>\n",
       "      <td>19</td>\n",
       "      <td>3</td>\n",
       "      <td>saturday</td>\n",
       "      <td>1</td>\n",
       "      <td>15.0</td>\n",
       "      <td>11.0</td>\n",
       "      <td>morning</td>\n",
       "      <td>3.025149</td>\n",
       "      <td>short</td>\n",
       "    </tr>\n",
       "    <tr>\n",
       "      <th>1</th>\n",
       "      <td>BANGRES18DEL02</td>\n",
       "      <td>34.0</td>\n",
       "      <td>4.5</td>\n",
       "      <td>12.913041</td>\n",
       "      <td>77.683237</td>\n",
       "      <td>13.043041</td>\n",
       "      <td>77.813237</td>\n",
       "      <td>2022-03-25</td>\n",
       "      <td>stormy</td>\n",
       "      <td>jam</td>\n",
       "      <td>...</td>\n",
       "      <td>BANG</td>\n",
       "      <td>25</td>\n",
       "      <td>3</td>\n",
       "      <td>friday</td>\n",
       "      <td>0</td>\n",
       "      <td>5.0</td>\n",
       "      <td>19.0</td>\n",
       "      <td>evening</td>\n",
       "      <td>20.183530</td>\n",
       "      <td>very_long</td>\n",
       "    </tr>\n",
       "    <tr>\n",
       "      <th>2</th>\n",
       "      <td>BANGRES19DEL01</td>\n",
       "      <td>23.0</td>\n",
       "      <td>4.4</td>\n",
       "      <td>12.914264</td>\n",
       "      <td>77.678400</td>\n",
       "      <td>12.924264</td>\n",
       "      <td>77.688400</td>\n",
       "      <td>2022-03-19</td>\n",
       "      <td>sandstorms</td>\n",
       "      <td>low</td>\n",
       "      <td>...</td>\n",
       "      <td>BANG</td>\n",
       "      <td>19</td>\n",
       "      <td>3</td>\n",
       "      <td>saturday</td>\n",
       "      <td>1</td>\n",
       "      <td>15.0</td>\n",
       "      <td>8.0</td>\n",
       "      <td>morning</td>\n",
       "      <td>1.552758</td>\n",
       "      <td>short</td>\n",
       "    </tr>\n",
       "    <tr>\n",
       "      <th>3</th>\n",
       "      <td>COIMBRES13DEL02</td>\n",
       "      <td>38.0</td>\n",
       "      <td>4.7</td>\n",
       "      <td>11.003669</td>\n",
       "      <td>76.976494</td>\n",
       "      <td>11.053669</td>\n",
       "      <td>77.026494</td>\n",
       "      <td>2022-04-05</td>\n",
       "      <td>sunny</td>\n",
       "      <td>medium</td>\n",
       "      <td>...</td>\n",
       "      <td>COIMB</td>\n",
       "      <td>5</td>\n",
       "      <td>4</td>\n",
       "      <td>tuesday</td>\n",
       "      <td>0</td>\n",
       "      <td>10.0</td>\n",
       "      <td>18.0</td>\n",
       "      <td>evening</td>\n",
       "      <td>7.790401</td>\n",
       "      <td>medium</td>\n",
       "    </tr>\n",
       "    <tr>\n",
       "      <th>4</th>\n",
       "      <td>CHENRES12DEL01</td>\n",
       "      <td>32.0</td>\n",
       "      <td>4.6</td>\n",
       "      <td>12.972793</td>\n",
       "      <td>80.249982</td>\n",
       "      <td>13.012793</td>\n",
       "      <td>80.289982</td>\n",
       "      <td>2022-03-26</td>\n",
       "      <td>cloudy</td>\n",
       "      <td>high</td>\n",
       "      <td>...</td>\n",
       "      <td>CHEN</td>\n",
       "      <td>26</td>\n",
       "      <td>3</td>\n",
       "      <td>saturday</td>\n",
       "      <td>1</td>\n",
       "      <td>15.0</td>\n",
       "      <td>13.0</td>\n",
       "      <td>afternoon</td>\n",
       "      <td>6.210138</td>\n",
       "      <td>medium</td>\n",
       "    </tr>\n",
       "  </tbody>\n",
       "</table>\n",
       "<p>5 rows × 27 columns</p>\n",
       "</div>"
      ],
      "text/plain": [
       "           rider_id   age  ratings  restaurant_latitude  restaurant_longitude  \\\n",
       "0   INDORES13DEL02   37.0      4.9            22.745049             75.892471   \n",
       "1   BANGRES18DEL02   34.0      4.5            12.913041             77.683237   \n",
       "2   BANGRES19DEL01   23.0      4.4            12.914264             77.678400   \n",
       "3  COIMBRES13DEL02   38.0      4.7            11.003669             76.976494   \n",
       "4   CHENRES12DEL01   32.0      4.6            12.972793             80.249982   \n",
       "\n",
       "   delivery_latitude  delivery_longitude  order_date     weather traffic  ...  \\\n",
       "0          22.765049           75.912471  2022-03-19       sunny    high  ...   \n",
       "1          13.043041           77.813237  2022-03-25      stormy     jam  ...   \n",
       "2          12.924264           77.688400  2022-03-19  sandstorms     low  ...   \n",
       "3          11.053669           77.026494  2022-04-05       sunny  medium  ...   \n",
       "4          13.012793           80.289982  2022-03-26      cloudy    high  ...   \n",
       "\n",
       "   city_name order_day order_month  order_day_of_week is_weekend  \\\n",
       "0       INDO        19           3           saturday          1   \n",
       "1       BANG        25           3             friday          0   \n",
       "2       BANG        19           3           saturday          1   \n",
       "3      COIMB         5           4            tuesday          0   \n",
       "4       CHEN        26           3           saturday          1   \n",
       "\n",
       "  pickup_time_minutes  order_time_hour order_time_of_day   distance  \\\n",
       "0                15.0             11.0           morning   3.025149   \n",
       "1                 5.0             19.0           evening  20.183530   \n",
       "2                15.0              8.0           morning   1.552758   \n",
       "3                10.0             18.0           evening   7.790401   \n",
       "4                15.0             13.0         afternoon   6.210138   \n",
       "\n",
       "   distance_type  \n",
       "0          short  \n",
       "1      very_long  \n",
       "2          short  \n",
       "3         medium  \n",
       "4         medium  \n",
       "\n",
       "[5 rows x 27 columns]"
      ]
     },
     "execution_count": 3,
     "metadata": {},
     "output_type": "execute_result"
    }
   ],
   "source": [
    "df.head()"
   ]
  },
  {
   "cell_type": "code",
   "execution_count": 4,
   "id": "39a4a87a",
   "metadata": {},
   "outputs": [
    {
     "data": {
      "text/plain": [
       "(45502, 27)"
      ]
     },
     "execution_count": 4,
     "metadata": {},
     "output_type": "execute_result"
    }
   ],
   "source": [
    "df.shape"
   ]
  },
  {
   "cell_type": "code",
   "execution_count": 5,
   "id": "b614ba47",
   "metadata": {},
   "outputs": [
    {
     "data": {
      "text/plain": [
       "rider_id                   0\n",
       "age                     1854\n",
       "ratings                 1908\n",
       "restaurant_latitude     3630\n",
       "restaurant_longitude    3630\n",
       "delivery_latitude       3630\n",
       "delivery_longitude      3630\n",
       "order_date                 0\n",
       "weather                  525\n",
       "traffic                  510\n",
       "vehicle_condition          0\n",
       "type_of_order              0\n",
       "type_of_vehicle            0\n",
       "multiple_deliveries      993\n",
       "festival                 228\n",
       "city_type               1198\n",
       "time_taken                 0\n",
       "city_name                  0\n",
       "order_day                  0\n",
       "order_month                0\n",
       "order_day_of_week          0\n",
       "is_weekend                 0\n",
       "pickup_time_minutes     1640\n",
       "order_time_hour         1640\n",
       "order_time_of_day       2070\n",
       "distance                3630\n",
       "distance_type           3630\n",
       "dtype: int64"
      ]
     },
     "execution_count": 5,
     "metadata": {},
     "output_type": "execute_result"
    }
   ],
   "source": [
    "df.isna().sum()"
   ]
  },
  {
   "cell_type": "code",
   "execution_count": 6,
   "id": "4c3f72eb",
   "metadata": {},
   "outputs": [
    {
     "data": {
      "text/plain": [
       "np.int64(0)"
      ]
     },
     "execution_count": 6,
     "metadata": {},
     "output_type": "execute_result"
    }
   ],
   "source": [
    "df.duplicated().sum()"
   ]
  },
  {
   "cell_type": "code",
   "execution_count": 7,
   "id": "69d148c3",
   "metadata": {},
   "outputs": [
    {
     "name": "stdout",
     "output_type": "stream",
     "text": [
      "<class 'pandas.core.frame.DataFrame'>\n",
      "RangeIndex: 45502 entries, 0 to 45501\n",
      "Data columns (total 27 columns):\n",
      " #   Column                Non-Null Count  Dtype  \n",
      "---  ------                --------------  -----  \n",
      " 0   rider_id              45502 non-null  object \n",
      " 1   age                   43648 non-null  float64\n",
      " 2   ratings               43594 non-null  float64\n",
      " 3   restaurant_latitude   41872 non-null  float64\n",
      " 4   restaurant_longitude  41872 non-null  float64\n",
      " 5   delivery_latitude     41872 non-null  float64\n",
      " 6   delivery_longitude    41872 non-null  float64\n",
      " 7   order_date            45502 non-null  object \n",
      " 8   weather               44977 non-null  object \n",
      " 9   traffic               44992 non-null  object \n",
      " 10  vehicle_condition     45502 non-null  int64  \n",
      " 11  type_of_order         45502 non-null  object \n",
      " 12  type_of_vehicle       45502 non-null  object \n",
      " 13  multiple_deliveries   44509 non-null  float64\n",
      " 14  festival              45274 non-null  object \n",
      " 15  city_type             44304 non-null  object \n",
      " 16  time_taken            45502 non-null  int64  \n",
      " 17  city_name             45502 non-null  object \n",
      " 18  order_day             45502 non-null  int64  \n",
      " 19  order_month           45502 non-null  int64  \n",
      " 20  order_day_of_week     45502 non-null  object \n",
      " 21  is_weekend            45502 non-null  int64  \n",
      " 22  pickup_time_minutes   43862 non-null  float64\n",
      " 23  order_time_hour       43862 non-null  float64\n",
      " 24  order_time_of_day     43432 non-null  object \n",
      " 25  distance              41872 non-null  float64\n",
      " 26  distance_type         41872 non-null  object \n",
      "dtypes: float64(10), int64(5), object(12)\n",
      "memory usage: 9.4+ MB\n"
     ]
    }
   ],
   "source": [
    "df.info()"
   ]
  },
  {
   "cell_type": "code",
   "execution_count": 8,
   "id": "bfcc8368",
   "metadata": {},
   "outputs": [
    {
     "data": {
      "text/plain": [
       "Index(['rider_id', 'age', 'ratings', 'restaurant_latitude',\n",
       "       'restaurant_longitude', 'delivery_latitude', 'delivery_longitude',\n",
       "       'order_date', 'weather', 'traffic', 'vehicle_condition',\n",
       "       'type_of_order', 'type_of_vehicle', 'multiple_deliveries', 'festival',\n",
       "       'city_type', 'time_taken', 'city_name', 'order_day', 'order_month',\n",
       "       'order_day_of_week', 'is_weekend', 'pickup_time_minutes',\n",
       "       'order_time_hour', 'order_time_of_day', 'distance', 'distance_type'],\n",
       "      dtype='object')"
      ]
     },
     "execution_count": 8,
     "metadata": {},
     "output_type": "execute_result"
    }
   ],
   "source": [
    "df.columns"
   ]
  },
  {
   "cell_type": "code",
   "execution_count": 9,
   "id": "d9edb658",
   "metadata": {},
   "outputs": [],
   "source": [
    "columns_to_drop = ['rider_id', 'restaurant_latitude', 'restaurant_longitude',\n",
    "       'delivery_latitude','delivery_longitude', 'city_name','order_day',\n",
    "       'order_month', 'order_day_of_week', 'order_time_hour', 'order_date'\n",
    "]\n",
    "\n",
    "df.drop(columns=columns_to_drop, inplace = True)"
   ]
  },
  {
   "cell_type": "code",
   "execution_count": 10,
   "id": "bb9ddcf2",
   "metadata": {},
   "outputs": [
    {
     "data": {
      "text/plain": [
       "Index(['age', 'ratings', 'weather', 'traffic', 'vehicle_condition',\n",
       "       'type_of_order', 'type_of_vehicle', 'multiple_deliveries', 'festival',\n",
       "       'city_type', 'time_taken', 'is_weekend', 'pickup_time_minutes',\n",
       "       'order_time_of_day', 'distance', 'distance_type'],\n",
       "      dtype='object')"
      ]
     },
     "execution_count": 10,
     "metadata": {},
     "output_type": "execute_result"
    }
   ],
   "source": [
    "df.columns"
   ]
  },
  {
   "cell_type": "code",
   "execution_count": 11,
   "id": "2b337a96",
   "metadata": {},
   "outputs": [
    {
     "data": {
      "text/plain": [
       "Index(['age', 'ratings', 'weather', 'traffic', 'multiple_deliveries',\n",
       "       'festival', 'city_type', 'pickup_time_minutes', 'order_time_of_day',\n",
       "       'distance', 'distance_type'],\n",
       "      dtype='object')"
      ]
     },
     "execution_count": 11,
     "metadata": {},
     "output_type": "execute_result"
    }
   ],
   "source": [
    "missing_cols = (df\n",
    "                .isna()\n",
    "                .any(axis = 0)\n",
    "                .loc[lambda x : x]\n",
    "                .index\n",
    "                )\n",
    "\n",
    "missing_cols"
   ]
  },
  {
   "cell_type": "code",
   "execution_count": 12,
   "id": "ec676053",
   "metadata": {},
   "outputs": [],
   "source": [
    "temp_df = df.copy().dropna()"
   ]
  },
  {
   "cell_type": "code",
   "execution_count": 13,
   "id": "71616f7f",
   "metadata": {},
   "outputs": [
    {
     "data": {
      "text/plain": [
       "age                    0\n",
       "ratings                0\n",
       "weather                0\n",
       "traffic                0\n",
       "vehicle_condition      0\n",
       "type_of_order          0\n",
       "type_of_vehicle        0\n",
       "multiple_deliveries    0\n",
       "festival               0\n",
       "city_type              0\n",
       "time_taken             0\n",
       "is_weekend             0\n",
       "pickup_time_minutes    0\n",
       "order_time_of_day      0\n",
       "distance               0\n",
       "distance_type          0\n",
       "dtype: int64"
      ]
     },
     "execution_count": 13,
     "metadata": {},
     "output_type": "execute_result"
    }
   ],
   "source": [
    "temp_df.isna().sum()"
   ]
  },
  {
   "cell_type": "code",
   "execution_count": 14,
   "id": "e359d697",
   "metadata": {},
   "outputs": [
    {
     "data": {
      "text/plain": [
       "(37695, 16)"
      ]
     },
     "execution_count": 14,
     "metadata": {},
     "output_type": "execute_result"
    }
   ],
   "source": [
    "temp_df.shape"
   ]
  },
  {
   "cell_type": "code",
   "execution_count": 15,
   "id": "a48bda04",
   "metadata": {},
   "outputs": [],
   "source": [
    "X = temp_df.drop(columns= 'time_taken')\n",
    "y = temp_df['time_taken']"
   ]
  },
  {
   "cell_type": "code",
   "execution_count": 16,
   "id": "f86a638d",
   "metadata": {},
   "outputs": [],
   "source": [
    "X_train, X_test, y_train, y_test = train_test_split(X, y, test_size=0.2, random_state=42)"
   ]
  },
  {
   "cell_type": "code",
   "execution_count": 17,
   "id": "2e217e23",
   "metadata": {},
   "outputs": [],
   "source": [
    "from sklearn import set_config\n",
    "set_config(transform_output=\"pandas\")"
   ]
  },
  {
   "cell_type": "code",
   "execution_count": 18,
   "id": "94efb667",
   "metadata": {},
   "outputs": [],
   "source": [
    "pt = PowerTransformer()\n",
    "\n",
    "y_train_pt = pt.fit_transform(y_train.values.reshape(-1 , 1))\n",
    "y_test_pt = pt.transform(y_test.values.reshape(-1 , 1))"
   ]
  },
  {
   "cell_type": "code",
   "execution_count": 19,
   "id": "12185860",
   "metadata": {},
   "outputs": [
    {
     "data": {
      "text/plain": [
       "((30156, 15), (30156, 1))"
      ]
     },
     "execution_count": 19,
     "metadata": {},
     "output_type": "execute_result"
    }
   ],
   "source": [
    "X_train.shape , y_train_pt.shape"
   ]
  },
  {
   "cell_type": "code",
   "execution_count": 20,
   "id": "78ad197c",
   "metadata": {},
   "outputs": [
    {
     "data": {
      "text/plain": [
       "((7539, 15), (7539, 1))"
      ]
     },
     "execution_count": 20,
     "metadata": {},
     "output_type": "execute_result"
    }
   ],
   "source": [
    "X_test.shape , y_test_pt.shape"
   ]
  },
  {
   "cell_type": "code",
   "execution_count": 21,
   "id": "2a5f398c",
   "metadata": {},
   "outputs": [
    {
     "data": {
      "text/plain": [
       "15"
      ]
     },
     "execution_count": 21,
     "metadata": {},
     "output_type": "execute_result"
    }
   ],
   "source": [
    "len(X_train.columns)\n"
   ]
  },
  {
   "cell_type": "code",
   "execution_count": 22,
   "id": "ef9fe3ff",
   "metadata": {},
   "outputs": [],
   "source": [
    "num_cols = ['age', 'ratings', 'distance', 'pickup_time_minutes']\n",
    "\n",
    "nominal_cat_cols = ['weather','type_of_order','type_of_vehicle','city_type','is_weekend','order_time_of_day', 'festival']\n",
    "\n",
    "ordinal_cat_cols = ['traffic', 'distance_type']"
   ]
  },
  {
   "cell_type": "code",
   "execution_count": 23,
   "id": "567c30c8",
   "metadata": {},
   "outputs": [
    {
     "data": {
      "text/plain": [
       "13"
      ]
     },
     "execution_count": 23,
     "metadata": {},
     "output_type": "execute_result"
    }
   ],
   "source": [
    "len(num_cols + nominal_cat_cols + ordinal_cat_cols)"
   ]
  },
  {
   "cell_type": "code",
   "execution_count": 24,
   "id": "e61afff0",
   "metadata": {},
   "outputs": [
    {
     "name": "stdout",
     "output_type": "stream",
     "text": [
      "traffic ['jam' 'medium' 'high' 'low']\n",
      "distance_type ['medium' 'short' 'long' 'very_long']\n"
     ]
    }
   ],
   "source": [
    "for col in ordinal_cat_cols:\n",
    "    print(col , X_train[col].unique())"
   ]
  },
  {
   "cell_type": "code",
   "execution_count": 25,
   "id": "2e7b4db7",
   "metadata": {},
   "outputs": [],
   "source": [
    "traffic_order = ['low', 'medium' , 'high', 'jam']\n",
    "\n",
    "distance_type_order = ['short', 'medium' , 'long' , 'very_long']"
   ]
  },
  {
   "cell_type": "code",
   "execution_count": 26,
   "id": "c8b10bab",
   "metadata": {},
   "outputs": [],
   "source": [
    "preprocessor = ColumnTransformer(\n",
    "    [\n",
    "        ('scaling', MinMaxScaler() , num_cols),\n",
    "        ('ordinal_encoding',OrdinalEncoder(\n",
    "            categories=[traffic_order,distance_type_order],\n",
    "            handle_unknown= \"use_encoded_value\",\n",
    "            unknown_value=-1, \n",
    "            encoded_missing_value=-999\n",
    "        ), ordinal_cat_cols),\n",
    "        ('nominal_encoding',OneHotEncoder(\n",
    "            handle_unknown=\"ignore\",\n",
    "            sparse_output=False\n",
    "            ), nominal_cat_cols)\n",
    "    ], remainder= 'passthrough',verbose_feature_names_out=False,force_int_remainder_cols = False\n",
    ")"
   ]
  },
  {
   "cell_type": "code",
   "execution_count": 27,
   "id": "0c377bd6",
   "metadata": {},
   "outputs": [],
   "source": [
    "X_train_processed = preprocessor.fit_transform(X_train)\n",
    "X_test_processed = preprocessor.transform(X_test)"
   ]
  },
  {
   "cell_type": "code",
   "execution_count": 28,
   "id": "85a77426",
   "metadata": {},
   "outputs": [
    {
     "data": {
      "text/plain": [
       "((30156, 32), (7539, 32))"
      ]
     },
     "execution_count": 28,
     "metadata": {},
     "output_type": "execute_result"
    }
   ],
   "source": [
    "X_train_processed.shape , X_test_processed.shape"
   ]
  },
  {
   "cell_type": "code",
   "execution_count": 29,
   "id": "12a1fd60",
   "metadata": {},
   "outputs": [],
   "source": [
    "best_lgbm_params = {'n_estimators':\n",
    "200,\n",
    "'max_depth':\n",
    "15,\n",
    "'learning_rate':\n",
    "0.025811265327068796,\n",
    "'num_leaves':\n",
    "84}\n",
    "\n",
    "best_rf_params = {'n_estimators':\n",
    "400,\n",
    "'max_depth':\n",
    "14,\n",
    "'min_samples_leaf':\n",
    "5, \n",
    "'max_features':\n",
    "0.7\n",
    "}\n"
   ]
  },
  {
   "cell_type": "code",
   "execution_count": 30,
   "id": "d9c3dc4c",
   "metadata": {},
   "outputs": [],
   "source": [
    "from lightgbm import LGBMRegressor\n",
    "from sklearn.ensemble import RandomForestRegressor"
   ]
  },
  {
   "cell_type": "code",
   "execution_count": 31,
   "id": "dcfe4e30",
   "metadata": {},
   "outputs": [],
   "source": [
    "best_lgbm = LGBMRegressor(**best_lgbm_params)\n",
    "\n",
    "best_rf = RandomForestRegressor(**best_rf_params)"
   ]
  },
  {
   "cell_type": "code",
   "execution_count": 32,
   "id": "50b8dbd5",
   "metadata": {},
   "outputs": [],
   "source": [
    "import optuna "
   ]
  },
  {
   "cell_type": "code",
   "execution_count": 33,
   "id": "76768bd4",
   "metadata": {},
   "outputs": [],
   "source": [
    "from sklearn.linear_model import LinearRegression\n",
    "from sklearn.tree import DecisionTreeRegressor\n",
    "from sklearn.neighbors import KNeighborsRegressor"
   ]
  },
  {
   "cell_type": "code",
   "execution_count": 34,
   "id": "0d4b6dc7",
   "metadata": {},
   "outputs": [],
   "source": [
    "from sklearn.metrics import r2_score, mean_absolute_error\n",
    "from sklearn.model_selection import cross_val_score\n",
    "from sklearn.compose import TransformedTargetRegressor\n",
    "from sklearn.ensemble import StackingRegressor"
   ]
  },
  {
   "cell_type": "code",
   "execution_count": 35,
   "id": "c9e9d58b",
   "metadata": {},
   "outputs": [
    {
     "data": {
      "text/html": [
       "<pre style=\"white-space:pre;overflow-x:auto;line-height:normal;font-family:Menlo,'DejaVu Sans Mono',consolas,'Courier New',monospace\">Accessing as vinayak910\n",
       "</pre>\n"
      ],
      "text/plain": [
       "Accessing as vinayak910\n"
      ]
     },
     "metadata": {},
     "output_type": "display_data"
    },
    {
     "data": {
      "text/html": [
       "<pre style=\"white-space:pre;overflow-x:auto;line-height:normal;font-family:Menlo,'DejaVu Sans Mono',consolas,'Courier New',monospace\">Initialized MLflow to track repo <span style=\"color: #008000; text-decoration-color: #008000\">\"vinayak910/swiggy-delivery-time-prediction\"</span>\n",
       "</pre>\n"
      ],
      "text/plain": [
       "Initialized MLflow to track repo \u001b[32m\"vinayak910/swiggy-delivery-time-prediction\"\u001b[0m\n"
      ]
     },
     "metadata": {},
     "output_type": "display_data"
    },
    {
     "data": {
      "text/html": [
       "<pre style=\"white-space:pre;overflow-x:auto;line-height:normal;font-family:Menlo,'DejaVu Sans Mono',consolas,'Courier New',monospace\">Repository vinayak910/swiggy-delivery-time-prediction initialized!\n",
       "</pre>\n"
      ],
      "text/plain": [
       "Repository vinayak910/swiggy-delivery-time-prediction initialized!\n"
      ]
     },
     "metadata": {},
     "output_type": "display_data"
    }
   ],
   "source": [
    "import dagshub\n",
    "dagshub.init(repo_owner='vinayak910', repo_name='swiggy-delivery-time-prediction', mlflow=True)"
   ]
  },
  {
   "cell_type": "code",
   "execution_count": 36,
   "id": "d024a436",
   "metadata": {},
   "outputs": [
    {
     "data": {
      "text/plain": [
       "<Experiment: artifact_location='mlflow-artifacts:/0ad1d7785d094282862a06a1ac89e914', creation_time=1752556108852, experiment_id='9', last_update_time=1752556108852, lifecycle_stage='active', name='Stacking Regressor Tuning', tags={}>"
      ]
     },
     "execution_count": 36,
     "metadata": {},
     "output_type": "execute_result"
    }
   ],
   "source": [
    "mlflow.set_tracking_uri(\"https://dagshub.com/vinayak910/swiggy-delivery-time-prediction.mlflow\")\n",
    "mlflow.set_experiment(\"Stacking Regressor Tuning\")"
   ]
  },
  {
   "cell_type": "code",
   "execution_count": 37,
   "id": "2c2ba14f",
   "metadata": {},
   "outputs": [],
   "source": [
    "from sklearn.model_selection import train_test_split\n",
    "from sklearn.metrics import mean_absolute_error, r2_score\n",
    "import mlflow\n",
    "\n",
    "# First, split training set into sub-train and validation\n",
    "X_train_sub, X_val, y_train_sub, y_val = train_test_split(\n",
    "    X_train_processed, y_train, test_size=0.2, random_state=42\n",
    ")\n",
    "\n",
    "def objective(trial):\n",
    "    with mlflow.start_run(nested=True):\n",
    "        meta_model_name = trial.suggest_categorical(\"model\", ['LR', 'KNN', 'DT'])\n",
    "\n",
    "        if meta_model_name == 'LR':\n",
    "            meta = LinearRegression()\n",
    "\n",
    "        elif meta_model_name == 'KNN':\n",
    "            n_neighbors = trial.suggest_int(\"n_neighbors\", 1, 15)\n",
    "            weights = trial.suggest_categorical(\"weights\", ['uniform', 'distance'])            \n",
    "            meta = KNeighborsRegressor(\n",
    "                n_neighbors=n_neighbors,\n",
    "                weights=weights,\n",
    "                n_jobs=-1\n",
    "            )\n",
    "\n",
    "        elif meta_model_name == 'DT':\n",
    "            max_depth_dt = trial.suggest_int(\"max_depth_dt\", 1, 10)\n",
    "            min_samples_split_dt = trial.suggest_int(\"min_samples_split_dt\", 2, 10)\n",
    "            min_samples_leaf_dt = trial.suggest_int(\"min_samples_leaf_dt\", 1, 10)\n",
    "            meta = DecisionTreeRegressor(\n",
    "                max_depth=max_depth_dt,\n",
    "                min_samples_split=min_samples_split_dt,\n",
    "                min_samples_leaf=min_samples_leaf_dt,\n",
    "                random_state=42\n",
    "            )\n",
    "\n",
    "        mlflow.log_param(\"meta_model\", meta_model_name)\n",
    "\n",
    "        stacking_reg = StackingRegressor(\n",
    "            estimators=[\n",
    "                ('rf', best_rf),\n",
    "                ('lgbm', best_lgbm)\n",
    "            ],\n",
    "            final_estimator=meta,\n",
    "            cv=5,\n",
    "            n_jobs=-1\n",
    "        )\n",
    "\n",
    "        model = TransformedTargetRegressor(\n",
    "            regressor=stacking_reg,\n",
    "            transformer=pt\n",
    "        )\n",
    "\n",
    "        # Fit on sub-train\n",
    "        model.fit(X_train_sub, y_train_sub)\n",
    "\n",
    "        # Predict on train, val and test\n",
    "        y_pred_train = model.predict(X_train_sub)\n",
    "        y_pred_val = model.predict(X_val)\n",
    "        y_pred_test = model.predict(X_test_processed)\n",
    "\n",
    "        # Calculate all metrics\n",
    "        train_mae = mean_absolute_error(y_train_sub, y_pred_train)\n",
    "        val_mae = mean_absolute_error(y_val, y_pred_val)\n",
    "        test_mae = mean_absolute_error(y_test, y_pred_test)\n",
    "\n",
    "        train_r2 = r2_score(y_train_sub, y_pred_train)\n",
    "        test_r2 = r2_score(y_test, y_pred_test)\n",
    "\n",
    "        # Log everything\n",
    "        mlflow.log_metric(\"train_mae\", train_mae)\n",
    "        mlflow.log_metric(\"val_mae\", val_mae)\n",
    "        mlflow.log_metric(\"test_mae\", test_mae)\n",
    "        mlflow.log_metric(\"train_r2\", train_r2)\n",
    "        mlflow.log_metric(\"test_r2\", test_r2)\n",
    "\n",
    "        # This is what Optuna will minimize\n",
    "        return val_mae\n"
   ]
  },
  {
   "cell_type": "code",
   "execution_count": 38,
   "id": "7115fc66",
   "metadata": {},
   "outputs": [
    {
     "name": "stderr",
     "output_type": "stream",
     "text": [
      "[I 2025-07-15 11:01:35,601] A new study created in memory with name: no-name-09ef26c6-afd0-45c6-a673-3213efa119d8\n"
     ]
    },
    {
     "data": {
      "application/vnd.jupyter.widget-view+json": {
       "model_id": "93ebc1069bb3477180bad002d1e57eb4",
       "version_major": 2,
       "version_minor": 0
      },
      "text/plain": [
       "  0%|          | 0/20 [00:00<?, ?it/s]"
      ]
     },
     "metadata": {},
     "output_type": "display_data"
    },
    {
     "name": "stdout",
     "output_type": "stream",
     "text": [
      "🏃 View run legendary-loon-452 at: https://dagshub.com/vinayak910/swiggy-delivery-time-prediction.mlflow/#/experiments/9/runs/539b1cc8066d410e84c34fbfdf75044c\n",
      "🧪 View experiment at: https://dagshub.com/vinayak910/swiggy-delivery-time-prediction.mlflow/#/experiments/9\n",
      "[I 2025-07-15 11:10:51,169] Trial 1 finished with value: 3.1106149164582533 and parameters: {'model': 'KNN', 'n_neighbors': 8, 'weights': 'uniform'}. Best is trial 1 with value: 3.1106149164582533.\n",
      "🏃 View run intrigued-gnat-675 at: https://dagshub.com/vinayak910/swiggy-delivery-time-prediction.mlflow/#/experiments/9/runs/d8a4d0bc4cd541cb966339c8e7744229\n",
      "🧪 View experiment at: https://dagshub.com/vinayak910/swiggy-delivery-time-prediction.mlflow/#/experiments/9\n",
      "[I 2025-07-15 11:11:05,891] Trial 7 finished with value: 3.119860589339954 and parameters: {'model': 'KNN', 'n_neighbors': 9, 'weights': 'uniform'}. Best is trial 1 with value: 3.1106149164582533.\n",
      "🏃 View run nervous-deer-575 at: https://dagshub.com/vinayak910/swiggy-delivery-time-prediction.mlflow/#/experiments/9/runs/b4fd79d0b8914431a4e67645693217fb\n",
      "🧪 View experiment at: https://dagshub.com/vinayak910/swiggy-delivery-time-prediction.mlflow/#/experiments/9\n",
      "[I 2025-07-15 11:11:18,292] Trial 3 finished with value: 3.100325033539875 and parameters: {'model': 'KNN', 'n_neighbors': 15, 'weights': 'distance'}. Best is trial 3 with value: 3.100325033539875.\n",
      "🏃 View run redolent-koi-970 at: https://dagshub.com/vinayak910/swiggy-delivery-time-prediction.mlflow/#/experiments/9/runs/cd67f1a1bd2543d6bf32808b9929de50\n",
      "🧪 View experiment at: https://dagshub.com/vinayak910/swiggy-delivery-time-prediction.mlflow/#/experiments/9\n",
      "[I 2025-07-15 11:11:30,356] Trial 6 finished with value: 3.00272693061474 and parameters: {'model': 'LR'}. Best is trial 6 with value: 3.00272693061474.\n",
      "🏃 View run skillful-cow-742 at: https://dagshub.com/vinayak910/swiggy-delivery-time-prediction.mlflow/#/experiments/9/runs/4748107891e0487daf06cc998cddf7d1\n",
      "🧪 View experiment at: https://dagshub.com/vinayak910/swiggy-delivery-time-prediction.mlflow/#/experiments/9\n",
      "[I 2025-07-15 11:11:38,220] Trial 0 finished with value: 3.0029602772512063 and parameters: {'model': 'LR'}. Best is trial 6 with value: 3.00272693061474.\n",
      "🏃 View run entertaining-bee-542 at: https://dagshub.com/vinayak910/swiggy-delivery-time-prediction.mlflow/#/experiments/9/runs/04d5c8946f7441dcbdeff1979ae6b640\n",
      "🧪 View experiment at: https://dagshub.com/vinayak910/swiggy-delivery-time-prediction.mlflow/#/experiments/9\n",
      "[I 2025-07-15 11:11:47,341] Trial 5 finished with value: 3.169948218417447 and parameters: {'model': 'DT', 'max_depth_dt': 3, 'min_samples_split_dt': 8, 'min_samples_leaf_dt': 6}. Best is trial 6 with value: 3.00272693061474.\n",
      "🏃 View run serious-toad-496 at: https://dagshub.com/vinayak910/swiggy-delivery-time-prediction.mlflow/#/experiments/9/runs/cc1b8802cffa41d9ba41951edf3793d4\n",
      "🧪 View experiment at: https://dagshub.com/vinayak910/swiggy-delivery-time-prediction.mlflow/#/experiments/9\n",
      "[I 2025-07-15 11:12:01,114] Trial 2 finished with value: 3.1027179998731858 and parameters: {'model': 'KNN', 'n_neighbors': 11, 'weights': 'distance'}. Best is trial 6 with value: 3.00272693061474.\n",
      "🏃 View run resilient-ape-446 at: https://dagshub.com/vinayak910/swiggy-delivery-time-prediction.mlflow/#/experiments/9/runs/05c34c7535f149ff829a7712e0a9b5a1\n",
      "🧪 View experiment at: https://dagshub.com/vinayak910/swiggy-delivery-time-prediction.mlflow/#/experiments/9\n",
      "[I 2025-07-15 11:12:45,983] Trial 4 finished with value: 3.560103588122069 and parameters: {'model': 'DT', 'max_depth_dt': 2, 'min_samples_split_dt': 10, 'min_samples_leaf_dt': 1}. Best is trial 6 with value: 3.00272693061474.\n",
      "🏃 View run sincere-mink-145 at: https://dagshub.com/vinayak910/swiggy-delivery-time-prediction.mlflow/#/experiments/9/runs/27cd32c72aba432d984932a606d576bc\n",
      "🧪 View experiment at: https://dagshub.com/vinayak910/swiggy-delivery-time-prediction.mlflow/#/experiments/9\n",
      "[I 2025-07-15 11:19:39,879] Trial 8 finished with value: 3.003019796527282 and parameters: {'model': 'LR'}. Best is trial 6 with value: 3.00272693061474.\n",
      "🏃 View run rogue-roo-643 at: https://dagshub.com/vinayak910/swiggy-delivery-time-prediction.mlflow/#/experiments/9/runs/8b5ab1af89494211982b4047b5f4059c\n",
      "🧪 View experiment at: https://dagshub.com/vinayak910/swiggy-delivery-time-prediction.mlflow/#/experiments/9\n",
      "[I 2025-07-15 11:22:39,962] Trial 9 finished with value: 3.0110571462529694 and parameters: {'model': 'DT', 'max_depth_dt': 7, 'min_samples_split_dt': 4, 'min_samples_leaf_dt': 5}. Best is trial 6 with value: 3.00272693061474.\n",
      "🏃 View run dashing-fox-773 at: https://dagshub.com/vinayak910/swiggy-delivery-time-prediction.mlflow/#/experiments/9/runs/9c22da8e58104365aaf275870bbd50ba\n",
      "🧪 View experiment at: https://dagshub.com/vinayak910/swiggy-delivery-time-prediction.mlflow/#/experiments/9\n",
      "[I 2025-07-15 11:22:42,965] Trial 10 finished with value: 3.568318664754133 and parameters: {'model': 'DT', 'max_depth_dt': 2, 'min_samples_split_dt': 4, 'min_samples_leaf_dt': 5}. Best is trial 6 with value: 3.00272693061474.\n",
      "🏃 View run lyrical-foal-729 at: https://dagshub.com/vinayak910/swiggy-delivery-time-prediction.mlflow/#/experiments/9/runs/b11d03a58eb3407b9af4369b656733ed\n",
      "🧪 View experiment at: https://dagshub.com/vinayak910/swiggy-delivery-time-prediction.mlflow/#/experiments/9\n",
      "[I 2025-07-15 11:22:54,937] Trial 11 finished with value: 3.058815150639675 and parameters: {'model': 'DT', 'max_depth_dt': 9, 'min_samples_split_dt': 6, 'min_samples_leaf_dt': 1}. Best is trial 6 with value: 3.00272693061474.\n",
      "🏃 View run clean-bear-513 at: https://dagshub.com/vinayak910/swiggy-delivery-time-prediction.mlflow/#/experiments/9/runs/f73505015007465b9c41374dd239f6bf\n",
      "🧪 View experiment at: https://dagshub.com/vinayak910/swiggy-delivery-time-prediction.mlflow/#/experiments/9\n",
      "[I 2025-07-15 11:23:09,923] Trial 14 finished with value: 3.002232843172982 and parameters: {'model': 'LR'}. Best is trial 14 with value: 3.002232843172982.\n",
      "🏃 View run skillful-dog-300 at: https://dagshub.com/vinayak910/swiggy-delivery-time-prediction.mlflow/#/experiments/9/runs/32154de39b214c7da08ca5d46aecea51\n",
      "🧪 View experiment at: https://dagshub.com/vinayak910/swiggy-delivery-time-prediction.mlflow/#/experiments/9\n",
      "[I 2025-07-15 11:23:25,640] Trial 13 finished with value: 3.001319895523997 and parameters: {'model': 'DT', 'max_depth_dt': 6, 'min_samples_split_dt': 4, 'min_samples_leaf_dt': 5}. Best is trial 13 with value: 3.001319895523997.\n",
      "🏃 View run skittish-sponge-365 at: https://dagshub.com/vinayak910/swiggy-delivery-time-prediction.mlflow/#/experiments/9/runs/38a9b5872d9a43a28c90290c848dd950\n",
      "🧪 View experiment at: https://dagshub.com/vinayak910/swiggy-delivery-time-prediction.mlflow/#/experiments/9\n",
      "[I 2025-07-15 11:23:34,746] Trial 12 finished with value: 4.9607868269926545 and parameters: {'model': 'DT', 'max_depth_dt': 1, 'min_samples_split_dt': 8, 'min_samples_leaf_dt': 3}. Best is trial 13 with value: 3.001319895523997.\n",
      "🏃 View run zealous-wren-366 at: https://dagshub.com/vinayak910/swiggy-delivery-time-prediction.mlflow/#/experiments/9/runs/408e74a72289401489d40634a3690e4f\n",
      "🧪 View experiment at: https://dagshub.com/vinayak910/swiggy-delivery-time-prediction.mlflow/#/experiments/9\n",
      "[I 2025-07-15 11:24:05,769] Trial 15 finished with value: 4.003812997347481 and parameters: {'model': 'KNN', 'n_neighbors': 1, 'weights': 'uniform'}. Best is trial 13 with value: 3.001319895523997.\n",
      "🏃 View run exultant-stag-515 at: https://dagshub.com/vinayak910/swiggy-delivery-time-prediction.mlflow/#/experiments/9/runs/60fcec73b68446d08ea6c89350985efd\n",
      "🧪 View experiment at: https://dagshub.com/vinayak910/swiggy-delivery-time-prediction.mlflow/#/experiments/9\n",
      "[I 2025-07-15 11:28:48,546] Trial 16 finished with value: 3.261626279748788 and parameters: {'model': 'KNN', 'n_neighbors': 4, 'weights': 'uniform'}. Best is trial 13 with value: 3.001319895523997.\n",
      "🏃 View run enthused-rat-223 at: https://dagshub.com/vinayak910/swiggy-delivery-time-prediction.mlflow/#/experiments/9/runs/7b9353e68ff94962b37dc5c5922b8853\n",
      "🧪 View experiment at: https://dagshub.com/vinayak910/swiggy-delivery-time-prediction.mlflow/#/experiments/9\n",
      "[I 2025-07-15 11:29:13,014] Trial 17 finished with value: 3.00241292495799 and parameters: {'model': 'LR'}. Best is trial 13 with value: 3.001319895523997.\n",
      "🏃 View run fun-bat-432 at: https://dagshub.com/vinayak910/swiggy-delivery-time-prediction.mlflow/#/experiments/9/runs/bb32e19705c041a28bd54f0823f1d2d6\n",
      "🧪 View experiment at: https://dagshub.com/vinayak910/swiggy-delivery-time-prediction.mlflow/#/experiments/9\n",
      "[I 2025-07-15 11:29:30,562] Trial 18 finished with value: 3.002613404837847 and parameters: {'model': 'LR'}. Best is trial 13 with value: 3.001319895523997.\n",
      "🏃 View run valuable-deer-828 at: https://dagshub.com/vinayak910/swiggy-delivery-time-prediction.mlflow/#/experiments/9/runs/f54ef3e4fba742cea3a6e9528a00c9f7\n",
      "🧪 View experiment at: https://dagshub.com/vinayak910/swiggy-delivery-time-prediction.mlflow/#/experiments/9\n",
      "[I 2025-07-15 11:29:44,964] Trial 19 finished with value: 3.0027332813357184 and parameters: {'model': 'LR'}. Best is trial 13 with value: 3.001319895523997.\n",
      "🏃 View run best_model at: https://dagshub.com/vinayak910/swiggy-delivery-time-prediction.mlflow/#/experiments/9/runs/ac9c1a02eab9466cbc3aefb475524cd8\n",
      "🧪 View experiment at: https://dagshub.com/vinayak910/swiggy-delivery-time-prediction.mlflow/#/experiments/9\n"
     ]
    }
   ],
   "source": [
    "study = optuna.create_study(direction=\"minimize\")\n",
    "\n",
    "with mlflow.start_run(run_name=\"best_model\"):\n",
    "    # optimize the objective function\n",
    "    study.optimize(objective,n_trials=20,n_jobs=-1,show_progress_bar=True)\n",
    "\n",
    "    # log the best parameters\n",
    "    mlflow.log_params(study.best_params)\n",
    "\n",
    "    # log the best score\n",
    "    mlflow.log_metric(\"best_score\",study.best_value)"
   ]
  },
  {
   "cell_type": "code",
   "execution_count": 39,
   "id": "0d4f821b",
   "metadata": {},
   "outputs": [
    {
     "data": {
      "text/plain": [
       "{'model': 'DT',\n",
       " 'max_depth_dt': 6,\n",
       " 'min_samples_split_dt': 4,\n",
       " 'min_samples_leaf_dt': 5}"
      ]
     },
     "execution_count": 39,
     "metadata": {},
     "output_type": "execute_result"
    }
   ],
   "source": [
    "# best parameter value\n",
    "\n",
    "best_params = study.best_params\n",
    "\n",
    "best_params"
   ]
  },
  {
   "cell_type": "code",
   "execution_count": 46,
   "id": "b314f692",
   "metadata": {},
   "outputs": [
    {
     "data": {
      "text/html": [
       "<div>\n",
       "<style scoped>\n",
       "    .dataframe tbody tr th:only-of-type {\n",
       "        vertical-align: middle;\n",
       "    }\n",
       "\n",
       "    .dataframe tbody tr th {\n",
       "        vertical-align: top;\n",
       "    }\n",
       "\n",
       "    .dataframe thead th {\n",
       "        text-align: right;\n",
       "    }\n",
       "</style>\n",
       "<table border=\"1\" class=\"dataframe\">\n",
       "  <thead>\n",
       "    <tr style=\"text-align: right;\">\n",
       "      <th></th>\n",
       "      <th>value</th>\n",
       "      <th>params_model</th>\n",
       "    </tr>\n",
       "  </thead>\n",
       "  <tbody>\n",
       "    <tr>\n",
       "      <th>13</th>\n",
       "      <td>3.001320</td>\n",
       "      <td>DT</td>\n",
       "    </tr>\n",
       "    <tr>\n",
       "      <th>14</th>\n",
       "      <td>3.002233</td>\n",
       "      <td>LR</td>\n",
       "    </tr>\n",
       "    <tr>\n",
       "      <th>17</th>\n",
       "      <td>3.002413</td>\n",
       "      <td>LR</td>\n",
       "    </tr>\n",
       "    <tr>\n",
       "      <th>18</th>\n",
       "      <td>3.002613</td>\n",
       "      <td>LR</td>\n",
       "    </tr>\n",
       "    <tr>\n",
       "      <th>6</th>\n",
       "      <td>3.002727</td>\n",
       "      <td>LR</td>\n",
       "    </tr>\n",
       "  </tbody>\n",
       "</table>\n",
       "</div>"
      ],
      "text/plain": [
       "       value params_model\n",
       "13  3.001320           DT\n",
       "14  3.002233           LR\n",
       "17  3.002413           LR\n",
       "18  3.002613           LR\n",
       "6   3.002727           LR"
      ]
     },
     "execution_count": 46,
     "metadata": {},
     "output_type": "execute_result"
    }
   ],
   "source": [
    "study.trials_dataframe().sort_values(by = 'value').head()[['value', 'params_model']]"
   ]
  },
  {
   "cell_type": "code",
   "execution_count": null,
   "id": "4096ac1d",
   "metadata": {},
   "outputs": [],
   "source": []
  },
  {
   "cell_type": "code",
   "execution_count": 40,
   "id": "7e74aebe",
   "metadata": {},
   "outputs": [
    {
     "data": {
      "text/plain": [
       "params_model\n",
       "LR     7\n",
       "DT     7\n",
       "KNN    6\n",
       "Name: count, dtype: int64"
      ]
     },
     "execution_count": 40,
     "metadata": {},
     "output_type": "execute_result"
    }
   ],
   "source": [
    "study.trials_dataframe()[\"params_model\"].value_counts()"
   ]
  },
  {
   "cell_type": "code",
   "execution_count": 41,
   "id": "9c9f0052",
   "metadata": {},
   "outputs": [
    {
     "data": {
      "text/plain": [
       "params_model\n",
       "LR     3.002671\n",
       "KNN    3.283160\n",
       "DT     3.475764\n",
       "Name: value, dtype: float64"
      ]
     },
     "execution_count": 41,
     "metadata": {},
     "output_type": "execute_result"
    }
   ],
   "source": [
    "study.trials_dataframe().groupby(by=\"params_model\")['value'].mean().sort_values()\n"
   ]
  },
  {
   "cell_type": "code",
   "execution_count": 52,
   "id": "e2934bdc",
   "metadata": {},
   "outputs": [],
   "source": [
    "df = study.trials_dataframe()\n",
    "\n",
    "lr_trials = df[df['params_model'] == 'LR']\n",
    "\n",
    "best_lr_trial = lr_trials.loc[lr_trials['value'].idxmin()]"
   ]
  },
  {
   "cell_type": "code",
   "execution_count": 54,
   "id": "efed060a",
   "metadata": {},
   "outputs": [
    {
     "data": {
      "text/plain": [
       "number                                                 14\n",
       "value                                            3.002233\n",
       "datetime_start                 2025-07-15 11:12:01.124491\n",
       "datetime_complete              2025-07-15 11:23:09.923285\n",
       "duration                           0 days 00:11:08.798794\n",
       "params_max_depth_dt                                   NaN\n",
       "params_min_samples_leaf_dt                            NaN\n",
       "params_min_samples_split_dt                           NaN\n",
       "params_model                                           LR\n",
       "params_n_neighbors                                    NaN\n",
       "params_weights                                        NaN\n",
       "state                                            COMPLETE\n",
       "Name: 14, dtype: object"
      ]
     },
     "execution_count": 54,
     "metadata": {},
     "output_type": "execute_result"
    }
   ],
   "source": [
    "best_lr_trial "
   ]
  },
  {
   "cell_type": "code",
   "execution_count": 48,
   "id": "dcb4e1ee",
   "metadata": {},
   "outputs": [],
   "source": [
    "from sklearn.model_selection import cross_val_score, KFold"
   ]
  },
  {
   "cell_type": "code",
   "execution_count": 51,
   "id": "ac80a3b1",
   "metadata": {},
   "outputs": [
    {
     "name": "stderr",
     "output_type": "stream",
     "text": [
      "d:\\DSMP  cntd\\1. MLOPS\\3. MLOPs projects\\2. swiggy-delievery-time-prediction\\swiggy-delivery-time-prediction\\.venv\\Lib\\site-packages\\sklearn\\utils\\validation.py:2732: UserWarning: X has feature names, but PowerTransformer was fitted without feature names\n",
      "  warnings.warn(\n"
     ]
    },
    {
     "name": "stdout",
     "output_type": "stream",
     "text": [
      "[LightGBM] [Info] Auto-choosing row-wise multi-threading, the overhead of testing was 0.001663 seconds.\n",
      "You can set `force_row_wise=true` to remove the overhead.\n",
      "And if memory is not enough, you can set `force_col_wise=true`.\n",
      "[LightGBM] [Info] Total Bins 366\n",
      "[LightGBM] [Info] Number of data points in the train set: 24124, number of used features: 32\n",
      "[LightGBM] [Info] Start training from score 0.000000\n",
      "[LightGBM] [Info] Auto-choosing row-wise multi-threading, the overhead of testing was 0.001130 seconds.\n",
      "You can set `force_row_wise=true` to remove the overhead.\n",
      "And if memory is not enough, you can set `force_col_wise=true`.\n",
      "[LightGBM] [Info] Total Bins 366\n",
      "[LightGBM] [Info] Number of data points in the train set: 19299, number of used features: 32\n",
      "[LightGBM] [Info] Start training from score 0.002972\n",
      "[LightGBM] [Info] Auto-choosing row-wise multi-threading, the overhead of testing was 0.001010 seconds.\n",
      "You can set `force_row_wise=true` to remove the overhead.\n",
      "And if memory is not enough, you can set `force_col_wise=true`.\n",
      "[LightGBM] [Info] Total Bins 366\n",
      "[LightGBM] [Info] Number of data points in the train set: 19299, number of used features: 32\n",
      "[LightGBM] [Info] Start training from score 0.000366\n",
      "[LightGBM] [Info] Auto-choosing row-wise multi-threading, the overhead of testing was 0.001798 seconds.\n",
      "You can set `force_row_wise=true` to remove the overhead.\n",
      "And if memory is not enough, you can set `force_col_wise=true`.\n",
      "[LightGBM] [Info] Total Bins 366\n",
      "[LightGBM] [Info] Number of data points in the train set: 19299, number of used features: 32\n",
      "[LightGBM] [Info] Start training from score 0.000906\n",
      "[LightGBM] [Info] Auto-choosing row-wise multi-threading, the overhead of testing was 0.001030 seconds.\n",
      "You can set `force_row_wise=true` to remove the overhead.\n",
      "And if memory is not enough, you can set `force_col_wise=true`.\n",
      "[LightGBM] [Info] Total Bins 366\n",
      "[LightGBM] [Info] Number of data points in the train set: 19299, number of used features: 32\n",
      "[LightGBM] [Info] Start training from score -0.001997\n",
      "[LightGBM] [Info] Auto-choosing row-wise multi-threading, the overhead of testing was 0.001146 seconds.\n",
      "You can set `force_row_wise=true` to remove the overhead.\n",
      "And if memory is not enough, you can set `force_col_wise=true`.\n",
      "[LightGBM] [Info] Total Bins 366\n",
      "[LightGBM] [Info] Number of data points in the train set: 19300, number of used features: 32\n",
      "[LightGBM] [Info] Start training from score -0.002248\n"
     ]
    },
    {
     "name": "stderr",
     "output_type": "stream",
     "text": [
      "d:\\DSMP  cntd\\1. MLOPS\\3. MLOPs projects\\2. swiggy-delievery-time-prediction\\swiggy-delivery-time-prediction\\.venv\\Lib\\site-packages\\sklearn\\utils\\validation.py:2732: UserWarning: X has feature names, but LinearRegression was fitted without feature names\n",
      "  warnings.warn(\n",
      "d:\\DSMP  cntd\\1. MLOPS\\3. MLOPs projects\\2. swiggy-delievery-time-prediction\\swiggy-delivery-time-prediction\\.venv\\Lib\\site-packages\\sklearn\\utils\\validation.py:2732: UserWarning: X has feature names, but PowerTransformer was fitted without feature names\n",
      "  warnings.warn(\n"
     ]
    },
    {
     "name": "stdout",
     "output_type": "stream",
     "text": [
      "[LightGBM] [Info] Auto-choosing row-wise multi-threading, the overhead of testing was 0.001164 seconds.\n",
      "You can set `force_row_wise=true` to remove the overhead.\n",
      "And if memory is not enough, you can set `force_col_wise=true`.\n",
      "[LightGBM] [Info] Total Bins 366\n",
      "[LightGBM] [Info] Number of data points in the train set: 24125, number of used features: 32\n",
      "[LightGBM] [Info] Start training from score 0.000000\n",
      "[LightGBM] [Info] Auto-choosing row-wise multi-threading, the overhead of testing was 0.001120 seconds.\n",
      "You can set `force_row_wise=true` to remove the overhead.\n",
      "And if memory is not enough, you can set `force_col_wise=true`.\n",
      "[LightGBM] [Info] Total Bins 366\n",
      "[LightGBM] [Info] Number of data points in the train set: 19300, number of used features: 32\n",
      "[LightGBM] [Info] Start training from score 0.003526\n",
      "[LightGBM] [Info] Auto-choosing row-wise multi-threading, the overhead of testing was 0.001014 seconds.\n",
      "You can set `force_row_wise=true` to remove the overhead.\n",
      "And if memory is not enough, you can set `force_col_wise=true`.\n",
      "[LightGBM] [Info] Total Bins 366\n",
      "[LightGBM] [Info] Number of data points in the train set: 19300, number of used features: 32\n",
      "[LightGBM] [Info] Start training from score -0.002718\n",
      "[LightGBM] [Info] Auto-choosing row-wise multi-threading, the overhead of testing was 0.001211 seconds.\n",
      "You can set `force_row_wise=true` to remove the overhead.\n",
      "And if memory is not enough, you can set `force_col_wise=true`.\n",
      "[LightGBM] [Info] Total Bins 366\n",
      "[LightGBM] [Info] Number of data points in the train set: 19300, number of used features: 32\n",
      "[LightGBM] [Info] Start training from score -0.002537\n",
      "[LightGBM] [Info] Auto-choosing col-wise multi-threading, the overhead of testing was 0.002904 seconds.\n",
      "You can set `force_col_wise=true` to remove the overhead.\n",
      "[LightGBM] [Info] Total Bins 366\n",
      "[LightGBM] [Info] Number of data points in the train set: 19300, number of used features: 32\n",
      "[LightGBM] [Info] Start training from score 0.002676\n",
      "[LightGBM] [Info] Auto-choosing row-wise multi-threading, the overhead of testing was 0.001204 seconds.\n",
      "You can set `force_row_wise=true` to remove the overhead.\n",
      "And if memory is not enough, you can set `force_col_wise=true`.\n",
      "[LightGBM] [Info] Total Bins 366\n",
      "[LightGBM] [Info] Number of data points in the train set: 19300, number of used features: 32\n",
      "[LightGBM] [Info] Start training from score -0.000947\n"
     ]
    },
    {
     "name": "stderr",
     "output_type": "stream",
     "text": [
      "d:\\DSMP  cntd\\1. MLOPS\\3. MLOPs projects\\2. swiggy-delievery-time-prediction\\swiggy-delivery-time-prediction\\.venv\\Lib\\site-packages\\sklearn\\utils\\validation.py:2732: UserWarning: X has feature names, but LinearRegression was fitted without feature names\n",
      "  warnings.warn(\n",
      "d:\\DSMP  cntd\\1. MLOPS\\3. MLOPs projects\\2. swiggy-delievery-time-prediction\\swiggy-delivery-time-prediction\\.venv\\Lib\\site-packages\\sklearn\\utils\\validation.py:2732: UserWarning: X has feature names, but PowerTransformer was fitted without feature names\n",
      "  warnings.warn(\n"
     ]
    },
    {
     "name": "stdout",
     "output_type": "stream",
     "text": [
      "[LightGBM] [Info] Auto-choosing row-wise multi-threading, the overhead of testing was 0.001166 seconds.\n",
      "You can set `force_row_wise=true` to remove the overhead.\n",
      "And if memory is not enough, you can set `force_col_wise=true`.\n",
      "[LightGBM] [Info] Total Bins 366\n",
      "[LightGBM] [Info] Number of data points in the train set: 24125, number of used features: 32\n",
      "[LightGBM] [Info] Start training from score -0.000000\n",
      "[LightGBM] [Info] Auto-choosing row-wise multi-threading, the overhead of testing was 0.000836 seconds.\n",
      "You can set `force_row_wise=true` to remove the overhead.\n",
      "And if memory is not enough, you can set `force_col_wise=true`.\n",
      "[LightGBM] [Info] Total Bins 366\n",
      "[LightGBM] [Info] Number of data points in the train set: 19300, number of used features: 32\n",
      "[LightGBM] [Info] Start training from score -0.000451\n",
      "[LightGBM] [Info] Auto-choosing row-wise multi-threading, the overhead of testing was 0.001115 seconds.\n",
      "You can set `force_row_wise=true` to remove the overhead.\n",
      "And if memory is not enough, you can set `force_col_wise=true`.\n",
      "[LightGBM] [Info] Total Bins 366\n",
      "[LightGBM] [Info] Number of data points in the train set: 19300, number of used features: 32\n",
      "[LightGBM] [Info] Start training from score 0.000050\n",
      "[LightGBM] [Info] Auto-choosing row-wise multi-threading, the overhead of testing was 0.001200 seconds.\n",
      "You can set `force_row_wise=true` to remove the overhead.\n",
      "And if memory is not enough, you can set `force_col_wise=true`.\n",
      "[LightGBM] [Info] Total Bins 366\n",
      "[LightGBM] [Info] Number of data points in the train set: 19300, number of used features: 32\n",
      "[LightGBM] [Info] Start training from score -0.000126\n",
      "[LightGBM] [Info] Auto-choosing row-wise multi-threading, the overhead of testing was 0.001409 seconds.\n",
      "You can set `force_row_wise=true` to remove the overhead.\n",
      "And if memory is not enough, you can set `force_col_wise=true`.\n",
      "[LightGBM] [Info] Total Bins 366\n",
      "[LightGBM] [Info] Number of data points in the train set: 19300, number of used features: 32\n",
      "[LightGBM] [Info] Start training from score -0.001394\n",
      "[LightGBM] [Info] Auto-choosing row-wise multi-threading, the overhead of testing was 0.000924 seconds.\n",
      "You can set `force_row_wise=true` to remove the overhead.\n",
      "And if memory is not enough, you can set `force_col_wise=true`.\n",
      "[LightGBM] [Info] Total Bins 366\n",
      "[LightGBM] [Info] Number of data points in the train set: 19300, number of used features: 32\n",
      "[LightGBM] [Info] Start training from score 0.001920\n"
     ]
    },
    {
     "name": "stderr",
     "output_type": "stream",
     "text": [
      "d:\\DSMP  cntd\\1. MLOPS\\3. MLOPs projects\\2. swiggy-delievery-time-prediction\\swiggy-delivery-time-prediction\\.venv\\Lib\\site-packages\\sklearn\\utils\\validation.py:2732: UserWarning: X has feature names, but LinearRegression was fitted without feature names\n",
      "  warnings.warn(\n",
      "d:\\DSMP  cntd\\1. MLOPS\\3. MLOPs projects\\2. swiggy-delievery-time-prediction\\swiggy-delivery-time-prediction\\.venv\\Lib\\site-packages\\sklearn\\utils\\validation.py:2732: UserWarning: X has feature names, but PowerTransformer was fitted without feature names\n",
      "  warnings.warn(\n"
     ]
    },
    {
     "name": "stdout",
     "output_type": "stream",
     "text": [
      "[LightGBM] [Info] Auto-choosing row-wise multi-threading, the overhead of testing was 0.002572 seconds.\n",
      "You can set `force_row_wise=true` to remove the overhead.\n",
      "And if memory is not enough, you can set `force_col_wise=true`.\n",
      "[LightGBM] [Info] Total Bins 366\n",
      "[LightGBM] [Info] Number of data points in the train set: 24125, number of used features: 32\n",
      "[LightGBM] [Info] Start training from score 0.000000\n",
      "[LightGBM] [Info] Auto-choosing row-wise multi-threading, the overhead of testing was 0.002529 seconds.\n",
      "You can set `force_row_wise=true` to remove the overhead.\n",
      "And if memory is not enough, you can set `force_col_wise=true`.\n",
      "[LightGBM] [Info] Total Bins 366\n",
      "[LightGBM] [Info] Number of data points in the train set: 19300, number of used features: 32\n",
      "[LightGBM] [Info] Start training from score 0.001496\n",
      "[LightGBM] [Info] Auto-choosing row-wise multi-threading, the overhead of testing was 0.001790 seconds.\n",
      "You can set `force_row_wise=true` to remove the overhead.\n",
      "And if memory is not enough, you can set `force_col_wise=true`.\n",
      "[LightGBM] [Info] Total Bins 366\n",
      "[LightGBM] [Info] Number of data points in the train set: 19300, number of used features: 32\n",
      "[LightGBM] [Info] Start training from score 0.001077\n",
      "[LightGBM] [Info] Auto-choosing row-wise multi-threading, the overhead of testing was 0.002450 seconds.\n",
      "You can set `force_row_wise=true` to remove the overhead.\n",
      "And if memory is not enough, you can set `force_col_wise=true`.\n",
      "[LightGBM] [Info] Total Bins 366\n",
      "[LightGBM] [Info] Number of data points in the train set: 19300, number of used features: 32\n",
      "[LightGBM] [Info] Start training from score -0.001975\n",
      "[LightGBM] [Info] Auto-choosing row-wise multi-threading, the overhead of testing was 0.001438 seconds.\n",
      "You can set `force_row_wise=true` to remove the overhead.\n",
      "And if memory is not enough, you can set `force_col_wise=true`.\n",
      "[LightGBM] [Info] Total Bins 366\n",
      "[LightGBM] [Info] Number of data points in the train set: 19300, number of used features: 32\n",
      "[LightGBM] [Info] Start training from score -0.000166\n",
      "[LightGBM] [Info] Auto-choosing row-wise multi-threading, the overhead of testing was 0.003489 seconds.\n",
      "You can set `force_row_wise=true` to remove the overhead.\n",
      "And if memory is not enough, you can set `force_col_wise=true`.\n",
      "[LightGBM] [Info] Total Bins 366\n",
      "[LightGBM] [Info] Number of data points in the train set: 19300, number of used features: 32\n",
      "[LightGBM] [Info] Start training from score -0.000432\n"
     ]
    },
    {
     "name": "stderr",
     "output_type": "stream",
     "text": [
      "d:\\DSMP  cntd\\1. MLOPS\\3. MLOPs projects\\2. swiggy-delievery-time-prediction\\swiggy-delivery-time-prediction\\.venv\\Lib\\site-packages\\sklearn\\utils\\validation.py:2732: UserWarning: X has feature names, but LinearRegression was fitted without feature names\n",
      "  warnings.warn(\n",
      "d:\\DSMP  cntd\\1. MLOPS\\3. MLOPs projects\\2. swiggy-delievery-time-prediction\\swiggy-delivery-time-prediction\\.venv\\Lib\\site-packages\\sklearn\\utils\\validation.py:2732: UserWarning: X has feature names, but PowerTransformer was fitted without feature names\n",
      "  warnings.warn(\n"
     ]
    },
    {
     "name": "stdout",
     "output_type": "stream",
     "text": [
      "[LightGBM] [Info] Auto-choosing row-wise multi-threading, the overhead of testing was 0.001287 seconds.\n",
      "You can set `force_row_wise=true` to remove the overhead.\n",
      "And if memory is not enough, you can set `force_col_wise=true`.\n",
      "[LightGBM] [Info] Total Bins 366\n",
      "[LightGBM] [Info] Number of data points in the train set: 24125, number of used features: 32\n",
      "[LightGBM] [Info] Start training from score 0.000000\n",
      "[LightGBM] [Info] Auto-choosing row-wise multi-threading, the overhead of testing was 0.008317 seconds.\n",
      "You can set `force_row_wise=true` to remove the overhead.\n",
      "And if memory is not enough, you can set `force_col_wise=true`.\n",
      "[LightGBM] [Info] Total Bins 366\n",
      "[LightGBM] [Info] Number of data points in the train set: 19300, number of used features: 32\n",
      "[LightGBM] [Info] Start training from score 0.000937\n",
      "[LightGBM] [Info] Auto-choosing col-wise multi-threading, the overhead of testing was 0.004298 seconds.\n",
      "You can set `force_col_wise=true` to remove the overhead.\n",
      "[LightGBM] [Info] Total Bins 366\n",
      "[LightGBM] [Info] Number of data points in the train set: 19300, number of used features: 32\n",
      "[LightGBM] [Info] Start training from score 0.000778\n",
      "[LightGBM] [Info] Auto-choosing row-wise multi-threading, the overhead of testing was 0.001738 seconds.\n",
      "You can set `force_row_wise=true` to remove the overhead.\n",
      "And if memory is not enough, you can set `force_col_wise=true`.\n",
      "[LightGBM] [Info] Total Bins 366\n",
      "[LightGBM] [Info] Number of data points in the train set: 19300, number of used features: 32\n",
      "[LightGBM] [Info] Start training from score -0.000459\n",
      "[LightGBM] [Info] Auto-choosing row-wise multi-threading, the overhead of testing was 0.001853 seconds.\n",
      "You can set `force_row_wise=true` to remove the overhead.\n",
      "And if memory is not enough, you can set `force_col_wise=true`.\n",
      "[LightGBM] [Info] Total Bins 366\n",
      "[LightGBM] [Info] Number of data points in the train set: 19300, number of used features: 32\n",
      "[LightGBM] [Info] Start training from score 0.000208\n",
      "[LightGBM] [Info] Auto-choosing row-wise multi-threading, the overhead of testing was 0.003862 seconds.\n",
      "You can set `force_row_wise=true` to remove the overhead.\n",
      "And if memory is not enough, you can set `force_col_wise=true`.\n",
      "[LightGBM] [Info] Total Bins 366\n",
      "[LightGBM] [Info] Number of data points in the train set: 19300, number of used features: 32\n",
      "[LightGBM] [Info] Start training from score -0.001465\n",
      "Cross-validated MAE scores: [3.00262793 2.98737412 2.9984763  2.95399893 3.01111062]\n",
      "Average MAE: 2.99071758170837\n"
     ]
    },
    {
     "name": "stderr",
     "output_type": "stream",
     "text": [
      "d:\\DSMP  cntd\\1. MLOPS\\3. MLOPs projects\\2. swiggy-delievery-time-prediction\\swiggy-delivery-time-prediction\\.venv\\Lib\\site-packages\\sklearn\\utils\\validation.py:2732: UserWarning: X has feature names, but LinearRegression was fitted without feature names\n",
      "  warnings.warn(\n"
     ]
    }
   ],
   "source": [
    "\n",
    "\n",
    "estimators = [\n",
    "    ('rf', best_rf),\n",
    "    ('lgb', best_lgbm)\n",
    "]\n",
    "\n",
    "meta_model = LinearRegression()\n",
    "\n",
    "stack_model = StackingRegressor(\n",
    "    estimators=estimators,\n",
    "    final_estimator=meta_model,\n",
    "    passthrough=False,\n",
    "    cv=5\n",
    ")\n",
    "\n",
    "\n",
    "regressor = TransformedTargetRegressor(\n",
    "    regressor=stack_model,\n",
    "    transformer=pt\n",
    ")\n",
    "\n",
    "# ✅ K-Fold Cross Validation\n",
    "cv = KFold(n_splits=5, shuffle=True, random_state=42)\n",
    "\n",
    "# ✅ Perform cross_val_score (e.g., scoring='neg_mean_absolute_error')\n",
    "scores = cross_val_score(regressor, X_train_processed, y_train, cv=cv, scoring='neg_mean_absolute_error')\n",
    "\n",
    "# ✅ Results\n",
    "print(\"Cross-validated MAE scores:\", -scores)\n",
    "print(\"Average MAE:\", -scores.mean())\n"
   ]
  },
  {
   "cell_type": "code",
   "execution_count": 55,
   "id": "1f02c65d",
   "metadata": {},
   "outputs": [
    {
     "name": "stderr",
     "output_type": "stream",
     "text": [
      "d:\\DSMP  cntd\\1. MLOPS\\3. MLOPs projects\\2. swiggy-delievery-time-prediction\\swiggy-delivery-time-prediction\\.venv\\Lib\\site-packages\\sklearn\\utils\\validation.py:2732: UserWarning: X has feature names, but PowerTransformer was fitted without feature names\n",
      "  warnings.warn(\n"
     ]
    },
    {
     "name": "stdout",
     "output_type": "stream",
     "text": [
      "[LightGBM] [Info] Auto-choosing row-wise multi-threading, the overhead of testing was 0.002260 seconds.\n",
      "You can set `force_row_wise=true` to remove the overhead.\n",
      "And if memory is not enough, you can set `force_col_wise=true`.\n",
      "[LightGBM] [Info] Total Bins 366\n",
      "[LightGBM] [Info] Number of data points in the train set: 30156, number of used features: 32\n",
      "[LightGBM] [Info] Start training from score -0.000000\n",
      "[LightGBM] [Info] Auto-choosing row-wise multi-threading, the overhead of testing was 0.001440 seconds.\n",
      "You can set `force_row_wise=true` to remove the overhead.\n",
      "And if memory is not enough, you can set `force_col_wise=true`.\n",
      "[LightGBM] [Info] Total Bins 366\n",
      "[LightGBM] [Info] Number of data points in the train set: 24124, number of used features: 32\n",
      "[LightGBM] [Info] Start training from score 0.001943\n",
      "[LightGBM] [Info] Auto-choosing row-wise multi-threading, the overhead of testing was 0.001816 seconds.\n",
      "You can set `force_row_wise=true` to remove the overhead.\n",
      "And if memory is not enough, you can set `force_col_wise=true`.\n",
      "[LightGBM] [Info] Total Bins 366\n",
      "[LightGBM] [Info] Number of data points in the train set: 24125, number of used features: 32\n",
      "[LightGBM] [Info] Start training from score -0.000303\n",
      "[LightGBM] [Info] Auto-choosing row-wise multi-threading, the overhead of testing was 0.001890 seconds.\n",
      "You can set `force_row_wise=true` to remove the overhead.\n",
      "And if memory is not enough, you can set `force_col_wise=true`.\n",
      "[LightGBM] [Info] Total Bins 366\n",
      "[LightGBM] [Info] Number of data points in the train set: 24125, number of used features: 32\n",
      "[LightGBM] [Info] Start training from score -0.000848\n",
      "[LightGBM] [Info] Auto-choosing row-wise multi-threading, the overhead of testing was 0.001264 seconds.\n",
      "You can set `force_row_wise=true` to remove the overhead.\n",
      "And if memory is not enough, you can set `force_col_wise=true`.\n",
      "[LightGBM] [Info] Total Bins 366\n",
      "[LightGBM] [Info] Number of data points in the train set: 24125, number of used features: 32\n",
      "[LightGBM] [Info] Start training from score -0.000399\n",
      "[LightGBM] [Info] Auto-choosing col-wise multi-threading, the overhead of testing was 0.006130 seconds.\n",
      "You can set `force_col_wise=true` to remove the overhead.\n",
      "[LightGBM] [Info] Total Bins 366\n",
      "[LightGBM] [Info] Number of data points in the train set: 24125, number of used features: 32\n",
      "[LightGBM] [Info] Start training from score -0.000392\n"
     ]
    },
    {
     "name": "stderr",
     "output_type": "stream",
     "text": [
      "d:\\DSMP  cntd\\1. MLOPS\\3. MLOPs projects\\2. swiggy-delievery-time-prediction\\swiggy-delivery-time-prediction\\.venv\\Lib\\site-packages\\sklearn\\utils\\validation.py:2732: UserWarning: X has feature names, but LinearRegression was fitted without feature names\n",
      "  warnings.warn(\n",
      "d:\\DSMP  cntd\\1. MLOPS\\3. MLOPs projects\\2. swiggy-delievery-time-prediction\\swiggy-delivery-time-prediction\\.venv\\Lib\\site-packages\\sklearn\\utils\\validation.py:2732: UserWarning: X has feature names, but LinearRegression was fitted without feature names\n",
      "  warnings.warn(\n"
     ]
    }
   ],
   "source": [
    "regressor.fit(X_train_processed, y_train)\n",
    "y_pred_train= regressor.predict(X_train_processed)\n",
    "\n",
    "y_pred_test = regressor.predict(X_test_processed)"
   ]
  },
  {
   "cell_type": "code",
   "execution_count": 56,
   "id": "480af655",
   "metadata": {},
   "outputs": [
    {
     "name": "stderr",
     "output_type": "stream",
     "text": [
      "2025/07/15 12:16:35 WARNING mlflow.models.model: Model logged without a signature and input example. Please set `input_example` parameter when logging the model to auto infer the model signature.\n"
     ]
    },
    {
     "name": "stdout",
     "output_type": "stream",
     "text": [
      "🏃 View run best_model at: https://dagshub.com/vinayak910/swiggy-delivery-time-prediction.mlflow/#/experiments/9/runs/6d41968844e04fcdbc7493acb8db681d\n",
      "🧪 View experiment at: https://dagshub.com/vinayak910/swiggy-delivery-time-prediction.mlflow/#/experiments/9\n"
     ]
    }
   ],
   "source": [
    "import mlflow.sklearn\n",
    "\n",
    "\n",
    "with mlflow.start_run(run_name= \"best_model\"):\n",
    "    mlflow.log_param(\"meta_model\", \"LR\")\n",
    "    \n",
    "\n",
    "    mlflow.log_metric(\"test_mae\", mean_absolute_error(y_test , y_pred_test))\n",
    "    mlflow.log_metric(\"train_mae\", mean_absolute_error(y_train , y_pred_train))\n",
    "\n",
    "    mlflow.log_metric(\"train_r2\", r2_score(y_train , y_pred_train))\n",
    "    mlflow.log_metric(\"test_r2\", r2_score(y_test , y_pred_test))\n",
    "\n",
    "    mlflow.log_metric(\"best_score\",3.002233\t)\n",
    "    mlflow.sklearn.log_model(regressor,artifact_path=\"model\")"
   ]
  },
  {
   "cell_type": "code",
   "execution_count": null,
   "id": "74ba4f5b",
   "metadata": {},
   "outputs": [],
   "source": []
  }
 ],
 "metadata": {
  "kernelspec": {
   "display_name": ".venv",
   "language": "python",
   "name": "python3"
  },
  "language_info": {
   "codemirror_mode": {
    "name": "ipython",
    "version": 3
   },
   "file_extension": ".py",
   "mimetype": "text/x-python",
   "name": "python",
   "nbconvert_exporter": "python",
   "pygments_lexer": "ipython3",
   "version": "3.13.1"
  }
 },
 "nbformat": 4,
 "nbformat_minor": 5
}
